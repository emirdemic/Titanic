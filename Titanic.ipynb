{
 "cells": [
  {
   "cell_type": "markdown",
   "metadata": {},
   "source": [
    "# Titanic: Machine Learning from Disaster"
   ]
  },
  {
   "cell_type": "markdown",
   "metadata": {},
   "source": [
    "One of the most popular and known events is certainly the sinking of the magnificent Titanic on April 15, 1912 - the ship which was considered to be \"unsinkable\" at the time. Unfortunately, the Titanic sank after colliding with an iceberg which led to a death of 1502 out of 2224 passengers and crew. \n",
    "\n",
    "Surviving the collision was not purely the result of luck or chance - there were some factors which led to a more likely surviving of some passengers. Some of those factors include (and are certainly not limited to) gender and age, as we know from the popular movie depicting the disaster.\n",
    "\n",
    "The goal of this project is to explore dataset containing information on Titanic passengers and to build the model which would predict whether someone survived or not as accurate as possible. Furthermore, the model should give us an information on which factors were actually most important when the crew was determining who is going to be saved by lifeboats."
   ]
  },
  {
   "cell_type": "markdown",
   "metadata": {},
   "source": [
    "# Plan"
   ]
  },
  {
   "cell_type": "markdown",
   "metadata": {},
   "source": [
    "# Importing Libraries and Modules "
   ]
  },
  {
   "cell_type": "code",
   "execution_count": 1,
   "metadata": {},
   "outputs": [],
   "source": [
    "from warnings import simplefilter\n",
    "simplefilter(action = 'ignore', category = FutureWarning)\n",
    "import numpy as np\n",
    "import pandas as pd \n",
    "import plotly.express as px \n",
    "import plotly.graph_objects as go \n",
    "import plotly.io as pio \n",
    "import plotly.figure_factory as ff\n",
    "from plotly.subplots import make_subplots\n",
    "from pandas_profiling import ProfileReport\n",
    "import seaborn as sns\n",
    "import matplotlib.pyplot as plt\n",
    "from sklearn.metrics import matthews_corrcoef as phi\n",
    "import researchpy"
   ]
  },
  {
   "cell_type": "code",
   "execution_count": 2,
   "metadata": {},
   "outputs": [],
   "source": [
    "# Setting default settings for graphs\n",
    "pio.renderers.default = 'browser'\n",
    "pio.templates.default = 'simple_white'"
   ]
  },
  {
   "cell_type": "markdown",
   "metadata": {},
   "source": [
    "# 1. Exploring Data"
   ]
  },
  {
   "cell_type": "code",
   "execution_count": 3,
   "metadata": {},
   "outputs": [
    {
     "name": "stdout",
     "output_type": "stream",
     "text": [
      "<class 'pandas.core.frame.DataFrame'>\n",
      "RangeIndex: 891 entries, 0 to 890\n",
      "Data columns (total 12 columns):\n",
      " #   Column       Non-Null Count  Dtype  \n",
      "---  ------       --------------  -----  \n",
      " 0   PassengerId  891 non-null    int64  \n",
      " 1   Survived     891 non-null    int64  \n",
      " 2   Pclass       891 non-null    int64  \n",
      " 3   Name         891 non-null    object \n",
      " 4   Sex          891 non-null    object \n",
      " 5   Age          714 non-null    float64\n",
      " 6   SibSp        891 non-null    int64  \n",
      " 7   Parch        891 non-null    int64  \n",
      " 8   Ticket       891 non-null    object \n",
      " 9   Fare         891 non-null    float64\n",
      " 10  Cabin        204 non-null    object \n",
      " 11  Embarked     889 non-null    object \n",
      "dtypes: float64(2), int64(5), object(5)\n",
      "memory usage: 83.7+ KB\n"
     ]
    }
   ],
   "source": [
    "titanic = pd.read_csv('train.csv')\n",
    "titanic_copy = titanic.copy()\n",
    "titanic.info()"
   ]
  },
  {
   "cell_type": "code",
   "execution_count": 4,
   "metadata": {},
   "outputs": [
    {
     "data": {
      "text/html": [
       "<div>\n",
       "<style scoped>\n",
       "    .dataframe tbody tr th:only-of-type {\n",
       "        vertical-align: middle;\n",
       "    }\n",
       "\n",
       "    .dataframe tbody tr th {\n",
       "        vertical-align: top;\n",
       "    }\n",
       "\n",
       "    .dataframe thead th {\n",
       "        text-align: right;\n",
       "    }\n",
       "</style>\n",
       "<table border=\"1\" class=\"dataframe\">\n",
       "  <thead>\n",
       "    <tr style=\"text-align: right;\">\n",
       "      <th></th>\n",
       "      <th>PassengerId</th>\n",
       "      <th>Survived</th>\n",
       "      <th>Pclass</th>\n",
       "      <th>Name</th>\n",
       "      <th>Sex</th>\n",
       "      <th>Age</th>\n",
       "      <th>SibSp</th>\n",
       "      <th>Parch</th>\n",
       "      <th>Ticket</th>\n",
       "      <th>Fare</th>\n",
       "      <th>Cabin</th>\n",
       "      <th>Embarked</th>\n",
       "    </tr>\n",
       "  </thead>\n",
       "  <tbody>\n",
       "    <tr>\n",
       "      <th>0</th>\n",
       "      <td>1</td>\n",
       "      <td>0</td>\n",
       "      <td>3</td>\n",
       "      <td>Braund, Mr. Owen Harris</td>\n",
       "      <td>male</td>\n",
       "      <td>22.0</td>\n",
       "      <td>1</td>\n",
       "      <td>0</td>\n",
       "      <td>A/5 21171</td>\n",
       "      <td>7.2500</td>\n",
       "      <td>NaN</td>\n",
       "      <td>S</td>\n",
       "    </tr>\n",
       "    <tr>\n",
       "      <th>1</th>\n",
       "      <td>2</td>\n",
       "      <td>1</td>\n",
       "      <td>1</td>\n",
       "      <td>Cumings, Mrs. John Bradley (Florence Briggs Th...</td>\n",
       "      <td>female</td>\n",
       "      <td>38.0</td>\n",
       "      <td>1</td>\n",
       "      <td>0</td>\n",
       "      <td>PC 17599</td>\n",
       "      <td>71.2833</td>\n",
       "      <td>C85</td>\n",
       "      <td>C</td>\n",
       "    </tr>\n",
       "    <tr>\n",
       "      <th>2</th>\n",
       "      <td>3</td>\n",
       "      <td>1</td>\n",
       "      <td>3</td>\n",
       "      <td>Heikkinen, Miss. Laina</td>\n",
       "      <td>female</td>\n",
       "      <td>26.0</td>\n",
       "      <td>0</td>\n",
       "      <td>0</td>\n",
       "      <td>STON/O2. 3101282</td>\n",
       "      <td>7.9250</td>\n",
       "      <td>NaN</td>\n",
       "      <td>S</td>\n",
       "    </tr>\n",
       "    <tr>\n",
       "      <th>3</th>\n",
       "      <td>4</td>\n",
       "      <td>1</td>\n",
       "      <td>1</td>\n",
       "      <td>Futrelle, Mrs. Jacques Heath (Lily May Peel)</td>\n",
       "      <td>female</td>\n",
       "      <td>35.0</td>\n",
       "      <td>1</td>\n",
       "      <td>0</td>\n",
       "      <td>113803</td>\n",
       "      <td>53.1000</td>\n",
       "      <td>C123</td>\n",
       "      <td>S</td>\n",
       "    </tr>\n",
       "    <tr>\n",
       "      <th>4</th>\n",
       "      <td>5</td>\n",
       "      <td>0</td>\n",
       "      <td>3</td>\n",
       "      <td>Allen, Mr. William Henry</td>\n",
       "      <td>male</td>\n",
       "      <td>35.0</td>\n",
       "      <td>0</td>\n",
       "      <td>0</td>\n",
       "      <td>373450</td>\n",
       "      <td>8.0500</td>\n",
       "      <td>NaN</td>\n",
       "      <td>S</td>\n",
       "    </tr>\n",
       "  </tbody>\n",
       "</table>\n",
       "</div>"
      ],
      "text/plain": [
       "   PassengerId  Survived  Pclass  \\\n",
       "0            1         0       3   \n",
       "1            2         1       1   \n",
       "2            3         1       3   \n",
       "3            4         1       1   \n",
       "4            5         0       3   \n",
       "\n",
       "                                                Name     Sex   Age  SibSp  \\\n",
       "0                            Braund, Mr. Owen Harris    male  22.0      1   \n",
       "1  Cumings, Mrs. John Bradley (Florence Briggs Th...  female  38.0      1   \n",
       "2                             Heikkinen, Miss. Laina  female  26.0      0   \n",
       "3       Futrelle, Mrs. Jacques Heath (Lily May Peel)  female  35.0      1   \n",
       "4                           Allen, Mr. William Henry    male  35.0      0   \n",
       "\n",
       "   Parch            Ticket     Fare Cabin Embarked  \n",
       "0      0         A/5 21171   7.2500   NaN        S  \n",
       "1      0          PC 17599  71.2833   C85        C  \n",
       "2      0  STON/O2. 3101282   7.9250   NaN        S  \n",
       "3      0            113803  53.1000  C123        S  \n",
       "4      0            373450   8.0500   NaN        S  "
      ]
     },
     "execution_count": 4,
     "metadata": {},
     "output_type": "execute_result"
    }
   ],
   "source": [
    "titanic.head()"
   ]
  },
  {
   "cell_type": "markdown",
   "metadata": {},
   "source": [
    "The whole dataset was already split into trainining and testing data by Kaggle. Therefore, only training data were imported and there won't be a need for splitting data any further.\n",
    "\n",
    "By examining the columns and types, we can see that there are 12 features:\n",
    "\n",
    "1. PassengerId - ID of passenger (no NAs)\n",
    "2. Survived - Whether passenger survived or not (no NAs)\n",
    "3. Pclass - Ticket class: first, second, or third (no NAs)\n",
    "4. Name - Full passenger's name (no NAs)\n",
    "5. Sex - Whether passenger was male or female (no NAs)\n",
    "6. Age - Age in years (NAs present)\n",
    "7. SibSp - The number of siblings/spouses aboard the Titanic (no NAs)\n",
    "8. Parch - The number of parents/children aboard the Titanic (no NAs)\n",
    "9. Ticket - Ticket number (no NAs)\n",
    "10. Fare - Passenger fare (no NAs)\n",
    "11. Cabin - Cabin number (NAs present)\n",
    "12. Embarked - Port of Embarkation: Cherbourg, Queenstown, or Southampton (NAs present)\n",
    "\n",
    "Furthermore, we can see that only a few features have missing values, and those are *Age*, *Cabin number*, and *Port of Embarkation*. \n",
    "\n",
    "This section named **Exploring data** will be separated into subsections:\n",
    "\n",
    "1. Excluding Outliers\n",
    "2. Handling Missing Values\n",
    "3. Excluding Irrelevant Features \n",
    "4. Visualizing Distributions"
   ]
  },
  {
   "cell_type": "markdown",
   "metadata": {},
   "source": [
    "## 1.1. Excluding Outliers"
   ]
  },
  {
   "cell_type": "markdown",
   "metadata": {},
   "source": [
    "Detecting and excluding outliers is a really important part of every project, since they can distort the final predictions. There are many ways to conclude whether an observation is an outlier value or not. Fidell & Tabachnik (2003) suggest using a Z value of |3.29| when we do not have a strong theoretical basis for any other approach. However, that approach often fails to detect outliers, since outliers impact standard deviation and Z values can be inflated. \n",
    "\n",
    "Therefore, we opt for an more robust approach of inter-quartile range, also known as Tukey's method. There are a total of four different numerical features that could be examined for outliers - *Age, SibSp, Parch,* and *Fare*. However, we are going to examine only Age and Fare here for one simple reason - SibSp and Parch can be combined into a new feature which could indicate how big the family is. Furthermore, we can observe the rank of these features and see that *SibSp* and *Parch* have restricted ranks, which mean that their variance probably is small and therefore not very useful for final predictions. If we exclude outliers for those features, we will remain with a little information that could be extracted from these features. However, combining those two features could help in overcoming that problem or could lead to discretizyng the feature in several different categories."
   ]
  },
  {
   "cell_type": "code",
   "execution_count": 5,
   "metadata": {},
   "outputs": [
    {
     "name": "stdout",
     "output_type": "stream",
     "text": [
      "Rank for Siblings and/or Spuses is 8\n",
      "Rank for Parents and/or Children is 6\n"
     ]
    }
   ],
   "source": [
    "print('Rank for Siblings and/or Spuses is', titanic['SibSp'].max() - titanic['SibSp'].min())\n",
    "print('Rank for Parents and/or Children is', titanic['Parch'].max() - titanic['Parch'].min())"
   ]
  },
  {
   "cell_type": "code",
   "execution_count": 6,
   "metadata": {},
   "outputs": [],
   "source": [
    "def outliers(df, column, new_column):\n",
    "    \"\"\"Detects outliers and appends as a new column to the dataset.\n",
    "\n",
    "    Args:\n",
    "        df (pandas DataFrame): Dataframe with relevant feature\n",
    "        column (pandas Series): Feature in focus\n",
    "        new_column (str): The name of the new feature\n",
    "    \n",
    "    Returns:\n",
    "        pandas Series\n",
    "    \"\"\"\n",
    "    q1 = np.percentile(df[column], 25)\n",
    "    q3 = np.percentile(df[column], 75)\n",
    "    iqr = q3 - q1\n",
    "    \n",
    "    # Multiplying iqr by 3 to get lower and upper outer boundaries\n",
    "    outer = iqr * 3\n",
    "    lower = q1 - outer\n",
    "    upper = q3 + outer\n",
    "    # Identifying outliers\n",
    "    for index, value in titanic[column].items():\n",
    "        if value < lower:\n",
    "            titanic.loc[index, new_column] = 1\n",
    "        elif value > upper:\n",
    "            titanic.loc[index, new_column] = 1\n",
    "        else:\n",
    "            titanic.loc[index, new_column] = 0\n",
    "    return titanic"
   ]
  },
  {
   "cell_type": "code",
   "execution_count": 7,
   "metadata": {},
   "outputs": [],
   "source": [
    "# Saving outliers\n",
    "titanic = outliers(titanic, 'Age', 'Age_outliers')\n",
    "titanic = outliers(titanic, 'Fare', 'Fare_outliers')"
   ]
  },
  {
   "cell_type": "code",
   "execution_count": 8,
   "metadata": {},
   "outputs": [
    {
     "name": "stdout",
     "output_type": "stream",
     "text": [
      "A total number of outlying values for Age is 0.0\n",
      "A total number of outlying values for Fare is 53.0\n"
     ]
    }
   ],
   "source": [
    "print('A total number of outlying values for Age is', titanic['Age_outliers'].sum())\n",
    "print('A total number of outlying values for Fare is', titanic['Fare_outliers'].sum())"
   ]
  },
  {
   "cell_type": "code",
   "execution_count": 9,
   "metadata": {},
   "outputs": [
    {
     "data": {
      "text/html": [
       "<div>\n",
       "<style scoped>\n",
       "    .dataframe tbody tr th:only-of-type {\n",
       "        vertical-align: middle;\n",
       "    }\n",
       "\n",
       "    .dataframe tbody tr th {\n",
       "        vertical-align: top;\n",
       "    }\n",
       "\n",
       "    .dataframe thead th {\n",
       "        text-align: right;\n",
       "    }\n",
       "</style>\n",
       "<table border=\"1\" class=\"dataframe\">\n",
       "  <thead>\n",
       "    <tr style=\"text-align: right;\">\n",
       "      <th></th>\n",
       "      <th>PassengerId</th>\n",
       "      <th>Survived</th>\n",
       "      <th>Pclass</th>\n",
       "      <th>Name</th>\n",
       "      <th>Sex</th>\n",
       "      <th>Age</th>\n",
       "      <th>SibSp</th>\n",
       "      <th>Parch</th>\n",
       "      <th>Ticket</th>\n",
       "      <th>Fare</th>\n",
       "      <th>Cabin</th>\n",
       "      <th>Embarked</th>\n",
       "    </tr>\n",
       "  </thead>\n",
       "  <tbody>\n",
       "    <tr>\n",
       "      <th>0</th>\n",
       "      <td>1</td>\n",
       "      <td>0</td>\n",
       "      <td>3</td>\n",
       "      <td>Braund, Mr. Owen Harris</td>\n",
       "      <td>male</td>\n",
       "      <td>22.0</td>\n",
       "      <td>1</td>\n",
       "      <td>0</td>\n",
       "      <td>A/5 21171</td>\n",
       "      <td>7.2500</td>\n",
       "      <td>NaN</td>\n",
       "      <td>S</td>\n",
       "    </tr>\n",
       "    <tr>\n",
       "      <th>1</th>\n",
       "      <td>2</td>\n",
       "      <td>1</td>\n",
       "      <td>1</td>\n",
       "      <td>Cumings, Mrs. John Bradley (Florence Briggs Th...</td>\n",
       "      <td>female</td>\n",
       "      <td>38.0</td>\n",
       "      <td>1</td>\n",
       "      <td>0</td>\n",
       "      <td>PC 17599</td>\n",
       "      <td>71.2833</td>\n",
       "      <td>C85</td>\n",
       "      <td>C</td>\n",
       "    </tr>\n",
       "    <tr>\n",
       "      <th>2</th>\n",
       "      <td>3</td>\n",
       "      <td>1</td>\n",
       "      <td>3</td>\n",
       "      <td>Heikkinen, Miss. Laina</td>\n",
       "      <td>female</td>\n",
       "      <td>26.0</td>\n",
       "      <td>0</td>\n",
       "      <td>0</td>\n",
       "      <td>STON/O2. 3101282</td>\n",
       "      <td>7.9250</td>\n",
       "      <td>NaN</td>\n",
       "      <td>S</td>\n",
       "    </tr>\n",
       "    <tr>\n",
       "      <th>3</th>\n",
       "      <td>4</td>\n",
       "      <td>1</td>\n",
       "      <td>1</td>\n",
       "      <td>Futrelle, Mrs. Jacques Heath (Lily May Peel)</td>\n",
       "      <td>female</td>\n",
       "      <td>35.0</td>\n",
       "      <td>1</td>\n",
       "      <td>0</td>\n",
       "      <td>113803</td>\n",
       "      <td>53.1000</td>\n",
       "      <td>C123</td>\n",
       "      <td>S</td>\n",
       "    </tr>\n",
       "    <tr>\n",
       "      <th>4</th>\n",
       "      <td>5</td>\n",
       "      <td>0</td>\n",
       "      <td>3</td>\n",
       "      <td>Allen, Mr. William Henry</td>\n",
       "      <td>male</td>\n",
       "      <td>35.0</td>\n",
       "      <td>0</td>\n",
       "      <td>0</td>\n",
       "      <td>373450</td>\n",
       "      <td>8.0500</td>\n",
       "      <td>NaN</td>\n",
       "      <td>S</td>\n",
       "    </tr>\n",
       "  </tbody>\n",
       "</table>\n",
       "</div>"
      ],
      "text/plain": [
       "   PassengerId  Survived  Pclass  \\\n",
       "0            1         0       3   \n",
       "1            2         1       1   \n",
       "2            3         1       3   \n",
       "3            4         1       1   \n",
       "4            5         0       3   \n",
       "\n",
       "                                                Name     Sex   Age  SibSp  \\\n",
       "0                            Braund, Mr. Owen Harris    male  22.0      1   \n",
       "1  Cumings, Mrs. John Bradley (Florence Briggs Th...  female  38.0      1   \n",
       "2                             Heikkinen, Miss. Laina  female  26.0      0   \n",
       "3       Futrelle, Mrs. Jacques Heath (Lily May Peel)  female  35.0      1   \n",
       "4                           Allen, Mr. William Henry    male  35.0      0   \n",
       "\n",
       "   Parch            Ticket     Fare Cabin Embarked  \n",
       "0      0         A/5 21171   7.2500   NaN        S  \n",
       "1      0          PC 17599  71.2833   C85        C  \n",
       "2      0  STON/O2. 3101282   7.9250   NaN        S  \n",
       "3      0            113803  53.1000  C123        S  \n",
       "4      0            373450   8.0500   NaN        S  "
      ]
     },
     "execution_count": 9,
     "metadata": {},
     "output_type": "execute_result"
    }
   ],
   "source": [
    "# Excluding outliers for Fare feature\n",
    "titanic = titanic.loc[titanic['Fare_outliers'] == 0, :]\n",
    "titanic = titanic.drop(columns = ['Age_outliers', 'Fare_outliers'])\n",
    "titanic.head()"
   ]
  },
  {
   "cell_type": "code",
   "execution_count": 10,
   "metadata": {},
   "outputs": [
    {
     "data": {
      "text/plain": [
       "838"
      ]
     },
     "execution_count": 10,
     "metadata": {},
     "output_type": "execute_result"
    }
   ],
   "source": [
    "# Number of training instances after excluding outliers\n",
    "titanic.iloc[:, 1].size"
   ]
  },
  {
   "cell_type": "markdown",
   "metadata": {},
   "source": [
    "## 1.2. Handling Missing Data"
   ]
  },
  {
   "cell_type": "markdown",
   "metadata": {},
   "source": [
    "Before we correct missing values in training set, we should check the test set as well in order to see whether the pattern of missing values is similar. In other words, the problem could occur if we develop a model based on features which have a lot of missing values in testing set."
   ]
  },
  {
   "cell_type": "code",
   "execution_count": 11,
   "metadata": {},
   "outputs": [
    {
     "name": "stdout",
     "output_type": "stream",
     "text": [
      "<class 'pandas.core.frame.DataFrame'>\n",
      "RangeIndex: 418 entries, 0 to 417\n",
      "Data columns (total 11 columns):\n",
      " #   Column       Non-Null Count  Dtype  \n",
      "---  ------       --------------  -----  \n",
      " 0   PassengerId  418 non-null    int64  \n",
      " 1   Pclass       418 non-null    int64  \n",
      " 2   Name         418 non-null    object \n",
      " 3   Sex          418 non-null    object \n",
      " 4   Age          332 non-null    float64\n",
      " 5   SibSp        418 non-null    int64  \n",
      " 6   Parch        418 non-null    int64  \n",
      " 7   Ticket       418 non-null    object \n",
      " 8   Fare         417 non-null    float64\n",
      " 9   Cabin        91 non-null     object \n",
      " 10  Embarked     418 non-null    object \n",
      "dtypes: float64(2), int64(4), object(5)\n",
      "memory usage: 36.0+ KB\n"
     ]
    }
   ],
   "source": [
    "titanic_test = pd.read_csv('test.csv')\n",
    "titanic_test.info()"
   ]
  },
  {
   "cell_type": "markdown",
   "metadata": {},
   "source": [
    "By observing the output of the previous line, we can conclude that the missing values pattern is similar - *Age*, *Cabin*, and *Fare* have missing values (with *Fare* having only one missing value!). Therefore, we can continue with handling missing data from the training set!\n",
    "\n",
    "Let us deal firstly with the feature *Embarked* since it has only two missing values. Since the number of missing values is small and the feature is categorial, the best solution is to input the mode value for missing values."
   ]
  },
  {
   "cell_type": "code",
   "execution_count": 12,
   "metadata": {},
   "outputs": [
    {
     "data": {
      "text/plain": [
       "count     836\n",
       "unique      3\n",
       "top         S\n",
       "freq      620\n",
       "Name: Embarked, dtype: object"
      ]
     },
     "execution_count": 12,
     "metadata": {},
     "output_type": "execute_result"
    }
   ],
   "source": [
    "titanic['Embarked'].describe()"
   ]
  },
  {
   "cell_type": "code",
   "execution_count": 13,
   "metadata": {},
   "outputs": [
    {
     "data": {
      "text/plain": [
       "0"
      ]
     },
     "execution_count": 13,
     "metadata": {},
     "output_type": "execute_result"
    }
   ],
   "source": [
    "titanic.loc[titanic['Embarked'].isnull(), 'Embarked'] = 'S'\n",
    "titanic['Embarked'].isnull().sum()"
   ]
  },
  {
   "cell_type": "markdown",
   "metadata": {},
   "source": [
    "Now, let us explore *Age* feature and conclude what is the best way to handle the missing data."
   ]
  },
  {
   "cell_type": "code",
   "execution_count": 14,
   "metadata": {},
   "outputs": [
    {
     "data": {
      "text/plain": [
       "count    666.000000\n",
       "mean      29.536411\n",
       "std       14.522137\n",
       "min        0.420000\n",
       "25%       20.000000\n",
       "50%       28.000000\n",
       "75%       38.000000\n",
       "max       80.000000\n",
       "Name: Age, dtype: float64"
      ]
     },
     "execution_count": 14,
     "metadata": {},
     "output_type": "execute_result"
    }
   ],
   "source": [
    "titanic['Age'].describe()"
   ]
  },
  {
   "cell_type": "markdown",
   "metadata": {},
   "source": [
    "We can see that the average age was around 30, while the median (50th percentile) is 28, which means passengers were particularly young. However, there is a minimum value of 0.42, which is a bit confusing since the age is coded as years, not as months. However, maybe that was a baby and they actually got the information on how many months the baby was old. Let us explore whether that was the case."
   ]
  },
  {
   "cell_type": "code",
   "execution_count": 15,
   "metadata": {},
   "outputs": [
    {
     "data": {
      "text/plain": [
       "6"
      ]
     },
     "execution_count": 15,
     "metadata": {},
     "output_type": "execute_result"
    }
   ],
   "source": [
    "sum(titanic['Age'] < 1)"
   ]
  },
  {
   "cell_type": "markdown",
   "metadata": {},
   "source": [
    "There was a total of 6 passengers that were not even one year old. A quick Google search reveiled that there actually were some babies on board (https://www.theguardian.com/world/2009/jun/01/last-titanic-survivor-dies). Therefore, we are not going to exclude these observations for now. Nevertheless, let us explore the correlation between age and other variables! Maybe we can input missing features based on predictions rather on the mean value. For those purposes, we are going to use Linear Regression while obtaining R squared measure and F statistic as well."
   ]
  },
  {
   "cell_type": "code",
   "execution_count": 16,
   "metadata": {},
   "outputs": [
    {
     "data": {
      "text/html": [
       "<div>\n",
       "<style scoped>\n",
       "    .dataframe tbody tr th:only-of-type {\n",
       "        vertical-align: middle;\n",
       "    }\n",
       "\n",
       "    .dataframe tbody tr th {\n",
       "        vertical-align: top;\n",
       "    }\n",
       "\n",
       "    .dataframe thead th {\n",
       "        text-align: right;\n",
       "    }\n",
       "</style>\n",
       "<table border=\"1\" class=\"dataframe\">\n",
       "  <thead>\n",
       "    <tr style=\"text-align: right;\">\n",
       "      <th></th>\n",
       "      <th>Survived</th>\n",
       "      <th>Sex</th>\n",
       "      <th>Age</th>\n",
       "      <th>SibSp</th>\n",
       "      <th>Parch</th>\n",
       "      <th>Fare</th>\n",
       "      <th>Pclass_2</th>\n",
       "      <th>Pclass_3</th>\n",
       "      <th>Embarked_Q</th>\n",
       "      <th>Embarked_S</th>\n",
       "    </tr>\n",
       "  </thead>\n",
       "  <tbody>\n",
       "    <tr>\n",
       "      <th>0</th>\n",
       "      <td>0</td>\n",
       "      <td>1</td>\n",
       "      <td>22.0</td>\n",
       "      <td>1</td>\n",
       "      <td>0</td>\n",
       "      <td>7.2500</td>\n",
       "      <td>0</td>\n",
       "      <td>1</td>\n",
       "      <td>0</td>\n",
       "      <td>1</td>\n",
       "    </tr>\n",
       "    <tr>\n",
       "      <th>1</th>\n",
       "      <td>1</td>\n",
       "      <td>2</td>\n",
       "      <td>38.0</td>\n",
       "      <td>1</td>\n",
       "      <td>0</td>\n",
       "      <td>71.2833</td>\n",
       "      <td>0</td>\n",
       "      <td>0</td>\n",
       "      <td>0</td>\n",
       "      <td>0</td>\n",
       "    </tr>\n",
       "    <tr>\n",
       "      <th>2</th>\n",
       "      <td>1</td>\n",
       "      <td>2</td>\n",
       "      <td>26.0</td>\n",
       "      <td>0</td>\n",
       "      <td>0</td>\n",
       "      <td>7.9250</td>\n",
       "      <td>0</td>\n",
       "      <td>1</td>\n",
       "      <td>0</td>\n",
       "      <td>1</td>\n",
       "    </tr>\n",
       "    <tr>\n",
       "      <th>3</th>\n",
       "      <td>1</td>\n",
       "      <td>2</td>\n",
       "      <td>35.0</td>\n",
       "      <td>1</td>\n",
       "      <td>0</td>\n",
       "      <td>53.1000</td>\n",
       "      <td>0</td>\n",
       "      <td>0</td>\n",
       "      <td>0</td>\n",
       "      <td>1</td>\n",
       "    </tr>\n",
       "    <tr>\n",
       "      <th>4</th>\n",
       "      <td>0</td>\n",
       "      <td>1</td>\n",
       "      <td>35.0</td>\n",
       "      <td>0</td>\n",
       "      <td>0</td>\n",
       "      <td>8.0500</td>\n",
       "      <td>0</td>\n",
       "      <td>1</td>\n",
       "      <td>0</td>\n",
       "      <td>1</td>\n",
       "    </tr>\n",
       "  </tbody>\n",
       "</table>\n",
       "</div>"
      ],
      "text/plain": [
       "   Survived  Sex   Age  SibSp  Parch     Fare  Pclass_2  Pclass_3  Embarked_Q  \\\n",
       "0         0    1  22.0      1      0   7.2500         0         1           0   \n",
       "1         1    2  38.0      1      0  71.2833         0         0           0   \n",
       "2         1    2  26.0      0      0   7.9250         0         1           0   \n",
       "3         1    2  35.0      1      0  53.1000         0         0           0   \n",
       "4         0    1  35.0      0      0   8.0500         0         1           0   \n",
       "\n",
       "   Embarked_S  \n",
       "0           1  \n",
       "1           0  \n",
       "2           1  \n",
       "3           1  \n",
       "4           1  "
      ]
     },
     "execution_count": 16,
     "metadata": {},
     "output_type": "execute_result"
    }
   ],
   "source": [
    "# Encoding sex as numerical feature\n",
    "titanic.loc[titanic['Sex'] == 'male', 'Sex'] = 1\n",
    "titanic.loc[titanic['Sex'] == 'female', 'Sex'] = 2\n",
    "titanic['Sex'] = titanic['Sex'].astype(int)\n",
    "titanic['Sex'].unique()\n",
    "\n",
    "# Saving only features useful for the actual predictions\n",
    "titanic_age = titanic[['Survived', 'Pclass', 'Sex', 'Age', 'SibSp', 'Parch', 'Fare', 'Embarked']]\n",
    "titanic_age = pd.get_dummies(titanic_age, columns = ['Pclass', 'Embarked'], drop_first = True)\n",
    "titanic_age.head()"
   ]
  },
  {
   "cell_type": "code",
   "execution_count": 17,
   "metadata": {},
   "outputs": [
    {
     "name": "stdout",
     "output_type": "stream",
     "text": [
      "OLS Regression Results                                \n",
      "=======================================================================================\n",
      "Dep. Variable:                    Age   R-squared (uncentered):                   0.807\n",
      "Model:                            OLS   Adj. R-squared (uncentered):              0.804\n",
      "Method:                 Least Squares   F-statistic:                              305.2\n",
      "Date:                Wed, 17 Jun 2020   Prob (F-statistic):                   5.40e-228\n",
      "Time:                        23:08:44   Log-Likelihood:                         -2724.0\n",
      "No. Observations:                 666   AIC:                                      5466.\n",
      "Df Residuals:                     657   BIC:                                      5507.\n",
      "Df Model:                           9                                                  \n",
      "Covariance Type:            nonrobust                                                  \n",
      "==============================================================================\n",
      "                 coef    std err          t      P>|t|      [0.025      0.975]\n",
      "------------------------------------------------------------------------------\n",
      "Survived      -7.5873      1.447     -5.244      0.000     -10.428      -4.747\n",
      "Sex            9.1963      1.313      7.002      0.000       6.617      11.775\n",
      "SibSp         -6.3117      0.696     -9.067      0.000      -7.679      -4.945\n",
      "Parch         -3.2966      0.757     -4.354      0.000      -4.783      -1.810\n",
      "Fare           0.3971      0.034     11.722      0.000       0.331       0.464\n",
      "Pclass_2       4.9258      1.859      2.650      0.008       1.276       8.576\n",
      "Pclass_3       4.4605      1.780      2.506      0.012       0.965       7.956\n",
      "Embarked_Q    11.7208      3.136      3.737      0.000       5.562      17.879\n",
      "Embarked_S    12.0155      1.491      8.058      0.000       9.088      14.943\n",
      "==============================================================================\n",
      "Omnibus:                       15.403   Durbin-Watson:                   1.883\n",
      "Prob(Omnibus):                  0.000   Jarque-Bera (JB):               15.976\n",
      "Skew:                           0.347   Prob(JB):                     0.000340\n",
      "Kurtosis:                       3.306   Cond. No.                         189.\n",
      "==============================================================================\n",
      "\n",
      "Warnings:\n",
      "[1] Standard Errors assume that the covariance matrix of the errors is correctly specified.\n"
     ]
    }
   ],
   "source": [
    "import statsmodels.api as sm\n",
    "\n",
    "# Dropping PassengerId feature since it is not informative in any way\n",
    "X = titanic_age.dropna()[['Survived', 'Sex', 'SibSp', 'Parch', 'Fare', 'Pclass_2', 'Pclass_3', 'Embarked_Q', 'Embarked_S']]\n",
    "y = titanic_age.dropna()[\"Age\"]\n",
    "\n",
    "model = sm.OLS(y, X).fit()\n",
    "\n",
    "# Print out the statistics\n",
    "print(model.summary())"
   ]
  },
  {
   "cell_type": "markdown",
   "metadata": {},
   "source": [
    "We can see that Adjusted R-Squared is pretty high (0.804), which means that we can explain around 80% of Age variance. Hence, we can use the predictions of this model to input missing values, since those will be considerably better than using just the mean values. Even though the model was not cross-validated, the predictions are going to be better than simply inputting mean values."
   ]
  },
  {
   "cell_type": "code",
   "execution_count": 18,
   "metadata": {},
   "outputs": [
    {
     "data": {
      "text/plain": [
       "5     28.735943\n",
       "17    23.712008\n",
       "19    18.134434\n",
       "26    16.525483\n",
       "28    30.114961\n",
       "dtype: float64"
      ]
     },
     "execution_count": 18,
     "metadata": {},
     "output_type": "execute_result"
    }
   ],
   "source": [
    "# Predicting missing values for age\n",
    "missing_age = titanic_age[titanic_age['Age'].isnull()]['Age']\n",
    "predicting_age = titanic_age[titanic_age['Age'].isnull()][['Survived', 'Sex', 'SibSp', 'Parch', 'Fare', 'Pclass_2', 'Pclass_3', 'Embarked_Q', 'Embarked_S']]\n",
    "missing_age = model.predict(predicting_age)\n",
    "missing_age.head()"
   ]
  },
  {
   "cell_type": "code",
   "execution_count": 19,
   "metadata": {},
   "outputs": [
    {
     "data": {
      "text/plain": [
       "0"
      ]
     },
     "execution_count": 19,
     "metadata": {},
     "output_type": "execute_result"
    }
   ],
   "source": [
    "# Assigning predictions of missing age values\n",
    "titanic.loc[titanic['Age'].isnull(), 'Age'] = missing_age\n",
    "titanic['Age'].isnull().sum()"
   ]
  },
  {
   "cell_type": "markdown",
   "metadata": {},
   "source": [
    "Since we have finished handling missing values for *Age* feature, we can move onto *Cabin* feature. \n",
    "\n",
    "*Cabin* has only 161 non-missing values, which means that roughly 75% of the values are actuall missing, which is not a promising start. Before excluding it, let us explore it a bit."
   ]
  },
  {
   "cell_type": "code",
   "execution_count": 20,
   "metadata": {},
   "outputs": [
    {
     "data": {
      "text/plain": [
       "count     161\n",
       "unique    120\n",
       "top        G6\n",
       "freq        4\n",
       "Name: Cabin, dtype: object"
      ]
     },
     "execution_count": 20,
     "metadata": {},
     "output_type": "execute_result"
    }
   ],
   "source": [
    "titanic['Cabin'].describe()"
   ]
  },
  {
   "cell_type": "markdown",
   "metadata": {},
   "source": [
    "A total of 120 unique values are present! That means that even if we keep this feature as it is, we will have a total of 1119 predicting features in our model after dummy coding! \n",
    "\n",
    "Furthermore, the total number of staterooms (suites, cabins, and dormitories) were 840 (source: https://titanicfacts.net/life-on-the-titanic/). That means that even if we approximate missing values, we would still operate within the known values which could systematically distort the final predictions. In other words, we don't know if any of the reamining cabins are actually the same ones we already have in our dataset.\n",
    "\n",
    "After a short internet research, we can even see how the present values were obtained. The only authoritative source of cabin data was the incomplete first class passenger \n",
    "list recovered with the body of stewart Herbert Cave (source: https://www.encyclopedia-titanica.org/cabins.html), which means the information on cabins is systematically distorted. \n",
    "\n",
    "Furthermore, we cannot know for sure whether missing values indicate some other cabins or the fact that the passenger did not have a cabin. Therefore, it is best to exclude it for now, since predictions could be biased and unreliable."
   ]
  },
  {
   "cell_type": "code",
   "execution_count": 21,
   "metadata": {},
   "outputs": [
    {
     "data": {
      "text/html": [
       "<div>\n",
       "<style scoped>\n",
       "    .dataframe tbody tr th:only-of-type {\n",
       "        vertical-align: middle;\n",
       "    }\n",
       "\n",
       "    .dataframe tbody tr th {\n",
       "        vertical-align: top;\n",
       "    }\n",
       "\n",
       "    .dataframe thead th {\n",
       "        text-align: right;\n",
       "    }\n",
       "</style>\n",
       "<table border=\"1\" class=\"dataframe\">\n",
       "  <thead>\n",
       "    <tr style=\"text-align: right;\">\n",
       "      <th></th>\n",
       "      <th>PassengerId</th>\n",
       "      <th>Survived</th>\n",
       "      <th>Pclass</th>\n",
       "      <th>Name</th>\n",
       "      <th>Sex</th>\n",
       "      <th>Age</th>\n",
       "      <th>SibSp</th>\n",
       "      <th>Parch</th>\n",
       "      <th>Ticket</th>\n",
       "      <th>Fare</th>\n",
       "      <th>Embarked</th>\n",
       "    </tr>\n",
       "  </thead>\n",
       "  <tbody>\n",
       "    <tr>\n",
       "      <th>0</th>\n",
       "      <td>1</td>\n",
       "      <td>0</td>\n",
       "      <td>3</td>\n",
       "      <td>Braund, Mr. Owen Harris</td>\n",
       "      <td>1</td>\n",
       "      <td>22.0</td>\n",
       "      <td>1</td>\n",
       "      <td>0</td>\n",
       "      <td>A/5 21171</td>\n",
       "      <td>7.2500</td>\n",
       "      <td>S</td>\n",
       "    </tr>\n",
       "    <tr>\n",
       "      <th>1</th>\n",
       "      <td>2</td>\n",
       "      <td>1</td>\n",
       "      <td>1</td>\n",
       "      <td>Cumings, Mrs. John Bradley (Florence Briggs Th...</td>\n",
       "      <td>2</td>\n",
       "      <td>38.0</td>\n",
       "      <td>1</td>\n",
       "      <td>0</td>\n",
       "      <td>PC 17599</td>\n",
       "      <td>71.2833</td>\n",
       "      <td>C</td>\n",
       "    </tr>\n",
       "    <tr>\n",
       "      <th>2</th>\n",
       "      <td>3</td>\n",
       "      <td>1</td>\n",
       "      <td>3</td>\n",
       "      <td>Heikkinen, Miss. Laina</td>\n",
       "      <td>2</td>\n",
       "      <td>26.0</td>\n",
       "      <td>0</td>\n",
       "      <td>0</td>\n",
       "      <td>STON/O2. 3101282</td>\n",
       "      <td>7.9250</td>\n",
       "      <td>S</td>\n",
       "    </tr>\n",
       "    <tr>\n",
       "      <th>3</th>\n",
       "      <td>4</td>\n",
       "      <td>1</td>\n",
       "      <td>1</td>\n",
       "      <td>Futrelle, Mrs. Jacques Heath (Lily May Peel)</td>\n",
       "      <td>2</td>\n",
       "      <td>35.0</td>\n",
       "      <td>1</td>\n",
       "      <td>0</td>\n",
       "      <td>113803</td>\n",
       "      <td>53.1000</td>\n",
       "      <td>S</td>\n",
       "    </tr>\n",
       "    <tr>\n",
       "      <th>4</th>\n",
       "      <td>5</td>\n",
       "      <td>0</td>\n",
       "      <td>3</td>\n",
       "      <td>Allen, Mr. William Henry</td>\n",
       "      <td>1</td>\n",
       "      <td>35.0</td>\n",
       "      <td>0</td>\n",
       "      <td>0</td>\n",
       "      <td>373450</td>\n",
       "      <td>8.0500</td>\n",
       "      <td>S</td>\n",
       "    </tr>\n",
       "  </tbody>\n",
       "</table>\n",
       "</div>"
      ],
      "text/plain": [
       "   PassengerId  Survived  Pclass  \\\n",
       "0            1         0       3   \n",
       "1            2         1       1   \n",
       "2            3         1       3   \n",
       "3            4         1       1   \n",
       "4            5         0       3   \n",
       "\n",
       "                                                Name  Sex   Age  SibSp  Parch  \\\n",
       "0                            Braund, Mr. Owen Harris    1  22.0      1      0   \n",
       "1  Cumings, Mrs. John Bradley (Florence Briggs Th...    2  38.0      1      0   \n",
       "2                             Heikkinen, Miss. Laina    2  26.0      0      0   \n",
       "3       Futrelle, Mrs. Jacques Heath (Lily May Peel)    2  35.0      1      0   \n",
       "4                           Allen, Mr. William Henry    1  35.0      0      0   \n",
       "\n",
       "             Ticket     Fare Embarked  \n",
       "0         A/5 21171   7.2500        S  \n",
       "1          PC 17599  71.2833        C  \n",
       "2  STON/O2. 3101282   7.9250        S  \n",
       "3            113803  53.1000        S  \n",
       "4            373450   8.0500        S  "
      ]
     },
     "execution_count": 21,
     "metadata": {},
     "output_type": "execute_result"
    }
   ],
   "source": [
    "titanic = titanic.drop(columns = 'Cabin')\n",
    "titanic.head()"
   ]
  },
  {
   "cell_type": "markdown",
   "metadata": {},
   "source": [
    "## 1.3. Excluding Irrelevant Features"
   ]
  },
  {
   "cell_type": "markdown",
   "metadata": {},
   "source": [
    "Before continuing with further exploration of data, we should make a checkpoint of the current dataset and the feature relevance. \n",
    "After excluding *Class* feature, we are left with 11 other features - *PassengerId, Survived, Pclass, Name, Sex, Age, SibSp, Parch, Ticket, Fare,* and *Embarked*. Let us quickly assess whether some features are useful at all.\n",
    "\n",
    "- *PassengerId* is in no way useful, since it just contains values ranging from 1 to 891. Therefore, we can **exclude PassengerId** as well."
   ]
  },
  {
   "cell_type": "code",
   "execution_count": 22,
   "metadata": {},
   "outputs": [],
   "source": [
    "titanic = titanic.drop(columns = ['PassengerId'])"
   ]
  },
  {
   "cell_type": "markdown",
   "metadata": {},
   "source": [
    "- *Ticket* feature is pretty similar to *PassengerId* - it contains values that are not meaningful and entirely depend on the system for generating ticket numbers. Therefore, we can safely **exclude Ticket** as well!"
   ]
  },
  {
   "cell_type": "code",
   "execution_count": 23,
   "metadata": {},
   "outputs": [],
   "source": [
    "titanic = titanic.drop(columns = ['Ticket'])"
   ]
  },
  {
   "cell_type": "markdown",
   "metadata": {},
   "source": [
    "- *Name* feature could potentially be useful since it contains information on whether someone was male or female or had some important title. However, we already have information on gender. As for the important titles, we should firstly check whether their frequency would indicate that we are dealing with outliers - in which case, the whole variable should be excluded as well."
   ]
  },
  {
   "cell_type": "code",
   "execution_count": 24,
   "metadata": {},
   "outputs": [
    {
     "data": {
      "text/plain": [
       "0                                Braund, Mr. Owen Harris\n",
       "1      Cumings, Mrs. John Bradley (Florence Briggs Th...\n",
       "2                                 Heikkinen, Miss. Laina\n",
       "3           Futrelle, Mrs. Jacques Heath (Lily May Peel)\n",
       "4                               Allen, Mr. William Henry\n",
       "                             ...                        \n",
       "886                                Montvila, Rev. Juozas\n",
       "887                         Graham, Miss. Margaret Edith\n",
       "888             Johnston, Miss. Catherine Helen \"Carrie\"\n",
       "889                                Behr, Mr. Karl Howell\n",
       "890                                  Dooley, Mr. Patrick\n",
       "Name: Name, Length: 838, dtype: object"
      ]
     },
     "execution_count": 24,
     "metadata": {},
     "output_type": "execute_result"
    }
   ],
   "source": [
    "titanic['Name']"
   ]
  },
  {
   "cell_type": "code",
   "execution_count": 25,
   "metadata": {},
   "outputs": [
    {
     "data": {
      "text/plain": [
       "array(['Mr', 'Mrs', 'Miss', 'Master', 'Don', 'Rev', 'Dr', 'Mme', 'Ms',\n",
       "       'Major', 'Lady', 'Sir', 'Mlle', 'Col', 'Capt', 'the Countess',\n",
       "       'Jonkheer', nan], dtype=object)"
      ]
     },
     "execution_count": 25,
     "metadata": {},
     "output_type": "execute_result"
    }
   ],
   "source": [
    "titanic_title = []\n",
    "for index, value in titanic['Name'].items():\n",
    "    title = value.split(\",\")[1].split(\".\")[0].strip()\n",
    "    titanic_title.append(title)\n",
    "titanic[\"Title\"] = pd.Series(titanic_title)\n",
    "titanic[\"Title\"].unique()"
   ]
  },
  {
   "cell_type": "code",
   "execution_count": 26,
   "metadata": {},
   "outputs": [
    {
     "data": {
      "text/plain": [
       "20"
      ]
     },
     "execution_count": 26,
     "metadata": {},
     "output_type": "execute_result"
    }
   ],
   "source": [
    "rare_titles = ['Don', 'Rev', 'Dr', 'Major', 'Lady', 'Sir', 'Col', 'Capt', 'the Countess', 'Jonkheer']\n",
    "title_frequency = {'rare' : 0}\n",
    "for index, value in titanic['Title'].items():\n",
    "    if value in rare_titles:\n",
    "        title_frequency['rare'] += 1\n",
    "title_frequency['rare']"
   ]
  },
  {
   "cell_type": "markdown",
   "metadata": {},
   "source": [
    "We can see that there are 20 people with rare titles (such as *Lord, Lady, Don, Dr*, etc.), which means it is probably not going to be significant feature for the final prediction. However, we should keep it for now and check correlations later on so that the potential exclusion of this feature could be more strongly backed up."
   ]
  },
  {
   "cell_type": "code",
   "execution_count": 27,
   "metadata": {},
   "outputs": [],
   "source": [
    "for index, value in titanic['Title'].items():\n",
    "    if value in rare_titles:\n",
    "        titanic.loc[index, 'Title'] = 'Rare'\n",
    "    else:\n",
    "        titanic.loc[index, 'Title'] = 'Not Rare'"
   ]
  },
  {
   "cell_type": "code",
   "execution_count": 28,
   "metadata": {},
   "outputs": [],
   "source": [
    "titanic = titanic.drop(columns = 'Name')"
   ]
  },
  {
   "cell_type": "markdown",
   "metadata": {},
   "source": [
    "That leaves us with **9 final features** - *Survived, Pclass, Sex, Age, SibSp, Parch, Fare, Titles,* and *Embarked*. In the end, we will change the numerical values for categorical features into text so we can more easily navigate the dataset. We can easily encode labels afterwards."
   ]
  },
  {
   "cell_type": "code",
   "execution_count": 29,
   "metadata": {},
   "outputs": [
    {
     "data": {
      "text/html": [
       "<div>\n",
       "<style scoped>\n",
       "    .dataframe tbody tr th:only-of-type {\n",
       "        vertical-align: middle;\n",
       "    }\n",
       "\n",
       "    .dataframe tbody tr th {\n",
       "        vertical-align: top;\n",
       "    }\n",
       "\n",
       "    .dataframe thead th {\n",
       "        text-align: right;\n",
       "    }\n",
       "</style>\n",
       "<table border=\"1\" class=\"dataframe\">\n",
       "  <thead>\n",
       "    <tr style=\"text-align: right;\">\n",
       "      <th></th>\n",
       "      <th>Survived</th>\n",
       "      <th>Pclass</th>\n",
       "      <th>Sex</th>\n",
       "      <th>Age</th>\n",
       "      <th>SibSp</th>\n",
       "      <th>Parch</th>\n",
       "      <th>Fare</th>\n",
       "      <th>Embarked</th>\n",
       "      <th>Title</th>\n",
       "    </tr>\n",
       "  </thead>\n",
       "  <tbody>\n",
       "    <tr>\n",
       "      <th>0</th>\n",
       "      <td>Didn't Survive</td>\n",
       "      <td>Third Class</td>\n",
       "      <td>Male</td>\n",
       "      <td>22.0</td>\n",
       "      <td>1</td>\n",
       "      <td>0</td>\n",
       "      <td>7.2500</td>\n",
       "      <td>Southampton</td>\n",
       "      <td>Not Rare</td>\n",
       "    </tr>\n",
       "    <tr>\n",
       "      <th>1</th>\n",
       "      <td>Survived</td>\n",
       "      <td>First Class</td>\n",
       "      <td>Female</td>\n",
       "      <td>38.0</td>\n",
       "      <td>1</td>\n",
       "      <td>0</td>\n",
       "      <td>71.2833</td>\n",
       "      <td>Cherbourg</td>\n",
       "      <td>Not Rare</td>\n",
       "    </tr>\n",
       "    <tr>\n",
       "      <th>2</th>\n",
       "      <td>Survived</td>\n",
       "      <td>Third Class</td>\n",
       "      <td>Female</td>\n",
       "      <td>26.0</td>\n",
       "      <td>0</td>\n",
       "      <td>0</td>\n",
       "      <td>7.9250</td>\n",
       "      <td>Southampton</td>\n",
       "      <td>Not Rare</td>\n",
       "    </tr>\n",
       "    <tr>\n",
       "      <th>3</th>\n",
       "      <td>Survived</td>\n",
       "      <td>First Class</td>\n",
       "      <td>Female</td>\n",
       "      <td>35.0</td>\n",
       "      <td>1</td>\n",
       "      <td>0</td>\n",
       "      <td>53.1000</td>\n",
       "      <td>Southampton</td>\n",
       "      <td>Not Rare</td>\n",
       "    </tr>\n",
       "    <tr>\n",
       "      <th>4</th>\n",
       "      <td>Didn't Survive</td>\n",
       "      <td>Third Class</td>\n",
       "      <td>Male</td>\n",
       "      <td>35.0</td>\n",
       "      <td>0</td>\n",
       "      <td>0</td>\n",
       "      <td>8.0500</td>\n",
       "      <td>Southampton</td>\n",
       "      <td>Not Rare</td>\n",
       "    </tr>\n",
       "  </tbody>\n",
       "</table>\n",
       "</div>"
      ],
      "text/plain": [
       "         Survived       Pclass     Sex   Age  SibSp  Parch     Fare  \\\n",
       "0  Didn't Survive  Third Class    Male  22.0      1      0   7.2500   \n",
       "1        Survived  First Class  Female  38.0      1      0  71.2833   \n",
       "2        Survived  Third Class  Female  26.0      0      0   7.9250   \n",
       "3        Survived  First Class  Female  35.0      1      0  53.1000   \n",
       "4  Didn't Survive  Third Class    Male  35.0      0      0   8.0500   \n",
       "\n",
       "      Embarked     Title  \n",
       "0  Southampton  Not Rare  \n",
       "1    Cherbourg  Not Rare  \n",
       "2  Southampton  Not Rare  \n",
       "3  Southampton  Not Rare  \n",
       "4  Southampton  Not Rare  "
      ]
     },
     "execution_count": 29,
     "metadata": {},
     "output_type": "execute_result"
    }
   ],
   "source": [
    "for index,value in titanic['Survived'].items():\n",
    "    if value == 0:\n",
    "        titanic.loc[index, 'Survived'] = \"Didn't Survive\"\n",
    "    else:\n",
    "        titanic.loc[index, 'Survived'] = 'Survived'\n",
    "\n",
    "for index, value in titanic['Pclass'].items():\n",
    "    if value == 1:\n",
    "        titanic.loc[index, 'Pclass'] = 'First Class'\n",
    "    elif value == 2:\n",
    "        titanic.loc[index, 'Pclass'] = 'Second Class'\n",
    "    else:\n",
    "        titanic.loc[index, 'Pclass'] = 'Third Class'\n",
    "\n",
    "for index, value in titanic['Embarked'].items():\n",
    "    if value == 'S':\n",
    "        titanic.loc[index, 'Embarked'] = 'Southampton'\n",
    "    elif value == 'Q':\n",
    "        titanic.loc[index, 'Embarked'] = 'Queenstown'\n",
    "    else:\n",
    "        titanic.loc[index, 'Embarked'] = 'Cherbourg'\n",
    "\n",
    "for index, value in titanic['Sex'].items():\n",
    "    if value == 1:\n",
    "        titanic.loc[index, 'Sex'] = 'Male'\n",
    "    else:\n",
    "        titanic.loc[index, 'Sex'] = 'Female'\n",
    "\n",
    "titanic.head()"
   ]
  },
  {
   "cell_type": "code",
   "execution_count": 30,
   "metadata": {},
   "outputs": [
    {
     "data": {
      "text/html": [
       "<div>\n",
       "<style scoped>\n",
       "    .dataframe tbody tr th:only-of-type {\n",
       "        vertical-align: middle;\n",
       "    }\n",
       "\n",
       "    .dataframe tbody tr th {\n",
       "        vertical-align: top;\n",
       "    }\n",
       "\n",
       "    .dataframe thead th {\n",
       "        text-align: right;\n",
       "    }\n",
       "</style>\n",
       "<table border=\"1\" class=\"dataframe\">\n",
       "  <thead>\n",
       "    <tr style=\"text-align: right;\">\n",
       "      <th></th>\n",
       "      <th>Age</th>\n",
       "      <th>SibSp</th>\n",
       "      <th>Parch</th>\n",
       "      <th>Fare</th>\n",
       "    </tr>\n",
       "  </thead>\n",
       "  <tbody>\n",
       "    <tr>\n",
       "      <th>count</th>\n",
       "      <td>838.000000</td>\n",
       "      <td>838.000000</td>\n",
       "      <td>838.000000</td>\n",
       "      <td>838.000000</td>\n",
       "    </tr>\n",
       "    <tr>\n",
       "      <th>mean</th>\n",
       "      <td>28.798459</td>\n",
       "      <td>0.514320</td>\n",
       "      <td>0.349642</td>\n",
       "      <td>22.411942</td>\n",
       "    </tr>\n",
       "    <tr>\n",
       "      <th>std</th>\n",
       "      <td>13.645432</td>\n",
       "      <td>1.117541</td>\n",
       "      <td>0.784067</td>\n",
       "      <td>20.827218</td>\n",
       "    </tr>\n",
       "    <tr>\n",
       "      <th>min</th>\n",
       "      <td>-3.799200</td>\n",
       "      <td>0.000000</td>\n",
       "      <td>0.000000</td>\n",
       "      <td>0.000000</td>\n",
       "    </tr>\n",
       "    <tr>\n",
       "      <th>25%</th>\n",
       "      <td>21.000000</td>\n",
       "      <td>0.000000</td>\n",
       "      <td>0.000000</td>\n",
       "      <td>7.895800</td>\n",
       "    </tr>\n",
       "    <tr>\n",
       "      <th>50%</th>\n",
       "      <td>28.447265</td>\n",
       "      <td>0.000000</td>\n",
       "      <td>0.000000</td>\n",
       "      <td>13.000000</td>\n",
       "    </tr>\n",
       "    <tr>\n",
       "      <th>75%</th>\n",
       "      <td>36.000000</td>\n",
       "      <td>1.000000</td>\n",
       "      <td>0.000000</td>\n",
       "      <td>27.720800</td>\n",
       "    </tr>\n",
       "    <tr>\n",
       "      <th>max</th>\n",
       "      <td>80.000000</td>\n",
       "      <td>8.000000</td>\n",
       "      <td>6.000000</td>\n",
       "      <td>93.500000</td>\n",
       "    </tr>\n",
       "  </tbody>\n",
       "</table>\n",
       "</div>"
      ],
      "text/plain": [
       "              Age       SibSp       Parch        Fare\n",
       "count  838.000000  838.000000  838.000000  838.000000\n",
       "mean    28.798459    0.514320    0.349642   22.411942\n",
       "std     13.645432    1.117541    0.784067   20.827218\n",
       "min     -3.799200    0.000000    0.000000    0.000000\n",
       "25%     21.000000    0.000000    0.000000    7.895800\n",
       "50%     28.447265    0.000000    0.000000   13.000000\n",
       "75%     36.000000    1.000000    0.000000   27.720800\n",
       "max     80.000000    8.000000    6.000000   93.500000"
      ]
     },
     "execution_count": 30,
     "metadata": {},
     "output_type": "execute_result"
    }
   ],
   "source": [
    "# Descriptive statistics for numerical features\n",
    "titanic.describe()"
   ]
  },
  {
   "cell_type": "markdown",
   "metadata": {},
   "source": [
    "By observing descriptive statistics for numerical features in the table above, we can see that some observations have negative values for *Age* feature, which is not possible. That is probably due to linear regression model used to predict missing values. Therefore, we should exclude those observations now!"
   ]
  },
  {
   "cell_type": "code",
   "execution_count": 31,
   "metadata": {},
   "outputs": [],
   "source": [
    "titanic = titanic[titanic['Age'] >= 0]"
   ]
  },
  {
   "cell_type": "code",
   "execution_count": 32,
   "metadata": {},
   "outputs": [
    {
     "data": {
      "text/html": [
       "<div>\n",
       "<style scoped>\n",
       "    .dataframe tbody tr th:only-of-type {\n",
       "        vertical-align: middle;\n",
       "    }\n",
       "\n",
       "    .dataframe tbody tr th {\n",
       "        vertical-align: top;\n",
       "    }\n",
       "\n",
       "    .dataframe thead th {\n",
       "        text-align: right;\n",
       "    }\n",
       "</style>\n",
       "<table border=\"1\" class=\"dataframe\">\n",
       "  <thead>\n",
       "    <tr style=\"text-align: right;\">\n",
       "      <th></th>\n",
       "      <th>Survived</th>\n",
       "      <th>Pclass</th>\n",
       "      <th>Sex</th>\n",
       "      <th>Embarked</th>\n",
       "      <th>Title</th>\n",
       "    </tr>\n",
       "  </thead>\n",
       "  <tbody>\n",
       "    <tr>\n",
       "      <th>count</th>\n",
       "      <td>834</td>\n",
       "      <td>834</td>\n",
       "      <td>834</td>\n",
       "      <td>834</td>\n",
       "      <td>834</td>\n",
       "    </tr>\n",
       "    <tr>\n",
       "      <th>unique</th>\n",
       "      <td>2</td>\n",
       "      <td>3</td>\n",
       "      <td>2</td>\n",
       "      <td>3</td>\n",
       "      <td>2</td>\n",
       "    </tr>\n",
       "    <tr>\n",
       "      <th>top</th>\n",
       "      <td>Didn't Survive</td>\n",
       "      <td>Third Class</td>\n",
       "      <td>Male</td>\n",
       "      <td>Southampton</td>\n",
       "      <td>Not Rare</td>\n",
       "    </tr>\n",
       "    <tr>\n",
       "      <th>freq</th>\n",
       "      <td>531</td>\n",
       "      <td>487</td>\n",
       "      <td>554</td>\n",
       "      <td>618</td>\n",
       "      <td>814</td>\n",
       "    </tr>\n",
       "  </tbody>\n",
       "</table>\n",
       "</div>"
      ],
      "text/plain": [
       "              Survived       Pclass   Sex     Embarked     Title\n",
       "count              834          834   834          834       834\n",
       "unique               2            3     2            3         2\n",
       "top     Didn't Survive  Third Class  Male  Southampton  Not Rare\n",
       "freq               531          487   554          618       814"
      ]
     },
     "execution_count": 32,
     "metadata": {},
     "output_type": "execute_result"
    }
   ],
   "source": [
    "# Descriptive statistics for categorical features\n",
    "titanic.describe(include = 'O')"
   ]
  },
  {
   "cell_type": "markdown",
   "metadata": {},
   "source": [
    "## 1.4. Visualizing Distributions"
   ]
  },
  {
   "cell_type": "code",
   "execution_count": 33,
   "metadata": {},
   "outputs": [
    {
     "data": {
      "text/html": [
       "        <script type=\"text/javascript\">\n",
       "        window.PlotlyConfig = {MathJaxConfig: 'local'};\n",
       "        if (window.MathJax) {MathJax.Hub.Config({SVG: {font: \"STIX-Web\"}});}\n",
       "        if (typeof require !== 'undefined') {\n",
       "        require.undef(\"plotly\");\n",
       "        requirejs.config({\n",
       "            paths: {\n",
       "                'plotly': ['https://cdn.plot.ly/plotly-latest.min']\n",
       "            }\n",
       "        });\n",
       "        require(['plotly'], function(Plotly) {\n",
       "            window._Plotly = Plotly;\n",
       "        });\n",
       "        }\n",
       "        </script>\n",
       "        "
      ]
     },
     "metadata": {},
     "output_type": "display_data"
    },
    {
     "data": {
      "text/html": [
       "<div>\n",
       "        \n",
       "        \n",
       "            <div id=\"40ac48f4-e7f4-45eb-87e2-f0420b0196dc\" class=\"plotly-graph-div\" style=\"height:650px; width:1100px;\"></div>\n",
       "            <script type=\"text/javascript\">\n",
       "                require([\"plotly\"], function(Plotly) {\n",
       "                    window.PLOTLYENV=window.PLOTLYENV || {};\n",
       "                    \n",
       "                if (document.getElementById(\"40ac48f4-e7f4-45eb-87e2-f0420b0196dc\")) {\n",
       "                    Plotly.newPlot(\n",
       "                        '40ac48f4-e7f4-45eb-87e2-f0420b0196dc',\n",
       "                        [{\"type\": \"histogram\", \"x\": [\"Didn't Survive\", \"Survived\", \"Survived\", \"Survived\", \"Didn't Survive\", \"Didn't Survive\", \"Didn't Survive\", \"Didn't Survive\", \"Survived\", \"Survived\", \"Survived\", \"Survived\", \"Didn't Survive\", \"Didn't Survive\", \"Didn't Survive\", \"Survived\", \"Didn't Survive\", \"Survived\", \"Didn't Survive\", \"Survived\", \"Didn't Survive\", \"Survived\", \"Survived\", \"Survived\", \"Didn't Survive\", \"Survived\", \"Didn't Survive\", \"Survived\", \"Didn't Survive\", \"Didn't Survive\", \"Survived\", \"Didn't Survive\", \"Didn't Survive\", \"Didn't Survive\", \"Survived\", \"Didn't Survive\", \"Didn't Survive\", \"Survived\", \"Didn't Survive\", \"Didn't Survive\", \"Didn't Survive\", \"Survived\", \"Survived\", \"Didn't Survive\", \"Didn't Survive\", \"Survived\", \"Didn't Survive\", \"Didn't Survive\", \"Didn't Survive\", \"Didn't Survive\", \"Survived\", \"Survived\", \"Didn't Survive\", \"Survived\", \"Survived\", \"Didn't Survive\", \"Survived\", \"Didn't Survive\", \"Didn't Survive\", \"Survived\", \"Didn't Survive\", \"Didn't Survive\", \"Didn't Survive\", \"Survived\", \"Survived\", \"Didn't Survive\", \"Survived\", \"Didn't Survive\", \"Didn't Survive\", \"Didn't Survive\", \"Didn't Survive\", \"Didn't Survive\", \"Survived\", \"Didn't Survive\", \"Didn't Survive\", \"Didn't Survive\", \"Survived\", \"Survived\", \"Didn't Survive\", \"Survived\", \"Survived\", \"Didn't Survive\", \"Survived\", \"Survived\", \"Didn't Survive\", \"Didn't Survive\", \"Didn't Survive\", \"Didn't Survive\", \"Didn't Survive\", \"Didn't Survive\", \"Didn't Survive\", \"Didn't Survive\", \"Didn't Survive\", \"Didn't Survive\", \"Survived\", \"Survived\", \"Didn't Survive\", \"Didn't Survive\", \"Didn't Survive\", \"Didn't Survive\", \"Didn't Survive\", \"Didn't Survive\", \"Didn't Survive\", \"Survived\", \"Survived\", \"Didn't Survive\", \"Survived\", \"Didn't Survive\", \"Didn't Survive\", \"Didn't Survive\", \"Didn't Survive\", \"Didn't Survive\", \"Didn't Survive\", \"Didn't Survive\", \"Didn't Survive\", \"Didn't Survive\", \"Didn't Survive\", \"Didn't Survive\", \"Didn't Survive\", \"Survived\", \"Didn't Survive\", \"Survived\", \"Didn't Survive\", \"Survived\", \"Survived\", \"Didn't Survive\", \"Didn't Survive\", \"Didn't Survive\", \"Didn't Survive\", \"Survived\", \"Didn't Survive\", \"Didn't Survive\", \"Survived\", \"Didn't Survive\", \"Didn't Survive\", \"Didn't Survive\", \"Didn't Survive\", \"Survived\", \"Survived\", \"Didn't Survive\", \"Didn't Survive\", \"Didn't Survive\", \"Survived\", \"Didn't Survive\", \"Didn't Survive\", \"Didn't Survive\", \"Didn't Survive\", \"Survived\", \"Didn't Survive\", \"Didn't Survive\", \"Didn't Survive\", \"Didn't Survive\", \"Survived\", \"Didn't Survive\", \"Didn't Survive\", \"Didn't Survive\", \"Survived\", \"Didn't Survive\", \"Didn't Survive\", \"Didn't Survive\", \"Survived\", \"Survived\", \"Didn't Survive\", \"Didn't Survive\", \"Didn't Survive\", \"Didn't Survive\", \"Didn't Survive\", \"Survived\", \"Didn't Survive\", \"Didn't Survive\", \"Didn't Survive\", \"Didn't Survive\", \"Didn't Survive\", \"Didn't Survive\", \"Didn't Survive\", \"Didn't Survive\", \"Didn't Survive\", \"Didn't Survive\", \"Survived\", \"Survived\", \"Didn't Survive\", \"Survived\", \"Survived\", \"Didn't Survive\", \"Didn't Survive\", \"Survived\", \"Didn't Survive\", \"Survived\", \"Survived\", \"Survived\", \"Didn't Survive\", \"Didn't Survive\", \"Survived\", \"Didn't Survive\", \"Didn't Survive\", \"Didn't Survive\", \"Didn't Survive\", \"Survived\", \"Didn't Survive\", \"Didn't Survive\", \"Survived\", \"Survived\", \"Survived\", \"Didn't Survive\", \"Survived\", \"Didn't Survive\", \"Didn't Survive\", \"Didn't Survive\", \"Survived\", \"Didn't Survive\", \"Survived\", \"Didn't Survive\", \"Survived\", \"Didn't Survive\", \"Didn't Survive\", \"Didn't Survive\", \"Survived\", \"Didn't Survive\", \"Survived\", \"Didn't Survive\", \"Didn't Survive\", \"Didn't Survive\", \"Survived\", \"Didn't Survive\", \"Didn't Survive\", \"Survived\", \"Didn't Survive\", \"Didn't Survive\", \"Didn't Survive\", \"Survived\", \"Didn't Survive\", \"Didn't Survive\", \"Didn't Survive\", \"Survived\", \"Didn't Survive\", \"Didn't Survive\", \"Didn't Survive\", \"Didn't Survive\", \"Didn't Survive\", \"Survived\", \"Survived\", \"Didn't Survive\", \"Didn't Survive\", \"Didn't Survive\", \"Didn't Survive\", \"Didn't Survive\", \"Didn't Survive\", \"Survived\", \"Survived\", \"Survived\", \"Survived\", \"Didn't Survive\", \"Survived\", \"Didn't Survive\", \"Didn't Survive\", \"Didn't Survive\", \"Didn't Survive\", \"Didn't Survive\", \"Survived\", \"Didn't Survive\", \"Survived\", \"Survived\", \"Didn't Survive\", \"Survived\", \"Survived\", \"Didn't Survive\", \"Didn't Survive\", \"Didn't Survive\", \"Survived\", \"Didn't Survive\", \"Didn't Survive\", \"Didn't Survive\", \"Survived\", \"Didn't Survive\", \"Didn't Survive\", \"Survived\", \"Didn't Survive\", \"Survived\", \"Survived\", \"Survived\", \"Survived\", \"Didn't Survive\", \"Didn't Survive\", \"Didn't Survive\", \"Didn't Survive\", \"Didn't Survive\", \"Survived\", \"Survived\", \"Survived\", \"Didn't Survive\", \"Survived\", \"Didn't Survive\", \"Didn't Survive\", \"Survived\", \"Survived\", \"Didn't Survive\", \"Didn't Survive\", \"Didn't Survive\", \"Survived\", \"Survived\", \"Didn't Survive\", \"Didn't Survive\", \"Didn't Survive\", \"Survived\", \"Survived\", \"Didn't Survive\", \"Survived\", \"Survived\", \"Survived\", \"Survived\", \"Didn't Survive\", \"Didn't Survive\", \"Didn't Survive\", \"Didn't Survive\", \"Survived\", \"Didn't Survive\", \"Survived\", \"Didn't Survive\", \"Didn't Survive\", \"Didn't Survive\", \"Survived\", \"Survived\", \"Survived\", \"Survived\", \"Didn't Survive\", \"Didn't Survive\", \"Didn't Survive\", \"Didn't Survive\", \"Didn't Survive\", \"Didn't Survive\", \"Didn't Survive\", \"Survived\", \"Didn't Survive\", \"Survived\", \"Survived\", \"Didn't Survive\", \"Didn't Survive\", \"Didn't Survive\", \"Didn't Survive\", \"Didn't Survive\", \"Didn't Survive\", \"Survived\", \"Survived\", \"Survived\", \"Survived\", \"Survived\", \"Didn't Survive\", \"Didn't Survive\", \"Didn't Survive\", \"Survived\", \"Survived\", \"Didn't Survive\", \"Didn't Survive\", \"Survived\", \"Didn't Survive\", \"Survived\", \"Didn't Survive\", \"Didn't Survive\", \"Didn't Survive\", \"Survived\", \"Didn't Survive\", \"Survived\", \"Survived\", \"Didn't Survive\", \"Survived\", \"Didn't Survive\", \"Didn't Survive\", \"Didn't Survive\", \"Didn't Survive\", \"Survived\", \"Survived\", \"Didn't Survive\", \"Didn't Survive\", \"Didn't Survive\", \"Didn't Survive\", \"Didn't Survive\", \"Didn't Survive\", \"Survived\", \"Didn't Survive\", \"Didn't Survive\", \"Didn't Survive\", \"Didn't Survive\", \"Survived\", \"Didn't Survive\", \"Survived\", \"Didn't Survive\", \"Survived\", \"Survived\", \"Didn't Survive\", \"Didn't Survive\", \"Didn't Survive\", \"Didn't Survive\", \"Didn't Survive\", \"Didn't Survive\", \"Didn't Survive\", \"Didn't Survive\", \"Survived\", \"Survived\", \"Didn't Survive\", \"Survived\", \"Survived\", \"Survived\", \"Survived\", \"Didn't Survive\", \"Didn't Survive\", \"Didn't Survive\", \"Survived\", \"Didn't Survive\", \"Survived\", \"Didn't Survive\", \"Didn't Survive\", \"Survived\", \"Survived\", \"Survived\", \"Survived\", \"Survived\", \"Survived\", \"Survived\", \"Didn't Survive\", \"Didn't Survive\", \"Didn't Survive\", \"Survived\", \"Didn't Survive\", \"Survived\", \"Didn't Survive\", \"Survived\", \"Survived\", \"Didn't Survive\", \"Survived\", \"Didn't Survive\", \"Didn't Survive\", \"Didn't Survive\", \"Didn't Survive\", \"Didn't Survive\", \"Didn't Survive\", \"Didn't Survive\", \"Didn't Survive\", \"Survived\", \"Didn't Survive\", \"Didn't Survive\", \"Survived\", \"Survived\", \"Didn't Survive\", \"Didn't Survive\", \"Didn't Survive\", \"Didn't Survive\", \"Didn't Survive\", \"Survived\", \"Didn't Survive\", \"Didn't Survive\", \"Didn't Survive\", \"Survived\", \"Survived\", \"Didn't Survive\", \"Survived\", \"Didn't Survive\", \"Didn't Survive\", \"Survived\", \"Didn't Survive\", \"Didn't Survive\", \"Didn't Survive\", \"Didn't Survive\", \"Didn't Survive\", \"Didn't Survive\", \"Survived\", \"Didn't Survive\", \"Didn't Survive\", \"Didn't Survive\", \"Didn't Survive\", \"Didn't Survive\", \"Didn't Survive\", \"Survived\", \"Survived\", \"Survived\", \"Didn't Survive\", \"Survived\", \"Survived\", \"Didn't Survive\", \"Survived\", \"Survived\", \"Didn't Survive\", \"Didn't Survive\", \"Survived\", \"Didn't Survive\", \"Survived\", \"Didn't Survive\", \"Survived\", \"Didn't Survive\", \"Didn't Survive\", \"Survived\", \"Didn't Survive\", \"Didn't Survive\", \"Survived\", \"Didn't Survive\", \"Didn't Survive\", \"Survived\", \"Didn't Survive\", \"Didn't Survive\", \"Survived\", \"Didn't Survive\", \"Survived\", \"Didn't Survive\", \"Didn't Survive\", \"Survived\", \"Survived\", \"Didn't Survive\", \"Didn't Survive\", \"Survived\", \"Didn't Survive\", \"Survived\", \"Survived\", \"Didn't Survive\", \"Survived\", \"Didn't Survive\", \"Didn't Survive\", \"Survived\", \"Survived\", \"Didn't Survive\", \"Survived\", \"Survived\", \"Survived\", \"Didn't Survive\", \"Didn't Survive\", \"Didn't Survive\", \"Didn't Survive\", \"Didn't Survive\", \"Didn't Survive\", \"Didn't Survive\", \"Didn't Survive\", \"Didn't Survive\", \"Survived\", \"Survived\", \"Survived\", \"Survived\", \"Survived\", \"Didn't Survive\", \"Didn't Survive\", \"Survived\", \"Survived\", \"Didn't Survive\", \"Survived\", \"Survived\", \"Didn't Survive\", \"Didn't Survive\", \"Didn't Survive\", \"Survived\", \"Didn't Survive\", \"Survived\", \"Didn't Survive\", \"Didn't Survive\", \"Didn't Survive\", \"Survived\", \"Didn't Survive\", \"Didn't Survive\", \"Didn't Survive\", \"Didn't Survive\", \"Survived\", \"Didn't Survive\", \"Didn't Survive\", \"Survived\", \"Survived\", \"Didn't Survive\", \"Didn't Survive\", \"Didn't Survive\", \"Survived\", \"Didn't Survive\", \"Didn't Survive\", \"Survived\", \"Survived\", \"Didn't Survive\", \"Didn't Survive\", \"Survived\", \"Didn't Survive\", \"Didn't Survive\", \"Survived\", \"Didn't Survive\", \"Didn't Survive\", \"Survived\", \"Didn't Survive\", \"Didn't Survive\", \"Survived\", \"Survived\", \"Didn't Survive\", \"Didn't Survive\", \"Didn't Survive\", \"Didn't Survive\", \"Survived\", \"Didn't Survive\", \"Didn't Survive\", \"Survived\", \"Didn't Survive\", \"Survived\", \"Didn't Survive\", \"Didn't Survive\", \"Survived\", \"Didn't Survive\", \"Didn't Survive\", \"Didn't Survive\", \"Didn't Survive\", \"Didn't Survive\", \"Survived\", \"Didn't Survive\", \"Survived\", \"Survived\", \"Survived\", \"Didn't Survive\", \"Survived\", \"Didn't Survive\", \"Survived\", \"Didn't Survive\", \"Survived\", \"Didn't Survive\", \"Survived\", \"Didn't Survive\", \"Didn't Survive\", \"Didn't Survive\", \"Didn't Survive\", \"Didn't Survive\", \"Didn't Survive\", \"Didn't Survive\", \"Didn't Survive\", \"Survived\", \"Didn't Survive\", \"Didn't Survive\", \"Didn't Survive\", \"Didn't Survive\", \"Survived\", \"Survived\", \"Didn't Survive\", \"Didn't Survive\", \"Survived\", \"Didn't Survive\", \"Didn't Survive\", \"Didn't Survive\", \"Survived\", \"Didn't Survive\", \"Didn't Survive\", \"Survived\", \"Didn't Survive\", \"Didn't Survive\", \"Didn't Survive\", \"Didn't Survive\", \"Didn't Survive\", \"Didn't Survive\", \"Didn't Survive\", \"Survived\", \"Survived\", \"Survived\", \"Didn't Survive\", \"Didn't Survive\", \"Didn't Survive\", \"Didn't Survive\", \"Survived\", \"Didn't Survive\", \"Survived\", \"Didn't Survive\", \"Didn't Survive\", \"Didn't Survive\", \"Didn't Survive\", \"Survived\", \"Survived\", \"Survived\", \"Survived\", \"Didn't Survive\", \"Survived\", \"Didn't Survive\", \"Didn't Survive\", \"Didn't Survive\", \"Survived\", \"Didn't Survive\", \"Didn't Survive\", \"Survived\", \"Didn't Survive\", \"Didn't Survive\", \"Didn't Survive\", \"Survived\", \"Didn't Survive\", \"Survived\", \"Survived\", \"Didn't Survive\", \"Didn't Survive\", \"Didn't Survive\", \"Didn't Survive\", \"Didn't Survive\", \"Didn't Survive\", \"Didn't Survive\", \"Didn't Survive\", \"Didn't Survive\", \"Didn't Survive\", \"Survived\", \"Didn't Survive\", \"Didn't Survive\", \"Survived\", \"Didn't Survive\", \"Didn't Survive\", \"Survived\", \"Didn't Survive\", \"Didn't Survive\", \"Survived\", \"Survived\", \"Didn't Survive\", \"Didn't Survive\", \"Survived\", \"Survived\", \"Didn't Survive\", \"Didn't Survive\", \"Didn't Survive\", \"Survived\", \"Didn't Survive\", \"Didn't Survive\", \"Survived\", \"Didn't Survive\", \"Survived\", \"Didn't Survive\", \"Didn't Survive\", \"Didn't Survive\", \"Didn't Survive\", \"Didn't Survive\", \"Didn't Survive\", \"Didn't Survive\", \"Didn't Survive\", \"Survived\", \"Didn't Survive\", \"Didn't Survive\", \"Survived\", \"Didn't Survive\", \"Survived\", \"Survived\", \"Didn't Survive\", \"Didn't Survive\", \"Didn't Survive\", \"Didn't Survive\", \"Survived\", \"Didn't Survive\", \"Survived\", \"Didn't Survive\", \"Didn't Survive\", \"Didn't Survive\", \"Didn't Survive\", \"Didn't Survive\", \"Didn't Survive\", \"Didn't Survive\", \"Survived\", \"Survived\", \"Didn't Survive\", \"Didn't Survive\", \"Didn't Survive\", \"Survived\", \"Survived\", \"Survived\", \"Didn't Survive\", \"Didn't Survive\", \"Didn't Survive\", \"Didn't Survive\", \"Survived\", \"Didn't Survive\", \"Didn't Survive\", \"Didn't Survive\", \"Didn't Survive\", \"Didn't Survive\", \"Didn't Survive\", \"Didn't Survive\", \"Didn't Survive\", \"Didn't Survive\", \"Didn't Survive\", \"Survived\", \"Survived\", \"Didn't Survive\", \"Survived\", \"Didn't Survive\", \"Didn't Survive\", \"Didn't Survive\", \"Survived\", \"Survived\", \"Survived\", \"Survived\", \"Survived\", \"Didn't Survive\", \"Didn't Survive\", \"Didn't Survive\", \"Survived\", \"Didn't Survive\", \"Didn't Survive\", \"Survived\", \"Survived\", \"Didn't Survive\", \"Didn't Survive\", \"Survived\", \"Didn't Survive\", \"Didn't Survive\", \"Didn't Survive\", \"Didn't Survive\", \"Didn't Survive\", \"Survived\", \"Didn't Survive\", \"Didn't Survive\", \"Didn't Survive\", \"Survived\", \"Didn't Survive\", \"Survived\", \"Survived\", \"Survived\", \"Didn't Survive\", \"Didn't Survive\", \"Didn't Survive\", \"Survived\", \"Didn't Survive\", \"Didn't Survive\", \"Survived\", \"Survived\", \"Didn't Survive\", \"Didn't Survive\", \"Survived\", \"Didn't Survive\", \"Survived\", \"Didn't Survive\", \"Didn't Survive\", \"Survived\", \"Survived\", \"Didn't Survive\", \"Didn't Survive\", \"Didn't Survive\", \"Survived\", \"Survived\", \"Didn't Survive\", \"Didn't Survive\", \"Didn't Survive\", \"Didn't Survive\", \"Didn't Survive\", \"Didn't Survive\", \"Survived\", \"Didn't Survive\", \"Survived\", \"Didn't Survive\"], \"xaxis\": \"x\", \"yaxis\": \"y\"}, {\"type\": \"histogram\", \"x\": [\"Third Class\", \"First Class\", \"Third Class\", \"First Class\", \"Third Class\", \"Third Class\", \"First Class\", \"Third Class\", \"Third Class\", \"Second Class\", \"Third Class\", \"First Class\", \"Third Class\", \"Third Class\", \"Third Class\", \"Second Class\", \"Third Class\", \"Second Class\", \"Third Class\", \"Third Class\", \"Second Class\", \"Second Class\", \"Third Class\", \"First Class\", \"Third Class\", \"Third Class\", \"Third Class\", \"Third Class\", \"Third Class\", \"First Class\", \"Third Class\", \"Second Class\", \"First Class\", \"First Class\", \"Third Class\", \"Third Class\", \"Third Class\", \"Third Class\", \"Third Class\", \"Second Class\", \"Third Class\", \"Second Class\", \"Third Class\", \"Third Class\", \"Third Class\", \"Third Class\", \"Third Class\", \"Third Class\", \"Third Class\", \"Third Class\", \"First Class\", \"Second Class\", \"First Class\", \"First Class\", \"Second Class\", \"Third Class\", \"Second Class\", \"Third Class\", \"Third Class\", \"First Class\", \"First Class\", \"Third Class\", \"First Class\", \"Third Class\", \"Second Class\", \"Third Class\", \"Third Class\", \"Third Class\", \"Second Class\", \"Third Class\", \"Second Class\", \"Third Class\", \"Third Class\", \"Third Class\", \"Third Class\", \"Third Class\", \"Second Class\", \"Third Class\", \"Third Class\", \"Third Class\", \"Third Class\", \"First Class\", \"Second Class\", \"Third Class\", \"Third Class\", \"Third Class\", \"Third Class\", \"Third Class\", \"Third Class\", \"First Class\", \"Third Class\", \"Third Class\", \"Third Class\", \"First Class\", \"First Class\", \"Second Class\", \"Second Class\", \"Third Class\", \"Third Class\", \"First Class\", \"Third Class\", \"Third Class\", \"Third Class\", \"Third Class\", \"Third Class\", \"Third Class\", \"Third Class\", \"First Class\", \"Third Class\", \"Third Class\", \"Third Class\", \"Third Class\", \"Third Class\", \"Third Class\", \"Second Class\", \"Third Class\", \"Second Class\", \"Third Class\", \"Second Class\", \"Second Class\", \"First Class\", \"Third Class\", \"Third Class\", \"Third Class\", \"Third Class\", \"Third Class\", \"Third Class\", \"Third Class\", \"Third Class\", \"Second Class\", \"Second Class\", \"Second Class\", \"First Class\", \"First Class\", \"Third Class\", \"First Class\", \"Third Class\", \"Third Class\", \"Third Class\", \"Third Class\", \"Second Class\", \"Second Class\", \"Third Class\", \"Third Class\", \"Second Class\", \"Second Class\", \"Second Class\", \"First Class\", \"Third Class\", \"Third Class\", \"Third Class\", \"First Class\", \"Third Class\", \"Third Class\", \"Third Class\", \"Third Class\", \"Second Class\", \"Third Class\", \"Third Class\", \"Third Class\", \"Third Class\", \"First Class\", \"Third Class\", \"First Class\", \"Third Class\", \"First Class\", \"Third Class\", \"Third Class\", \"Third Class\", \"First Class\", \"Third Class\", \"Third Class\", \"First Class\", \"Second Class\", \"Third Class\", \"Third Class\", \"Second Class\", \"Third Class\", \"Second Class\", \"Third Class\", \"First Class\", \"Third Class\", \"First Class\", \"Third Class\", \"Third Class\", \"Second Class\", \"Second Class\", \"Third Class\", \"Second Class\", \"First Class\", \"Third Class\", \"Third Class\", \"Third Class\", \"Second Class\", \"Third Class\", \"Third Class\", \"Third Class\", \"Third Class\", \"Third Class\", \"Third Class\", \"Third Class\", \"Third Class\", \"First Class\", \"Third Class\", \"Second Class\", \"Third Class\", \"Second Class\", \"Third Class\", \"Third Class\", \"Second Class\", \"First Class\", \"Second Class\", \"Third Class\", \"Second Class\", \"Third Class\", \"Third Class\", \"First Class\", \"Third Class\", \"Second Class\", \"Third Class\", \"Second Class\", \"Third Class\", \"First Class\", \"Third Class\", \"Second Class\", \"Third Class\", \"Second Class\", \"Third Class\", \"Second Class\", \"Second Class\", \"Second Class\", \"Second Class\", \"Third Class\", \"Third Class\", \"Second Class\", \"Third Class\", \"Third Class\", \"First Class\", \"Third Class\", \"Second Class\", \"First Class\", \"Second Class\", \"Third Class\", \"Third Class\", \"First Class\", \"Third Class\", \"Third Class\", \"Third Class\", \"First Class\", \"First Class\", \"Second Class\", \"Third Class\", \"Third Class\", \"First Class\", \"First Class\", \"Third Class\", \"Second Class\", \"Third Class\", \"Third Class\", \"First Class\", \"Third Class\", \"Second Class\", \"First Class\", \"Third Class\", \"First Class\", \"Third Class\", \"Second Class\", \"Third Class\", \"Third Class\", \"Third Class\", \"Third Class\", \"Third Class\", \"Third Class\", \"First Class\", \"Third Class\", \"Third Class\", \"Third Class\", \"Second Class\", \"Third Class\", \"First Class\", \"First Class\", \"Second Class\", \"Third Class\", \"Third Class\", \"First Class\", \"Third Class\", \"First Class\", \"Third Class\", \"Third Class\", \"Third Class\", \"Second Class\", \"Third Class\", \"Second Class\", \"First Class\", \"First Class\", \"Second Class\", \"Third Class\", \"Second Class\", \"Third Class\", \"Second Class\", \"Second Class\", \"Third Class\", \"Third Class\", \"Second Class\", \"Second Class\", \"Third Class\", \"Second Class\", \"Third Class\", \"First Class\", \"Third Class\", \"First Class\", \"Third Class\", \"Third Class\", \"First Class\", \"Third Class\", \"First Class\", \"Second Class\", \"Second Class\", \"Second Class\", \"Second Class\", \"Second Class\", \"Second Class\", \"Third Class\", \"Third Class\", \"Third Class\", \"Third Class\", \"First Class\", \"Third Class\", \"Third Class\", \"Third Class\", \"Third Class\", \"First Class\", \"Second Class\", \"Third Class\", \"Third Class\", \"Third Class\", \"Second Class\", \"Third Class\", \"Third Class\", \"Third Class\", \"Third Class\", \"First Class\", \"Third Class\", \"Third Class\", \"First Class\", \"First Class\", \"Third Class\", \"Third Class\", \"Third Class\", \"First Class\", \"Third Class\", \"Third Class\", \"Third Class\", \"Third Class\", \"Third Class\", \"First Class\", \"Third Class\", \"Second Class\", \"Third Class\", \"Second Class\", \"Third Class\", \"Second Class\", \"Third Class\", \"Third Class\", \"Third Class\", \"Third Class\", \"Third Class\", \"Second Class\", \"Second Class\", \"Second Class\", \"Third Class\", \"Third Class\", \"Third Class\", \"Third Class\", \"Third Class\", \"Second Class\", \"Third Class\", \"Second Class\", \"Third Class\", \"Third Class\", \"Third Class\", \"Third Class\", \"First Class\", \"Second Class\", \"Third Class\", \"Third Class\", \"Second Class\", \"Second Class\", \"Second Class\", \"Third Class\", \"Third Class\", \"Third Class\", \"Third Class\", \"Third Class\", \"Third Class\", \"Third Class\", \"Second Class\", \"Second Class\", \"Third Class\", \"Third Class\", \"First Class\", \"Third Class\", \"Second Class\", \"Third Class\", \"First Class\", \"Third Class\", \"Second Class\", \"Second Class\", \"Second Class\", \"Third Class\", \"Third Class\", \"Second Class\", \"Third Class\", \"First Class\", \"Second Class\", \"First Class\", \"Third Class\", \"First Class\", \"Second Class\", \"Third Class\", \"First Class\", \"First Class\", \"Third Class\", \"Third Class\", \"First Class\", \"First Class\", \"Second Class\", \"Third Class\", \"First Class\", \"Third Class\", \"First Class\", \"Second Class\", \"Third Class\", \"Third Class\", \"Second Class\", \"First Class\", \"Third Class\", \"Third Class\", \"Third Class\", \"Third Class\", \"Second Class\", \"Second Class\", \"Third Class\", \"First Class\", \"Second Class\", \"Third Class\", \"Third Class\", \"Third Class\", \"Third Class\", \"Second Class\", \"Third Class\", \"Third Class\", \"First Class\", \"Third Class\", \"First Class\", \"First Class\", \"Third Class\", \"Third Class\", \"Third Class\", \"Third Class\", \"First Class\", \"First Class\", \"Third Class\", \"Third Class\", \"First Class\", \"Third Class\", \"Third Class\", \"Third Class\", \"Third Class\", \"Third Class\", \"Third Class\", \"First Class\", \"Second Class\", \"First Class\", \"Third Class\", \"Third Class\", \"Third Class\", \"Third Class\", \"First Class\", \"First Class\", \"Third Class\", \"First Class\", \"Second Class\", \"Third Class\", \"Second Class\", \"Third Class\", \"First Class\", \"Third Class\", \"Third Class\", \"First Class\", \"Third Class\", \"Third Class\", \"Second Class\", \"Third Class\", \"Second Class\", \"Second Class\", \"Third Class\", \"Third Class\", \"Third Class\", \"Third Class\", \"Second Class\", \"First Class\", \"Third Class\", \"First Class\", \"First Class\", \"Third Class\", \"Third Class\", \"Second Class\", \"First Class\", \"Second Class\", \"Second Class\", \"Third Class\", \"Second Class\", \"Second Class\", \"Third Class\", \"Third Class\", \"Third Class\", \"First Class\", \"First Class\", \"First Class\", \"Third Class\", \"Third Class\", \"Third Class\", \"Second Class\", \"Third Class\", \"Third Class\", \"Third Class\", \"Third Class\", \"Third Class\", \"Third Class\", \"Third Class\", \"Second Class\", \"First Class\", \"First Class\", \"Third Class\", \"Third Class\", \"Third Class\", \"Second Class\", \"First Class\", \"Third Class\", \"Third Class\", \"Second Class\", \"Second Class\", \"First Class\", \"Third Class\", \"First Class\", \"Second Class\", \"First Class\", \"Third Class\", \"Third Class\", \"Third Class\", \"First Class\", \"Third Class\", \"Third Class\", \"Second Class\", \"Third Class\", \"Second Class\", \"Third Class\", \"Third Class\", \"First Class\", \"Second Class\", \"Third Class\", \"First Class\", \"Third Class\", \"First Class\", \"Third Class\", \"Third Class\", \"First Class\", \"Second Class\", \"Third Class\", \"Third Class\", \"Third Class\", \"Third Class\", \"Third Class\", \"Second Class\", \"Third Class\", \"Third Class\", \"Second Class\", \"Second Class\", \"Third Class\", \"First Class\", \"Third Class\", \"Third Class\", \"Third Class\", \"First Class\", \"Second Class\", \"First Class\", \"Third Class\", \"Third Class\", \"First Class\", \"Third Class\", \"First Class\", \"First Class\", \"Third Class\", \"Second Class\", \"Third Class\", \"Second Class\", \"Third Class\", \"Third Class\", \"Third Class\", \"First Class\", \"Third Class\", \"Third Class\", \"Third Class\", \"First Class\", \"Third Class\", \"First Class\", \"Third Class\", \"Third Class\", \"Third Class\", \"Second Class\", \"Third Class\", \"Third Class\", \"Third Class\", \"Second Class\", \"Third Class\", \"Third Class\", \"Second Class\", \"Third Class\", \"First Class\", \"Third Class\", \"Third Class\", \"Second Class\", \"Second Class\", \"Third Class\", \"Third Class\", \"First Class\", \"Second Class\", \"First Class\", \"Second Class\", \"Second Class\", \"Second Class\", \"Third Class\", \"Third Class\", \"Third Class\", \"Third Class\", \"Third Class\", \"First Class\", \"Third Class\", \"Third Class\", \"Second Class\", \"Second Class\", \"Third Class\", \"Third Class\", \"Third Class\", \"First Class\", \"Third Class\", \"Third Class\", \"Third Class\", \"First Class\", \"Second Class\", \"Third Class\", \"Third Class\", \"Third Class\", \"First Class\", \"Third Class\", \"Third Class\", \"Third Class\", \"Second Class\", \"Second Class\", \"First Class\", \"Third Class\", \"First Class\", \"First Class\", \"First Class\", \"Third Class\", \"Second Class\", \"Third Class\", \"Second Class\", \"Third Class\", \"Third Class\", \"Second Class\", \"Third Class\", \"Second Class\", \"Second Class\", \"First Class\", \"Third Class\", \"Second Class\", \"Third Class\", \"Second Class\", \"Third Class\", \"Third Class\", \"Second Class\", \"Second Class\", \"Second Class\", \"Third Class\", \"Third Class\", \"Third Class\", \"Third Class\", \"First Class\", \"First Class\", \"Third Class\", \"Third Class\", \"First Class\", \"Third Class\", \"Second Class\", \"First Class\", \"Third Class\", \"Second Class\", \"Third Class\", \"Third Class\", \"Third Class\", \"Second Class\", \"Second Class\", \"Third Class\", \"Second Class\", \"Third Class\", \"First Class\", \"Third Class\", \"Third Class\", \"Third Class\", \"Third Class\", \"First Class\", \"First Class\", \"Third Class\", \"Third Class\", \"Third Class\", \"Third Class\", \"Third Class\", \"Second Class\", \"Third Class\", \"Second Class\", \"Third Class\", \"Third Class\", \"Third Class\", \"Third Class\", \"Third Class\", \"First Class\", \"First Class\", \"Third Class\", \"Third Class\", \"Third Class\", \"Third Class\", \"Third Class\", \"Third Class\", \"First Class\", \"Third Class\", \"Second Class\", \"Third Class\", \"First Class\", \"Third Class\", \"Second Class\", \"First Class\", \"Third Class\", \"Third Class\", \"Third Class\", \"Second Class\", \"Second Class\", \"Third Class\", \"Third Class\", \"Third Class\", \"First Class\", \"Third Class\", \"Second Class\", \"First Class\", \"Third Class\", \"Third Class\", \"Second Class\", \"Third Class\", \"Third Class\", \"First Class\", \"Third Class\", \"Second Class\", \"Third Class\", \"Third Class\", \"First Class\", \"Third Class\", \"First Class\", \"Third Class\", \"Third Class\", \"Third Class\", \"Third Class\", \"Second Class\", \"Third Class\", \"First Class\", \"Third Class\", \"Second Class\", \"Third Class\", \"Third Class\", \"Third Class\", \"First Class\", \"Third Class\", \"Third Class\", \"Third Class\", \"First Class\", \"Third Class\", \"Second Class\", \"First Class\", \"Third Class\", \"Third Class\", \"Third Class\", \"Third Class\", \"Second Class\", \"First Class\", \"Third Class\", \"Third Class\", \"Third Class\", \"First Class\", \"Second Class\", \"Third Class\", \"First Class\", \"Third Class\", \"Third Class\", \"Third Class\", \"Second Class\", \"First Class\", \"Third Class\", \"Second Class\", \"Second Class\", \"Second Class\", \"First Class\", \"Third Class\", \"Third Class\", \"Third Class\", \"First Class\", \"First Class\", \"Third Class\", \"Second Class\", \"Third Class\", \"Third Class\", \"Third Class\", \"Third Class\", \"First Class\", \"Second Class\", \"Third Class\", \"Third Class\", \"Second Class\", \"Third Class\", \"Third Class\", \"Second Class\", \"First Class\", \"Third Class\", \"First Class\", \"Third Class\"], \"xaxis\": \"x2\", \"yaxis\": \"y2\"}, {\"type\": \"histogram\", \"x\": [\"Male\", \"Female\", \"Female\", \"Female\", \"Male\", \"Male\", \"Male\", \"Male\", \"Female\", \"Female\", \"Female\", \"Female\", \"Male\", \"Male\", \"Female\", \"Female\", \"Male\", \"Male\", \"Female\", \"Female\", \"Male\", \"Male\", \"Female\", \"Male\", \"Female\", \"Female\", \"Male\", \"Female\", \"Male\", \"Male\", \"Female\", \"Male\", \"Male\", \"Male\", \"Male\", \"Male\", \"Female\", \"Female\", \"Female\", \"Female\", \"Male\", \"Female\", \"Female\", \"Male\", \"Male\", \"Female\", \"Male\", \"Female\", \"Male\", \"Male\", \"Female\", \"Female\", \"Male\", \"Male\", \"Female\", \"Male\", \"Female\", \"Male\", \"Male\", \"Female\", \"Male\", \"Male\", \"Male\", \"Male\", \"Female\", \"Male\", \"Female\", \"Male\", \"Male\", \"Female\", \"Male\", \"Male\", \"Male\", \"Male\", \"Male\", \"Male\", \"Male\", \"Female\", \"Male\", \"Male\", \"Female\", \"Male\", \"Female\", \"Female\", \"Male\", \"Male\", \"Male\", \"Male\", \"Male\", \"Male\", \"Male\", \"Male\", \"Male\", \"Male\", \"Male\", \"Female\", \"Male\", \"Female\", \"Male\", \"Male\", \"Male\", \"Male\", \"Male\", \"Female\", \"Male\", \"Male\", \"Female\", \"Male\", \"Female\", \"Male\", \"Female\", \"Female\", \"Male\", \"Male\", \"Male\", \"Female\", \"Male\", \"Male\", \"Male\", \"Female\", \"Male\", \"Male\", \"Male\", \"Male\", \"Female\", \"Male\", \"Male\", \"Male\", \"Female\", \"Female\", \"Male\", \"Male\", \"Female\", \"Male\", \"Male\", \"Male\", \"Female\", \"Female\", \"Female\", \"Male\", \"Male\", \"Male\", \"Male\", \"Female\", \"Male\", \"Male\", \"Male\", \"Female\", \"Male\", \"Male\", \"Male\", \"Male\", \"Female\", \"Male\", \"Male\", \"Male\", \"Female\", \"Male\", \"Male\", \"Male\", \"Male\", \"Female\", \"Female\", \"Male\", \"Male\", \"Male\", \"Male\", \"Female\", \"Male\", \"Male\", \"Male\", \"Male\", \"Female\", \"Male\", \"Male\", \"Female\", \"Male\", \"Male\", \"Male\", \"Female\", \"Male\", \"Female\", \"Male\", \"Male\", \"Male\", \"Female\", \"Male\", \"Female\", \"Male\", \"Female\", \"Male\", \"Male\", \"Female\", \"Female\", \"Male\", \"Male\", \"Male\", \"Male\", \"Female\", \"Male\", \"Male\", \"Female\", \"Male\", \"Male\", \"Female\", \"Male\", \"Male\", \"Male\", \"Female\", \"Male\", \"Female\", \"Male\", \"Male\", \"Male\", \"Male\", \"Male\", \"Male\", \"Male\", \"Male\", \"Male\", \"Male\", \"Female\", \"Female\", \"Male\", \"Male\", \"Female\", \"Male\", \"Female\", \"Male\", \"Female\", \"Male\", \"Male\", \"Female\", \"Female\", \"Male\", \"Male\", \"Male\", \"Male\", \"Female\", \"Female\", \"Male\", \"Male\", \"Male\", \"Female\", \"Male\", \"Male\", \"Female\", \"Female\", \"Female\", \"Female\", \"Female\", \"Male\", \"Male\", \"Male\", \"Male\", \"Female\", \"Male\", \"Male\", \"Male\", \"Male\", \"Male\", \"Female\", \"Male\", \"Female\", \"Female\", \"Female\", \"Male\", \"Male\", \"Female\", \"Male\", \"Male\", \"Male\", \"Male\", \"Male\", \"Male\", \"Male\", \"Male\", \"Male\", \"Female\", \"Female\", \"Female\", \"Male\", \"Female\", \"Male\", \"Male\", \"Male\", \"Male\", \"Female\", \"Male\", \"Male\", \"Female\", \"Male\", \"Male\", \"Female\", \"Female\", \"Female\", \"Male\", \"Male\", \"Female\", \"Female\", \"Male\", \"Male\", \"Male\", \"Female\", \"Female\", \"Male\", \"Female\", \"Female\", \"Female\", \"Female\", \"Male\", \"Male\", \"Male\", \"Male\", \"Male\", \"Male\", \"Male\", \"Male\", \"Male\", \"Male\", \"Female\", \"Female\", \"Female\", \"Male\", \"Male\", \"Male\", \"Male\", \"Male\", \"Male\", \"Male\", \"Male\", \"Female\", \"Female\", \"Female\", \"Female\", \"Male\", \"Male\", \"Female\", \"Male\", \"Male\", \"Male\", \"Female\", \"Female\", \"Female\", \"Female\", \"Male\", \"Male\", \"Male\", \"Female\", \"Female\", \"Female\", \"Male\", \"Male\", \"Female\", \"Male\", \"Female\", \"Male\", \"Male\", \"Male\", \"Female\", \"Male\", \"Female\", \"Male\", \"Male\", \"Female\", \"Male\", \"Female\", \"Male\", \"Male\", \"Female\", \"Male\", \"Male\", \"Female\", \"Male\", \"Female\", \"Male\", \"Male\", \"Male\", \"Male\", \"Female\", \"Male\", \"Male\", \"Female\", \"Male\", \"Male\", \"Female\", \"Female\", \"Female\", \"Male\", \"Female\", \"Male\", \"Male\", \"Male\", \"Female\", \"Male\", \"Male\", \"Female\", \"Female\", \"Male\", \"Male\", \"Male\", \"Female\", \"Female\", \"Male\", \"Male\", \"Female\", \"Female\", \"Male\", \"Female\", \"Male\", \"Male\", \"Female\", \"Male\", \"Male\", \"Female\", \"Male\", \"Female\", \"Male\", \"Male\", \"Male\", \"Male\", \"Male\", \"Male\", \"Male\", \"Male\", \"Female\", \"Female\", \"Male\", \"Male\", \"Male\", \"Male\", \"Male\", \"Male\", \"Male\", \"Male\", \"Male\", \"Male\", \"Female\", \"Male\", \"Male\", \"Female\", \"Female\", \"Female\", \"Male\", \"Male\", \"Male\", \"Male\", \"Female\", \"Male\", \"Male\", \"Male\", \"Female\", \"Male\", \"Female\", \"Female\", \"Male\", \"Male\", \"Male\", \"Male\", \"Male\", \"Male\", \"Male\", \"Male\", \"Male\", \"Female\", \"Male\", \"Male\", \"Male\", \"Female\", \"Female\", \"Female\", \"Female\", \"Female\", \"Male\", \"Male\", \"Male\", \"Male\", \"Male\", \"Male\", \"Female\", \"Male\", \"Male\", \"Female\", \"Male\", \"Female\", \"Male\", \"Female\", \"Male\", \"Male\", \"Female\", \"Male\", \"Male\", \"Female\", \"Male\", \"Male\", \"Female\", \"Male\", \"Male\", \"Female\", \"Female\", \"Female\", \"Male\", \"Male\", \"Female\", \"Female\", \"Female\", \"Female\", \"Male\", \"Male\", \"Female\", \"Male\", \"Male\", \"Male\", \"Male\", \"Male\", \"Male\", \"Female\", \"Male\", \"Female\", \"Female\", \"Female\", \"Male\", \"Male\", \"Male\", \"Male\", \"Female\", \"Male\", \"Male\", \"Female\", \"Male\", \"Male\", \"Male\", \"Female\", \"Male\", \"Female\", \"Male\", \"Male\", \"Female\", \"Female\", \"Female\", \"Male\", \"Female\", \"Male\", \"Male\", \"Male\", \"Female\", \"Male\", \"Male\", \"Male\", \"Male\", \"Male\", \"Female\", \"Male\", \"Female\", \"Male\", \"Male\", \"Female\", \"Male\", \"Male\", \"Male\", \"Female\", \"Male\", \"Male\", \"Male\", \"Male\", \"Male\", \"Male\", \"Male\", \"Female\", \"Female\", \"Male\", \"Female\", \"Male\", \"Male\", \"Female\", \"Male\", \"Female\", \"Female\", \"Male\", \"Male\", \"Male\", \"Male\", \"Male\", \"Male\", \"Male\", \"Male\", \"Female\", \"Male\", \"Male\", \"Male\", \"Male\", \"Male\", \"Male\", \"Female\", \"Female\", \"Male\", \"Male\", \"Female\", \"Male\", \"Male\", \"Female\", \"Female\", \"Male\", \"Female\", \"Male\", \"Male\", \"Male\", \"Male\", \"Female\", \"Male\", \"Female\", \"Male\", \"Female\", \"Female\", \"Male\", \"Male\", \"Female\", \"Male\", \"Male\", \"Male\", \"Male\", \"Male\", \"Male\", \"Male\", \"Male\", \"Male\", \"Female\", \"Female\", \"Male\", \"Male\", \"Male\", \"Male\", \"Male\", \"Male\", \"Female\", \"Female\", \"Female\", \"Male\", \"Male\", \"Male\", \"Male\", \"Male\", \"Male\", \"Male\", \"Male\", \"Male\", \"Female\", \"Male\", \"Male\", \"Male\", \"Male\", \"Male\", \"Female\", \"Male\", \"Male\", \"Female\", \"Male\", \"Male\", \"Male\", \"Female\", \"Male\", \"Male\", \"Female\", \"Male\", \"Male\", \"Male\", \"Male\", \"Male\", \"Female\", \"Male\", \"Male\", \"Female\", \"Male\", \"Male\", \"Male\", \"Male\", \"Male\", \"Female\", \"Female\", \"Male\", \"Female\", \"Male\", \"Male\", \"Male\", \"Male\", \"Male\", \"Female\", \"Male\", \"Male\", \"Male\", \"Male\", \"Male\", \"Male\", \"Male\", \"Male\", \"Female\", \"Male\", \"Male\", \"Female\", \"Male\", \"Male\", \"Male\", \"Female\", \"Male\", \"Male\", \"Male\", \"Male\", \"Female\", \"Male\", \"Male\", \"Male\", \"Male\", \"Female\", \"Male\", \"Female\", \"Male\", \"Male\", \"Male\", \"Male\", \"Female\", \"Male\", \"Female\", \"Male\", \"Male\", \"Female\", \"Male\", \"Female\", \"Female\", \"Male\", \"Male\", \"Male\", \"Male\", \"Female\", \"Male\", \"Male\", \"Male\", \"Male\", \"Male\", \"Female\", \"Male\", \"Male\", \"Male\", \"Female\", \"Female\", \"Male\", \"Female\", \"Male\", \"Female\", \"Male\", \"Male\", \"Male\", \"Male\", \"Female\", \"Male\", \"Female\", \"Male\", \"Male\", \"Male\", \"Female\", \"Male\", \"Male\", \"Female\", \"Male\", \"Male\", \"Male\", \"Female\", \"Male\", \"Male\", \"Female\", \"Male\", \"Male\", \"Male\", \"Male\", \"Male\", \"Female\", \"Female\", \"Male\", \"Male\", \"Male\", \"Male\", \"Female\", \"Male\", \"Male\", \"Male\", \"Male\", \"Male\", \"Male\", \"Female\", \"Male\", \"Male\", \"Male\", \"Male\", \"Male\", \"Female\", \"Male\", \"Male\", \"Female\", \"Female\", \"Female\", \"Female\", \"Male\", \"Female\", \"Male\", \"Male\", \"Male\", \"Female\", \"Female\", \"Male\", \"Female\", \"Female\", \"Male\", \"Male\", \"Male\", \"Male\", \"Female\", \"Male\", \"Male\", \"Female\", \"Female\", \"Male\", \"Male\", \"Male\", \"Female\", \"Female\", \"Male\", \"Female\", \"Male\", \"Male\", \"Female\", \"Male\", \"Female\", \"Female\", \"Male\", \"Male\"], \"xaxis\": \"x3\", \"yaxis\": \"y3\"}, {\"type\": \"histogram\", \"x\": [\"Southampton\", \"Cherbourg\", \"Southampton\", \"Southampton\", \"Southampton\", \"Queenstown\", \"Southampton\", \"Southampton\", \"Southampton\", \"Cherbourg\", \"Southampton\", \"Southampton\", \"Southampton\", \"Southampton\", \"Southampton\", \"Southampton\", \"Queenstown\", \"Southampton\", \"Southampton\", \"Cherbourg\", \"Southampton\", \"Southampton\", \"Queenstown\", \"Southampton\", \"Southampton\", \"Southampton\", \"Cherbourg\", \"Queenstown\", \"Southampton\", \"Cherbourg\", \"Queenstown\", \"Southampton\", \"Cherbourg\", \"Southampton\", \"Cherbourg\", \"Southampton\", \"Southampton\", \"Cherbourg\", \"Southampton\", \"Southampton\", \"Cherbourg\", \"Cherbourg\", \"Queenstown\", \"Southampton\", \"Queenstown\", \"Queenstown\", \"Cherbourg\", \"Southampton\", \"Southampton\", \"Southampton\", \"Cherbourg\", \"Southampton\", \"Cherbourg\", \"Southampton\", \"Southampton\", \"Cherbourg\", \"Southampton\", \"Southampton\", \"Cherbourg\", \"Southampton\", \"Southampton\", \"Southampton\", \"Cherbourg\", \"Cherbourg\", \"Southampton\", \"Southampton\", \"Southampton\", \"Southampton\", \"Southampton\", \"Southampton\", \"Southampton\", \"Cherbourg\", \"Southampton\", \"Southampton\", \"Southampton\", \"Southampton\", \"Southampton\", \"Southampton\", \"Southampton\", \"Southampton\", \"Queenstown\", \"Southampton\", \"Southampton\", \"Southampton\", \"Southampton\", \"Southampton\", \"Southampton\", \"Southampton\", \"Southampton\", \"Southampton\", \"Southampton\", \"Southampton\", \"Southampton\", \"Cherbourg\", \"Cherbourg\", \"Southampton\", \"Southampton\", \"Southampton\", \"Southampton\", \"Southampton\", \"Southampton\", \"Southampton\", \"Southampton\", \"Southampton\", \"Southampton\", \"Southampton\", \"Queenstown\", \"Southampton\", \"Cherbourg\", \"Southampton\", \"Southampton\", \"Cherbourg\", \"Southampton\", \"Queenstown\", \"Southampton\", \"Southampton\", \"Southampton\", \"Southampton\", \"Cherbourg\", \"Southampton\", \"Southampton\", \"Cherbourg\", \"Queenstown\", \"Southampton\", \"Cherbourg\", \"Southampton\", \"Cherbourg\", \"Southampton\", \"Southampton\", \"Southampton\", \"Southampton\", \"Cherbourg\", \"Southampton\", \"Southampton\", \"Southampton\", \"Cherbourg\", \"Cherbourg\", \"Southampton\", \"Southampton\", \"Queenstown\", \"Southampton\", \"Southampton\", \"Southampton\", \"Southampton\", \"Southampton\", \"Southampton\", \"Southampton\", \"Southampton\", \"Southampton\", \"Southampton\", \"Southampton\", \"Cherbourg\", \"Queenstown\", \"Southampton\", \"Southampton\", \"Southampton\", \"Southampton\", \"Southampton\", \"Southampton\", \"Southampton\", \"Southampton\", \"Southampton\", \"Southampton\", \"Southampton\", \"Southampton\", \"Southampton\", \"Queenstown\", \"Southampton\", \"Southampton\", \"Cherbourg\", \"Southampton\", \"Southampton\", \"Cherbourg\", \"Southampton\", \"Southampton\", \"Southampton\", \"Cherbourg\", \"Southampton\", \"Southampton\", \"Southampton\", \"Southampton\", \"Queenstown\", \"Southampton\", \"Queenstown\", \"Southampton\", \"Southampton\", \"Southampton\", \"Southampton\", \"Southampton\", \"Cherbourg\", \"Queenstown\", \"Southampton\", \"Queenstown\", \"Southampton\", \"Southampton\", \"Southampton\", \"Cherbourg\", \"Southampton\", \"Southampton\", \"Southampton\", \"Cherbourg\", \"Queenstown\", \"Cherbourg\", \"Southampton\", \"Southampton\", \"Southampton\", \"Southampton\", \"Queenstown\", \"Southampton\", \"Southampton\", \"Cherbourg\", \"Southampton\", \"Southampton\", \"Southampton\", \"Southampton\", \"Southampton\", \"Southampton\", \"Southampton\", \"Southampton\", \"Southampton\", \"Southampton\", \"Southampton\", \"Southampton\", \"Southampton\", \"Southampton\", \"Southampton\", \"Southampton\", \"Southampton\", \"Southampton\", \"Southampton\", \"Southampton\", \"Southampton\", \"Cherbourg\", \"Queenstown\", \"Southampton\", \"Southampton\", \"Cherbourg\", \"Queenstown\", \"Southampton\", \"Southampton\", \"Southampton\", \"Southampton\", \"Southampton\", \"Southampton\", \"Southampton\", \"Southampton\", \"Southampton\", \"Cherbourg\", \"Cherbourg\", \"Southampton\", \"Southampton\", \"Queenstown\", \"Southampton\", \"Southampton\", \"Southampton\", \"Queenstown\", \"Southampton\", \"Southampton\", \"Southampton\", \"Southampton\", \"Southampton\", \"Southampton\", \"Cherbourg\", \"Queenstown\", \"Southampton\", \"Southampton\", \"Southampton\", \"Queenstown\", \"Southampton\", \"Queenstown\", \"Southampton\", \"Southampton\", \"Southampton\", \"Southampton\", \"Cherbourg\", \"Southampton\", \"Southampton\", \"Southampton\", \"Queenstown\", \"Southampton\", \"Cherbourg\", \"Cherbourg\", \"Southampton\", \"Southampton\", \"Cherbourg\", \"Cherbourg\", \"Southampton\", \"Queenstown\", \"Queenstown\", \"Southampton\", \"Queenstown\", \"Southampton\", \"Cherbourg\", \"Cherbourg\", \"Cherbourg\", \"Southampton\", \"Southampton\", \"Southampton\", \"Southampton\", \"Southampton\", \"Southampton\", \"Southampton\", \"Southampton\", \"Queenstown\", \"Southampton\", \"Southampton\", \"Southampton\", \"Southampton\", \"Cherbourg\", \"Queenstown\", \"Southampton\", \"Southampton\", \"Southampton\", \"Southampton\", \"Southampton\", \"Southampton\", \"Southampton\", \"Southampton\", \"Southampton\", \"Southampton\", \"Southampton\", \"Southampton\", \"Southampton\", \"Southampton\", \"Southampton\", \"Southampton\", \"Southampton\", \"Cherbourg\", \"Southampton\", \"Cherbourg\", \"Southampton\", \"Southampton\", \"Southampton\", \"Queenstown\", \"Queenstown\", \"Southampton\", \"Cherbourg\", \"Cherbourg\", \"Southampton\", \"Queenstown\", \"Southampton\", \"Cherbourg\", \"Cherbourg\", \"Queenstown\", \"Cherbourg\", \"Cherbourg\", \"Southampton\", \"Southampton\", \"Southampton\", \"Cherbourg\", \"Southampton\", \"Cherbourg\", \"Southampton\", \"Cherbourg\", \"Southampton\", \"Southampton\", \"Southampton\", \"Southampton\", \"Southampton\", \"Southampton\", \"Queenstown\", \"Cherbourg\", \"Southampton\", \"Southampton\", \"Southampton\", \"Southampton\", \"Southampton\", \"Southampton\", \"Southampton\", \"Southampton\", \"Southampton\", \"Southampton\", \"Southampton\", \"Southampton\", \"Southampton\", \"Southampton\", \"Southampton\", \"Southampton\", \"Southampton\", \"Southampton\", \"Southampton\", \"Queenstown\", \"Queenstown\", \"Southampton\", \"Southampton\", \"Southampton\", \"Southampton\", \"Southampton\", \"Southampton\", \"Southampton\", \"Cherbourg\", \"Queenstown\", \"Southampton\", \"Southampton\", \"Southampton\", \"Southampton\", \"Southampton\", \"Southampton\", \"Queenstown\", \"Southampton\", \"Southampton\", \"Southampton\", \"Southampton\", \"Southampton\", \"Southampton\", \"Southampton\", \"Southampton\", \"Southampton\", \"Southampton\", \"Southampton\", \"Southampton\", \"Southampton\", \"Southampton\", \"Southampton\", \"Southampton\", \"Southampton\", \"Cherbourg\", \"Southampton\", \"Southampton\", \"Southampton\", \"Cherbourg\", \"Cherbourg\", \"Southampton\", \"Cherbourg\", \"Southampton\", \"Southampton\", \"Southampton\", \"Queenstown\", \"Southampton\", \"Southampton\", \"Southampton\", \"Southampton\", \"Southampton\", \"Southampton\", \"Southampton\", \"Southampton\", \"Queenstown\", \"Cherbourg\", \"Southampton\", \"Southampton\", \"Southampton\", \"Cherbourg\", \"Southampton\", \"Southampton\", \"Southampton\", \"Southampton\", \"Southampton\", \"Southampton\", \"Southampton\", \"Southampton\", \"Southampton\", \"Southampton\", \"Cherbourg\", \"Southampton\", \"Southampton\", \"Cherbourg\", \"Southampton\", \"Southampton\", \"Southampton\", \"Southampton\", \"Southampton\", \"Cherbourg\", \"Southampton\", \"Cherbourg\", \"Cherbourg\", \"Southampton\", \"Southampton\", \"Southampton\", \"Queenstown\", \"Queenstown\", \"Southampton\", \"Southampton\", \"Southampton\", \"Southampton\", \"Southampton\", \"Southampton\", \"Queenstown\", \"Southampton\", \"Southampton\", \"Cherbourg\", \"Southampton\", \"Southampton\", \"Southampton\", \"Queenstown\", \"Southampton\", \"Southampton\", \"Southampton\", \"Southampton\", \"Cherbourg\", \"Cherbourg\", \"Cherbourg\", \"Queenstown\", \"Southampton\", \"Southampton\", \"Southampton\", \"Southampton\", \"Cherbourg\", \"Cherbourg\", \"Cherbourg\", \"Southampton\", \"Southampton\", \"Southampton\", \"Southampton\", \"Cherbourg\", \"Southampton\", \"Southampton\", \"Southampton\", \"Southampton\", \"Southampton\", \"Southampton\", \"Cherbourg\", \"Southampton\", \"Southampton\", \"Southampton\", \"Queenstown\", \"Cherbourg\", \"Southampton\", \"Southampton\", \"Cherbourg\", \"Southampton\", \"Southampton\", \"Queenstown\", \"Southampton\", \"Southampton\", \"Southampton\", \"Southampton\", \"Southampton\", \"Southampton\", \"Southampton\", \"Cherbourg\", \"Southampton\", \"Southampton\", \"Southampton\", \"Southampton\", \"Queenstown\", \"Southampton\", \"Southampton\", \"Southampton\", \"Southampton\", \"Cherbourg\", \"Southampton\", \"Southampton\", \"Southampton\", \"Cherbourg\", \"Cherbourg\", \"Southampton\", \"Southampton\", \"Cherbourg\", \"Southampton\", \"Southampton\", \"Southampton\", \"Cherbourg\", \"Southampton\", \"Queenstown\", \"Southampton\", \"Southampton\", \"Southampton\", \"Southampton\", \"Cherbourg\", \"Cherbourg\", \"Southampton\", \"Southampton\", \"Southampton\", \"Southampton\", \"Cherbourg\", \"Southampton\", \"Southampton\", \"Southampton\", \"Cherbourg\", \"Southampton\", \"Southampton\", \"Queenstown\", \"Queenstown\", \"Southampton\", \"Southampton\", \"Southampton\", \"Southampton\", \"Southampton\", \"Southampton\", \"Cherbourg\", \"Southampton\", \"Cherbourg\", \"Southampton\", \"Southampton\", \"Southampton\", \"Queenstown\", \"Southampton\", \"Southampton\", \"Queenstown\", \"Southampton\", \"Southampton\", \"Cherbourg\", \"Southampton\", \"Southampton\", \"Southampton\", \"Southampton\", \"Southampton\", \"Southampton\", \"Southampton\", \"Southampton\", \"Cherbourg\", \"Southampton\", \"Southampton\", \"Cherbourg\", \"Cherbourg\", \"Southampton\", \"Cherbourg\", \"Southampton\", \"Southampton\", \"Southampton\", \"Southampton\", \"Southampton\", \"Queenstown\", \"Queenstown\", \"Southampton\", \"Southampton\", \"Queenstown\", \"Southampton\", \"Cherbourg\", \"Southampton\", \"Southampton\", \"Southampton\", \"Southampton\", \"Southampton\", \"Southampton\", \"Southampton\", \"Southampton\", \"Southampton\", \"Southampton\", \"Southampton\", \"Southampton\", \"Southampton\", \"Southampton\", \"Southampton\", \"Southampton\", \"Southampton\", \"Queenstown\", \"Cherbourg\", \"Southampton\", \"Southampton\", \"Southampton\", \"Cherbourg\", \"Southampton\", \"Southampton\", \"Southampton\", \"Southampton\", \"Cherbourg\", \"Southampton\", \"Cherbourg\", \"Southampton\", \"Southampton\", \"Southampton\", \"Queenstown\", \"Southampton\", \"Southampton\", \"Cherbourg\", \"Queenstown\", \"Southampton\", \"Southampton\", \"Southampton\", \"Southampton\", \"Cherbourg\", \"Cherbourg\", \"Southampton\", \"Southampton\", \"Southampton\", \"Southampton\", \"Southampton\", \"Southampton\", \"Queenstown\", \"Southampton\", \"Southampton\", \"Southampton\", \"Southampton\", \"Southampton\", \"Southampton\", \"Southampton\", \"Southampton\", \"Queenstown\", \"Southampton\", \"Southampton\", \"Cherbourg\", \"Southampton\", \"Southampton\", \"Southampton\", \"Southampton\", \"Southampton\", \"Southampton\", \"Southampton\", \"Southampton\", \"Southampton\", \"Southampton\", \"Southampton\", \"Southampton\", \"Southampton\", \"Southampton\", \"Southampton\", \"Queenstown\", \"Southampton\", \"Southampton\", \"Southampton\", \"Southampton\", \"Southampton\", \"Southampton\", \"Southampton\", \"Southampton\", \"Southampton\", \"Southampton\", \"Southampton\", \"Southampton\", \"Cherbourg\", \"Southampton\", \"Southampton\", \"Cherbourg\", \"Queenstown\", \"Queenstown\", \"Southampton\", \"Southampton\", \"Southampton\", \"Southampton\", \"Cherbourg\", \"Southampton\", \"Southampton\", \"Queenstown\", \"Southampton\", \"Queenstown\", \"Cherbourg\", \"Southampton\", \"Southampton\", \"Southampton\", \"Southampton\", \"Southampton\", \"Southampton\", \"Queenstown\", \"Southampton\", \"Cherbourg\", \"Queenstown\", \"Southampton\", \"Southampton\", \"Cherbourg\", \"Southampton\", \"Southampton\", \"Southampton\", \"Southampton\", \"Cherbourg\", \"Southampton\", \"Southampton\", \"Southampton\", \"Cherbourg\", \"Southampton\", \"Southampton\", \"Southampton\", \"Southampton\", \"Southampton\", \"Southampton\", \"Southampton\", \"Southampton\", \"Southampton\", \"Southampton\", \"Southampton\", \"Southampton\", \"Southampton\", \"Cherbourg\", \"Southampton\", \"Southampton\", \"Southampton\", \"Southampton\", \"Southampton\", \"Southampton\", \"Southampton\", \"Queenstown\", \"Southampton\", \"Cherbourg\", \"Queenstown\", \"Southampton\", \"Cherbourg\", \"Southampton\", \"Cherbourg\", \"Southampton\", \"Southampton\", \"Cherbourg\", \"Southampton\", \"Southampton\", \"Southampton\", \"Cherbourg\", \"Southampton\", \"Southampton\", \"Cherbourg\", \"Cherbourg\", \"Southampton\", \"Southampton\", \"Cherbourg\", \"Southampton\", \"Cherbourg\", \"Southampton\", \"Southampton\", \"Cherbourg\", \"Southampton\", \"Southampton\", \"Southampton\", \"Southampton\", \"Cherbourg\", \"Cherbourg\", \"Southampton\", \"Southampton\", \"Southampton\", \"Southampton\", \"Southampton\", \"Southampton\", \"Cherbourg\", \"Southampton\", \"Southampton\", \"Southampton\", \"Southampton\", \"Southampton\", \"Southampton\", \"Southampton\", \"Cherbourg\", \"Cherbourg\", \"Southampton\", \"Southampton\", \"Southampton\", \"Cherbourg\", \"Southampton\", \"Southampton\", \"Southampton\", \"Southampton\", \"Southampton\", \"Queenstown\", \"Southampton\", \"Southampton\", \"Southampton\", \"Cherbourg\", \"Queenstown\"], \"xaxis\": \"x4\", \"yaxis\": \"y4\"}, {\"type\": \"histogram\", \"x\": [\"Not Rare\", \"Not Rare\", \"Not Rare\", \"Not Rare\", \"Not Rare\", \"Not Rare\", \"Not Rare\", \"Not Rare\", \"Not Rare\", \"Not Rare\", \"Not Rare\", \"Not Rare\", \"Not Rare\", \"Not Rare\", \"Not Rare\", \"Not Rare\", \"Not Rare\", \"Not Rare\", \"Not Rare\", \"Not Rare\", \"Not Rare\", \"Not Rare\", \"Not Rare\", \"Not Rare\", \"Not Rare\", \"Not Rare\", \"Not Rare\", \"Not Rare\", \"Rare\", \"Not Rare\", \"Not Rare\", \"Not Rare\", \"Not Rare\", \"Not Rare\", \"Not Rare\", \"Not Rare\", \"Not Rare\", \"Not Rare\", \"Not Rare\", \"Not Rare\", \"Not Rare\", \"Not Rare\", \"Not Rare\", \"Not Rare\", \"Not Rare\", \"Not Rare\", \"Not Rare\", \"Not Rare\", \"Not Rare\", \"Not Rare\", \"Not Rare\", \"Not Rare\", \"Not Rare\", \"Not Rare\", \"Not Rare\", \"Not Rare\", \"Not Rare\", \"Not Rare\", \"Not Rare\", \"Not Rare\", \"Not Rare\", \"Not Rare\", \"Not Rare\", \"Not Rare\", \"Not Rare\", \"Not Rare\", \"Not Rare\", \"Not Rare\", \"Not Rare\", \"Not Rare\", \"Not Rare\", \"Not Rare\", \"Not Rare\", \"Not Rare\", \"Not Rare\", \"Not Rare\", \"Not Rare\", \"Not Rare\", \"Not Rare\", \"Not Rare\", \"Not Rare\", \"Not Rare\", \"Not Rare\", \"Not Rare\", \"Not Rare\", \"Not Rare\", \"Not Rare\", \"Not Rare\", \"Not Rare\", \"Not Rare\", \"Not Rare\", \"Not Rare\", \"Not Rare\", \"Not Rare\", \"Not Rare\", \"Not Rare\", \"Not Rare\", \"Not Rare\", \"Not Rare\", \"Not Rare\", \"Not Rare\", \"Not Rare\", \"Not Rare\", \"Not Rare\", \"Not Rare\", \"Not Rare\", \"Not Rare\", \"Not Rare\", \"Not Rare\", \"Not Rare\", \"Not Rare\", \"Not Rare\", \"Not Rare\", \"Not Rare\", \"Not Rare\", \"Not Rare\", \"Not Rare\", \"Not Rare\", \"Not Rare\", \"Not Rare\", \"Not Rare\", \"Not Rare\", \"Not Rare\", \"Not Rare\", \"Not Rare\", \"Not Rare\", \"Not Rare\", \"Not Rare\", \"Not Rare\", \"Not Rare\", \"Not Rare\", \"Not Rare\", \"Not Rare\", \"Not Rare\", \"Not Rare\", \"Not Rare\", \"Not Rare\", \"Not Rare\", \"Not Rare\", \"Not Rare\", \"Not Rare\", \"Rare\", \"Rare\", \"Not Rare\", \"Not Rare\", \"Not Rare\", \"Not Rare\", \"Not Rare\", \"Not Rare\", \"Not Rare\", \"Not Rare\", \"Not Rare\", \"Not Rare\", \"Not Rare\", \"Not Rare\", \"Not Rare\", \"Not Rare\", \"Not Rare\", \"Not Rare\", \"Not Rare\", \"Not Rare\", \"Not Rare\", \"Not Rare\", \"Not Rare\", \"Not Rare\", \"Not Rare\", \"Not Rare\", \"Not Rare\", \"Not Rare\", \"Not Rare\", \"Not Rare\", \"Not Rare\", \"Not Rare\", \"Not Rare\", \"Not Rare\", \"Not Rare\", \"Not Rare\", \"Not Rare\", \"Not Rare\", \"Not Rare\", \"Not Rare\", \"Not Rare\", \"Not Rare\", \"Not Rare\", \"Not Rare\", \"Not Rare\", \"Not Rare\", \"Not Rare\", \"Not Rare\", \"Not Rare\", \"Not Rare\", \"Not Rare\", \"Not Rare\", \"Not Rare\", \"Not Rare\", \"Not Rare\", \"Not Rare\", \"Not Rare\", \"Not Rare\", \"Not Rare\", \"Not Rare\", \"Not Rare\", \"Not Rare\", \"Not Rare\", \"Not Rare\", \"Not Rare\", \"Not Rare\", \"Not Rare\", \"Not Rare\", \"Not Rare\", \"Not Rare\", \"Not Rare\", \"Not Rare\", \"Not Rare\", \"Not Rare\", \"Not Rare\", \"Not Rare\", \"Not Rare\", \"Not Rare\", \"Not Rare\", \"Not Rare\", \"Not Rare\", \"Not Rare\", \"Not Rare\", \"Not Rare\", \"Not Rare\", \"Not Rare\", \"Not Rare\", \"Not Rare\", \"Not Rare\", \"Not Rare\", \"Rare\", \"Not Rare\", \"Not Rare\", \"Not Rare\", \"Rare\", \"Not Rare\", \"Not Rare\", \"Not Rare\", \"Not Rare\", \"Not Rare\", \"Not Rare\", \"Not Rare\", \"Not Rare\", \"Not Rare\", \"Not Rare\", \"Not Rare\", \"Not Rare\", \"Not Rare\", \"Not Rare\", \"Not Rare\", \"Not Rare\", \"Not Rare\", \"Not Rare\", \"Not Rare\", \"Not Rare\", \"Not Rare\", \"Not Rare\", \"Not Rare\", \"Not Rare\", \"Not Rare\", \"Not Rare\", \"Not Rare\", \"Not Rare\", \"Not Rare\", \"Not Rare\", \"Not Rare\", \"Not Rare\", \"Not Rare\", \"Not Rare\", \"Not Rare\", \"Not Rare\", \"Not Rare\", \"Not Rare\", \"Not Rare\", \"Not Rare\", \"Not Rare\", \"Not Rare\", \"Not Rare\", \"Not Rare\", \"Not Rare\", \"Not Rare\", \"Not Rare\", \"Not Rare\", \"Not Rare\", \"Not Rare\", \"Not Rare\", \"Not Rare\", \"Not Rare\", \"Rare\", \"Not Rare\", \"Not Rare\", \"Not Rare\", \"Not Rare\", \"Not Rare\", \"Not Rare\", \"Not Rare\", \"Not Rare\", \"Not Rare\", \"Not Rare\", \"Not Rare\", \"Not Rare\", \"Not Rare\", \"Not Rare\", \"Not Rare\", \"Not Rare\", \"Not Rare\", \"Not Rare\", \"Not Rare\", \"Not Rare\", \"Not Rare\", \"Not Rare\", \"Not Rare\", \"Not Rare\", \"Not Rare\", \"Not Rare\", \"Not Rare\", \"Not Rare\", \"Not Rare\", \"Not Rare\", \"Not Rare\", \"Not Rare\", \"Not Rare\", \"Not Rare\", \"Not Rare\", \"Not Rare\", \"Not Rare\", \"Not Rare\", \"Not Rare\", \"Not Rare\", \"Not Rare\", \"Not Rare\", \"Not Rare\", \"Not Rare\", \"Not Rare\", \"Not Rare\", \"Not Rare\", \"Not Rare\", \"Not Rare\", \"Not Rare\", \"Not Rare\", \"Not Rare\", \"Not Rare\", \"Not Rare\", \"Not Rare\", \"Not Rare\", \"Rare\", \"Not Rare\", \"Not Rare\", \"Not Rare\", \"Not Rare\", \"Not Rare\", \"Not Rare\", \"Not Rare\", \"Not Rare\", \"Not Rare\", \"Not Rare\", \"Not Rare\", \"Not Rare\", \"Not Rare\", \"Not Rare\", \"Not Rare\", \"Not Rare\", \"Not Rare\", \"Not Rare\", \"Not Rare\", \"Not Rare\", \"Not Rare\", \"Not Rare\", \"Not Rare\", \"Not Rare\", \"Not Rare\", \"Not Rare\", \"Not Rare\", \"Not Rare\", \"Not Rare\", \"Not Rare\", \"Not Rare\", \"Not Rare\", \"Not Rare\", \"Not Rare\", \"Not Rare\", \"Not Rare\", \"Not Rare\", \"Not Rare\", \"Not Rare\", \"Not Rare\", \"Not Rare\", \"Not Rare\", \"Not Rare\", \"Rare\", \"Not Rare\", \"Not Rare\", \"Not Rare\", \"Not Rare\", \"Not Rare\", \"Not Rare\", \"Not Rare\", \"Not Rare\", \"Not Rare\", \"Not Rare\", \"Not Rare\", \"Not Rare\", \"Not Rare\", \"Not Rare\", \"Not Rare\", \"Not Rare\", \"Not Rare\", \"Not Rare\", \"Not Rare\", \"Not Rare\", \"Not Rare\", \"Not Rare\", \"Not Rare\", \"Not Rare\", \"Not Rare\", \"Not Rare\", \"Not Rare\", \"Not Rare\", \"Not Rare\", \"Not Rare\", \"Not Rare\", \"Not Rare\", \"Not Rare\", \"Not Rare\", \"Not Rare\", \"Not Rare\", \"Not Rare\", \"Not Rare\", \"Not Rare\", \"Not Rare\", \"Not Rare\", \"Not Rare\", \"Not Rare\", \"Not Rare\", \"Not Rare\", \"Not Rare\", \"Not Rare\", \"Not Rare\", \"Not Rare\", \"Not Rare\", \"Not Rare\", \"Not Rare\", \"Not Rare\", \"Not Rare\", \"Not Rare\", \"Not Rare\", \"Not Rare\", \"Not Rare\", \"Not Rare\", \"Not Rare\", \"Not Rare\", \"Not Rare\", \"Not Rare\", \"Not Rare\", \"Not Rare\", \"Not Rare\", \"Not Rare\", \"Not Rare\", \"Not Rare\", \"Not Rare\", \"Not Rare\", \"Not Rare\", \"Not Rare\", \"Not Rare\", \"Not Rare\", \"Not Rare\", \"Not Rare\", \"Not Rare\", \"Not Rare\", \"Not Rare\", \"Rare\", \"Not Rare\", \"Not Rare\", \"Not Rare\", \"Not Rare\", \"Not Rare\", \"Not Rare\", \"Not Rare\", \"Not Rare\", \"Not Rare\", \"Not Rare\", \"Not Rare\", \"Not Rare\", \"Not Rare\", \"Not Rare\", \"Not Rare\", \"Rare\", \"Not Rare\", \"Not Rare\", \"Not Rare\", \"Not Rare\", \"Not Rare\", \"Not Rare\", \"Not Rare\", \"Not Rare\", \"Not Rare\", \"Not Rare\", \"Not Rare\", \"Not Rare\", \"Not Rare\", \"Not Rare\", \"Not Rare\", \"Not Rare\", \"Not Rare\", \"Not Rare\", \"Not Rare\", \"Not Rare\", \"Not Rare\", \"Not Rare\", \"Not Rare\", \"Not Rare\", \"Not Rare\", \"Not Rare\", \"Not Rare\", \"Not Rare\", \"Not Rare\", \"Not Rare\", \"Not Rare\", \"Not Rare\", \"Not Rare\", \"Not Rare\", \"Not Rare\", \"Rare\", \"Not Rare\", \"Not Rare\", \"Not Rare\", \"Not Rare\", \"Not Rare\", \"Not Rare\", \"Not Rare\", \"Not Rare\", \"Not Rare\", \"Not Rare\", \"Not Rare\", \"Not Rare\", \"Not Rare\", \"Not Rare\", \"Not Rare\", \"Not Rare\", \"Not Rare\", \"Not Rare\", \"Not Rare\", \"Not Rare\", \"Not Rare\", \"Not Rare\", \"Not Rare\", \"Not Rare\", \"Rare\", \"Not Rare\", \"Not Rare\", \"Not Rare\", \"Not Rare\", \"Not Rare\", \"Rare\", \"Not Rare\", \"Not Rare\", \"Not Rare\", \"Not Rare\", \"Not Rare\", \"Not Rare\", \"Not Rare\", \"Not Rare\", \"Not Rare\", \"Not Rare\", \"Not Rare\", \"Not Rare\", \"Not Rare\", \"Not Rare\", \"Not Rare\", \"Not Rare\", \"Not Rare\", \"Not Rare\", \"Not Rare\", \"Not Rare\", \"Not Rare\", \"Not Rare\", \"Not Rare\", \"Not Rare\", \"Not Rare\", \"Not Rare\", \"Not Rare\", \"Not Rare\", \"Not Rare\", \"Not Rare\", \"Not Rare\", \"Not Rare\", \"Not Rare\", \"Not Rare\", \"Not Rare\", \"Not Rare\", \"Not Rare\", \"Not Rare\", \"Not Rare\", \"Not Rare\", \"Not Rare\", \"Not Rare\", \"Not Rare\", \"Not Rare\", \"Not Rare\", \"Not Rare\", \"Not Rare\", \"Not Rare\", \"Not Rare\", \"Not Rare\", \"Not Rare\", \"Not Rare\", \"Not Rare\", \"Not Rare\", \"Not Rare\", \"Not Rare\", \"Rare\", \"Not Rare\", \"Not Rare\", \"Not Rare\", \"Not Rare\", \"Not Rare\", \"Not Rare\", \"Not Rare\", \"Not Rare\", \"Not Rare\", \"Not Rare\", \"Not Rare\", \"Not Rare\", \"Not Rare\", \"Not Rare\", \"Not Rare\", \"Not Rare\", \"Not Rare\", \"Not Rare\", \"Not Rare\", \"Not Rare\", \"Not Rare\", \"Not Rare\", \"Not Rare\", \"Not Rare\", \"Not Rare\", \"Not Rare\", \"Not Rare\", \"Not Rare\", \"Not Rare\", \"Not Rare\", \"Not Rare\", \"Not Rare\", \"Not Rare\", \"Not Rare\", \"Not Rare\", \"Not Rare\", \"Not Rare\", \"Not Rare\", \"Not Rare\", \"Rare\", \"Not Rare\", \"Not Rare\", \"Not Rare\", \"Not Rare\", \"Not Rare\", \"Not Rare\", \"Not Rare\", \"Not Rare\", \"Not Rare\", \"Not Rare\", \"Rare\", \"Not Rare\", \"Not Rare\", \"Not Rare\", \"Not Rare\", \"Not Rare\", \"Not Rare\", \"Not Rare\", \"Not Rare\", \"Not Rare\", \"Not Rare\", \"Not Rare\", \"Not Rare\", \"Not Rare\", \"Not Rare\", \"Not Rare\", \"Not Rare\", \"Not Rare\", \"Not Rare\", \"Not Rare\", \"Not Rare\", \"Not Rare\", \"Not Rare\", \"Not Rare\", \"Not Rare\", \"Not Rare\", \"Not Rare\", \"Not Rare\", \"Not Rare\", \"Not Rare\", \"Not Rare\", \"Rare\", \"Not Rare\", \"Not Rare\", \"Not Rare\", \"Not Rare\", \"Not Rare\", \"Not Rare\", \"Not Rare\", \"Not Rare\", \"Not Rare\", \"Not Rare\", \"Not Rare\", \"Not Rare\", \"Not Rare\", \"Not Rare\", \"Not Rare\", \"Not Rare\", \"Not Rare\", \"Not Rare\", \"Not Rare\", \"Not Rare\", \"Not Rare\", \"Not Rare\", \"Not Rare\", \"Rare\", \"Not Rare\", \"Not Rare\", \"Not Rare\", \"Not Rare\", \"Not Rare\", \"Not Rare\", \"Not Rare\", \"Not Rare\", \"Not Rare\", \"Not Rare\", \"Not Rare\", \"Not Rare\", \"Not Rare\", \"Not Rare\", \"Not Rare\", \"Not Rare\", \"Not Rare\", \"Not Rare\", \"Not Rare\", \"Not Rare\", \"Not Rare\", \"Not Rare\", \"Not Rare\", \"Not Rare\", \"Rare\", \"Not Rare\", \"Not Rare\", \"Not Rare\", \"Not Rare\", \"Not Rare\", \"Not Rare\", \"Not Rare\", \"Not Rare\", \"Not Rare\", \"Not Rare\", \"Not Rare\", \"Not Rare\", \"Not Rare\", \"Not Rare\", \"Not Rare\", \"Not Rare\", \"Not Rare\", \"Not Rare\", \"Not Rare\", \"Not Rare\", \"Not Rare\", \"Not Rare\", \"Not Rare\", \"Not Rare\", \"Not Rare\", \"Not Rare\", \"Not Rare\", \"Not Rare\", \"Not Rare\", \"Not Rare\", \"Not Rare\", \"Not Rare\", \"Not Rare\", \"Not Rare\", \"Not Rare\", \"Rare\", \"Not Rare\", \"Not Rare\", \"Not Rare\", \"Not Rare\", \"Not Rare\", \"Not Rare\", \"Not Rare\", \"Not Rare\", \"Not Rare\", \"Not Rare\", \"Not Rare\", \"Not Rare\", \"Not Rare\", \"Not Rare\", \"Not Rare\", \"Not Rare\", \"Not Rare\", \"Not Rare\", \"Not Rare\", \"Not Rare\", \"Not Rare\", \"Not Rare\", \"Not Rare\", \"Not Rare\", \"Not Rare\", \"Not Rare\", \"Not Rare\", \"Not Rare\", \"Not Rare\", \"Not Rare\", \"Not Rare\", \"Not Rare\", \"Not Rare\", \"Not Rare\", \"Not Rare\", \"Not Rare\", \"Not Rare\", \"Not Rare\", \"Not Rare\", \"Not Rare\", \"Not Rare\", \"Not Rare\", \"Not Rare\", \"Not Rare\", \"Not Rare\", \"Not Rare\", \"Not Rare\", \"Not Rare\", \"Not Rare\", \"Not Rare\", \"Not Rare\", \"Not Rare\", \"Not Rare\", \"Not Rare\", \"Not Rare\"], \"xaxis\": \"x5\", \"yaxis\": \"y5\"}, {\"type\": \"histogram\", \"x\": [22.0, 38.0, 26.0, 35.0, 35.0, 28.73594301714884, 54.0, 2.0, 27.0, 14.0, 4.0, 58.0, 20.0, 39.0, 14.0, 55.0, 2.0, 23.712007927530486, 31.0, 18.134434110595002, 35.0, 34.0, 15.0, 28.0, 8.0, 38.0, 16.525482535087434, 30.1149609414842, 28.807347811858456, 40.0, 30.063661636128565, 66.0, 28.0, 42.0, 8.93981373916426, 21.0, 18.0, 14.0, 40.0, 27.0, 16.79182598735184, 3.0, 19.0, 28.868573453389722, 25.22019614376142, 30.063661636128565, 9.641216206469489, 18.0, 7.0, 21.0, 49.0, 29.0, 65.0, 27.719870769403443, 21.0, 28.5, 5.0, 11.0, 22.0, 38.0, 45.0, 4.0, 20.20292719020024, 2.5145866935262013, 29.0, 19.0, 17.0, 26.0, 32.0, 16.0, 21.0, 26.0, 32.0, 25.0, 28.807347811858456, 28.868573453389722, 0.83, 30.0, 22.0, 29.0, 30.078551140392, 28.0, 17.0, 33.0, 16.0, 28.868573453389722, 24.0, 29.0, 20.0, 46.0, 26.0, 59.0, 28.868573453389722, 71.0, 23.0, 34.0, 34.0, 28.0, 28.807347811858456, 21.0, 33.0, 37.0, 28.0, 21.0, 21.17204733505715, 38.0, 30.263660036035667, 47.0, 14.5, 22.0, 20.0, 17.0, 21.0, 70.5, 29.0, 2.0, 21.0, 28.868573453389722, 32.5, 32.5, 54.0, 12.0, 28.454710060620997, 24.0, 14.534917331400113, 45.0, 33.0, 20.0, 47.0, 29.0, 25.0, 23.0, 19.0, 37.0, 16.0, 24.0, 22.313321663383476, 22.0, 24.0, 19.0, 18.0, 19.0, 27.0, 9.0, 36.5, 42.0, 51.0, 22.0, 55.5, 40.5, 28.575746536208747, 51.0, 16.0, 30.0, 29.11176868969256, 44.0, 40.0, 26.0, 17.0, 1.0, 9.0, 41.36213340454479, 45.0, 31.505420434539275, 28.0, 61.0, 4.0, 1.0, 21.0, 56.0, 18.0, 13.552332252524412, 50.0, 30.0, 36.0, 5.397088235398121, 20.097782089825902, 9.0, 1.0, 4.0, 41.064482171667336, 26.82914771926899, 45.0, 40.0, 36.0, 32.0, 19.0, 19.0, 3.0, 44.0, 28.454710060620997, 42.0, 30.063661636128565, 24.0, 28.0, 34.0, 45.5, 18.0, 2.0, 32.0, 26.0, 16.0, 40.0, 24.0, 35.0, 22.0, 30.0, 22.14303192931729, 27.0, 42.0, 32.0, 30.0, 16.0, 27.0, 51.0, 28.807347811858456, 38.0, 22.0, 19.0, 20.5, 18.0, 22.74862024843266, 35.0, 29.0, 59.0, 5.0, 24.0, 37.86633472578544, 44.0, 8.0, 19.0, 33.0, 22.280471178925463, 26.82914771926899, 29.0, 22.0, 30.0, 44.0, 25.0, 24.0, 37.0, 54.0, 28.55093069576968, 29.0, 62.0, 30.0, 41.0, 29.0, 42.25187257579973, 30.0, 50.0, 28.454710060620997, 3.0, 52.0, 40.0, 37.65099805652925, 36.0, 16.0, 25.0, 33.5204666781914, 25.0, 41.0, 37.0, 30.063661636128565, 63.0, 45.0, 26.13764953660553, 7.0, 35.0, 65.0, 28.0, 16.0, 19.0, 31.535199443066155, 33.0, 30.0, 22.0, 42.0, 22.0, 26.0, 19.0, 36.0, 24.0, 24.0, 20.20292719020024, 23.5, 25.734603534278193, 30.063661636128565, 14.398345806501164, 19.0, 32.35546382421125, 28.868573453389722, 30.0, 30.0, 24.0, 26.0, 28.0, 43.0, 26.0, 24.0, 54.0, 22.0, 27.0, 30.0, 22.0, 61.0, 36.0, 31.0, 16.0, 23.59463380240941, 45.5, 16.0, 28.807347811858456, 29.0, 45.0, 45.0, 2.0, 28.0, 25.0, 36.0, 24.0, 40.0, 27.362127146145227, 3.0, 42.0, 23.0, 35.108680466291595, 15.0, 25.0, 16.525482535087434, 28.0, 22.0, 38.0, 30.1149609414842, 30.1149609414842, 40.0, 29.0, 45.0, 35.0, 25.22019614376142, 30.0, 60.0, 18.136101735072508, 30.063661636128565, 24.0, 25.0, 18.0, 19.0, 3.0, 37.11976082491804, 22.0, 20.0, 19.0, 1.0, 32.0, 35.0, 28.807347811858456, 18.0, 1.0, 36.0, 28.446451348922878, 17.0, 21.0, 28.0, 24.0, 22.0, 31.0, 46.0, 23.0, 28.0, 39.0, 26.0, 21.0, 28.0, 20.0, 34.0, 51.0, 3.0, 21.0, 22.74862024843266, 28.807347811858456, 28.100657501908763, 33.0, 26.13764953660553, 44.0, 38.06486144929797, 34.0, 18.0, 30.0, 10.0, 16.79182598735184, 21.0, 29.0, 28.0, 18.0, 28.55093069576968, 28.0, 19.0, 28.454710060620997, 32.0, 28.0, 27.362127146145227, 42.0, 17.0, 50.0, 21.0, 24.0, 31.0, 45.0, 20.0, 25.0, 28.0, 21.306052873428108, 4.0, 13.0, 34.0, 5.0, 52.0, 36.0, 27.288462134249418, 30.0, 49.0, 28.868573453389722, 29.0, 65.0, 37.10126766095535, 50.0, 28.454710060620997, 48.0, 34.0, 47.0, 48.0, 28.868573453389722, 38.0, 26.13764953660553, 56.0, 28.444783724445372, 0.75, 28.55093069576968, 38.0, 33.0, 23.0, 22.0, 41.85858906571744, 34.0, 29.0, 22.0, 2.0, 9.0, 26.13764953660553, 50.0, 63.0, 25.0, 22.74862024843266, 35.0, 58.0, 30.0, 9.0, 27.288462134249418, 21.0, 55.0, 71.0, 21.0, 19.397489233453726, 54.0, 31.667800254916322, 24.0, 17.0, 21.0, 37.603034000128616, 37.0, 16.0, 33.0, 24.16624241852925, 28.0, 26.0, 29.0, 28.868573453389722, 36.0, 54.0, 24.0, 47.0, 34.0, 34.96638659183181, 36.0, 32.0, 30.0, 22.0, 16.525482535087434, 44.0, 16.52715015956494, 40.5, 50.0, 39.0, 23.0, 2.0, 16.52715015956494, 17.0, 17.55002788494846, 30.0, 7.0, 45.0, 31.42956818670129, 22.0, 36.0, 9.0, 11.0, 32.0, 64.0, 19.0, 12.038944701082976, 33.0, 8.0, 27.0, 28.486156693625382, 22.0, 22.0, 62.0, 48.0, 39.0, 36.0, 28.454710060620997, 40.0, 28.0, 28.868573453389722, 38.06486144929797, 24.0, 19.0, 29.0, 16.52715015956494, 32.0, 62.0, 53.0, 36.0, 30.063661636128565, 16.0, 19.0, 34.0, 39.0, 22.282099098058264, 32.0, 25.0, 54.0, 36.0, 17.116099537537195, 18.0, 47.0, 60.0, 22.0, 28.868573453389722, 35.0, 52.0, 47.0, 31.05786290101852, 37.0, 36.0, 40.849364863939726, 49.0, 16.525482535087434, 49.0, 24.0, 28.807347811858456, 38.046875974276965, 44.0, 35.0, 36.0, 30.0, 27.0, 22.0, 39.0, 28.47152000636467, 26.82914771926899, 28.454710060620997, 35.0, 24.0, 34.0, 26.0, 4.0, 26.0, 27.0, 42.0, 20.0, 21.0, 21.0, 61.0, 57.0, 21.0, 26.0, 28.44807926805568, 80.0, 51.0, 32.0, 21.211809820414867, 9.0, 28.0, 32.0, 31.0, 41.0, 25.75317557063766, 20.0, 24.0, 2.0, 40.51680891687518, 0.75, 48.0, 19.0, 56.0, 28.670046729877193, 23.0, 28.807347811858456, 18.0, 21.0, 30.09510826913295, 18.0, 24.0, 28.807347811858456, 32.0, 23.0, 40.0, 47.0, 36.0, 20.0, 32.0, 25.0, 28.759383755457833, 43.0, 37.1558625099213, 40.0, 31.0, 70.0, 31.0, 26.13764953660553, 18.0, 24.5, 18.0, 43.0, 37.80485626725145, 27.0, 20.0, 14.0, 60.0, 25.0, 14.0, 19.0, 18.0, 31.0, 4.0, 40.51680891687518, 25.0, 60.0, 52.0, 44.0, 30.057030843563247, 42.0, 35.0, 18.0, 25.0, 26.0, 39.0, 45.0, 42.0, 2.5145866935262013, 24.0, 31.753578838929933, 48.0, 29.0, 52.0, 19.0, 27.0, 31.531874275065128, 33.0, 6.0, 17.0, 34.0, 50.0, 27.0, 20.0, 30.0, 30.058698468040753, 25.0, 25.0, 11.0, 26.13764953660553, 23.0, 23.0, 28.5, 48.0, 28.807347811858456, 28.807347811858456, 25.53607681076567, 36.0, 24.0, 31.0, 70.0, 16.0, 30.0, 19.0, 31.0, 4.0, 6.0, 33.0, 23.0, 48.0, 0.67, 28.0, 18.0, 34.0, 33.0, 31.42956818670129, 41.0, 20.0, 16.0, 51.0, 24.919604498100206, 30.5, 28.6547084605281, 32.0, 24.0, 48.0, 57.0, 16.525482535087434, 54.0, 18.0, 28.454710060620997, 5.0, 28.449746892533184, 13.0, 17.0, 29.0, 22.07838325076105, 25.0, 25.0, 18.0, 8.0, 1.0, 46.0, 28.454710060620997, 16.0, 5.397088235398121, 21.384161195099757, 25.0, 39.0, 49.0, 31.0, 30.0, 30.0, 34.0, 31.0, 0.42, 27.0, 31.0, 39.0, 18.0, 39.0, 33.0, 26.0, 39.0, 35.0, 6.0, 30.5, 21.211809820414867, 23.0, 31.0, 43.0, 10.0, 52.0, 27.0, 38.0, 27.0, 2.0, 28.137067303000954, 48.10414533727586, 1.0, 20.867373640220315, 62.0, 15.0, 0.83, 16.52715015956494, 23.0, 18.0, 39.0, 21.0, 28.868573453389722, 32.0, 13.401438952151535, 20.0, 16.0, 30.0, 34.5, 17.0, 42.0, 35.0, 28.0, 39.87269119452152, 4.0, 74.0, 9.0, 16.0, 44.0, 18.0, 51.0, 24.0, 16.52715015956494, 41.0, 21.0, 48.0, 5.397088235398121, 24.0, 42.0, 27.0, 31.0, 29.44430095157604, 4.0, 26.0, 47.0, 33.0, 47.0, 28.0, 15.0, 20.0, 19.0, 28.807347811858456, 56.0, 25.0, 33.0, 22.0, 28.0, 25.0, 39.0, 27.0, 19.0, 31.2746712466693, 26.0, 32.0], \"xaxis\": \"x6\", \"yaxis\": \"y6\"}, {\"type\": \"histogram\", \"x\": [1, 1, 0, 1, 0, 0, 0, 3, 0, 1, 1, 0, 0, 1, 0, 0, 4, 0, 1, 0, 0, 0, 0, 0, 3, 1, 0, 0, 0, 0, 0, 0, 1, 1, 0, 0, 2, 1, 1, 1, 0, 1, 0, 0, 1, 0, 2, 1, 4, 0, 1, 1, 0, 0, 0, 0, 1, 5, 0, 0, 1, 3, 0, 1, 0, 0, 4, 2, 0, 5, 0, 1, 0, 0, 0, 0, 0, 0, 0, 0, 0, 0, 0, 3, 1, 0, 0, 0, 0, 1, 1, 0, 0, 0, 0, 0, 1, 0, 0, 0, 0, 2, 0, 0, 0, 0, 1, 0, 1, 0, 1, 0, 0, 0, 1, 4, 2, 0, 1, 0, 0, 1, 0, 0, 1, 0, 0, 0, 1, 1, 0, 0, 0, 1, 0, 0, 0, 0, 1, 0, 0, 1, 0, 2, 0, 0, 0, 1, 0, 0, 0, 0, 0, 0, 0, 0, 0, 0, 0, 4, 0, 0, 1, 0, 0, 0, 4, 1, 0, 0, 1, 3, 0, 0, 0, 8, 0, 4, 2, 0, 0, 1, 0, 1, 0, 0, 0, 1, 1, 0, 0, 0, 0, 0, 0, 0, 0, 0, 0, 1, 0, 0, 0, 0, 0, 0, 0, 1, 0, 1, 0, 0, 0, 0, 0, 0, 1, 0, 0, 0, 0, 3, 1, 0, 0, 4, 0, 0, 1, 0, 0, 0, 1, 1, 0, 0, 0, 2, 0, 0, 1, 1, 0, 1, 0, 1, 0, 0, 0, 0, 0, 0, 4, 1, 0, 0, 0, 4, 1, 0, 0, 0, 0, 0, 1, 0, 0, 4, 1, 0, 0, 0, 0, 0, 0, 0, 0, 0, 0, 0, 1, 0, 0, 0, 0, 0, 0, 0, 2, 0, 0, 0, 1, 0, 0, 1, 0, 1, 0, 1, 0, 0, 0, 0, 1, 0, 0, 1, 0, 2, 0, 2, 0, 1, 0, 0, 1, 0, 0, 0, 0, 0, 1, 1, 0, 0, 0, 1, 1, 0, 0, 0, 0, 0, 0, 1, 1, 0, 0, 1, 0, 1, 0, 0, 0, 1, 1, 0, 3, 1, 0, 0, 0, 0, 0, 1, 0, 0, 5, 0, 0, 0, 0, 2, 0, 0, 0, 0, 0, 0, 0, 0, 1, 1, 0, 1, 0, 1, 0, 3, 0, 0, 1, 0, 0, 0, 1, 0, 0, 0, 0, 0, 0, 1, 1, 0, 1, 0, 0, 0, 0, 1, 1, 0, 1, 2, 2, 0, 1, 0, 1, 0, 0, 0, 0, 0, 2, 0, 1, 1, 0, 1, 0, 0, 0, 1, 0, 0, 0, 0, 0, 0, 0, 0, 0, 0, 0, 2, 0, 0, 1, 0, 0, 0, 1, 1, 0, 0, 5, 0, 0, 0, 1, 3, 1, 0, 0, 1, 1, 0, 0, 0, 0, 0, 1, 0, 0, 0, 0, 0, 0, 0, 0, 0, 0, 0, 0, 0, 0, 1, 0, 0, 0, 0, 1, 0, 0, 0, 0, 0, 0, 0, 0, 0, 2, 1, 0, 1, 0, 0, 0, 0, 0, 0, 0, 4, 4, 1, 0, 1, 0, 1, 1, 0, 0, 0, 0, 0, 1, 1, 1, 0, 0, 0, 0, 0, 2, 0, 0, 0, 0, 0, 2, 0, 0, 0, 0, 0, 1, 1, 0, 1, 0, 0, 0, 0, 0, 1, 0, 0, 0, 1, 0, 0, 1, 1, 0, 0, 0, 1, 2, 0, 0, 0, 0, 1, 0, 0, 1, 1, 0, 1, 0, 0, 1, 1, 1, 2, 0, 1, 1, 1, 0, 0, 0, 0, 0, 0, 0, 0, 0, 0, 0, 3, 0, 0, 1, 0, 1, 0, 0, 3, 0, 2, 1, 0, 0, 0, 0, 0, 0, 0, 0, 0, 2, 0, 1, 0, 0, 0, 0, 1, 2, 0, 0, 0, 1, 1, 1, 0, 0, 0, 0, 0, 0, 1, 0, 0, 0, 5, 1, 1, 4, 0, 0, 1, 0, 0, 0, 0, 0, 0, 0, 0, 0, 0, 0, 1, 0, 0, 0, 1, 0, 0, 1, 0, 0, 0, 0, 0, 0, 0, 1, 0, 0, 1, 0, 3, 0, 1, 1, 0, 0, 0, 0, 0, 1, 0, 0, 0, 1, 1, 0, 1, 1, 0, 1, 0, 1, 0, 0, 0, 1, 1, 0, 0, 0, 0, 0, 0, 0, 0, 1, 0, 0, 1, 0, 0, 0, 0, 0, 1, 0, 0, 0, 0, 0, 1, 0, 1, 0, 0, 0, 4, 1, 0, 0, 0, 8, 0, 0, 0, 0, 0, 0, 1, 0, 1, 0, 0, 0, 0, 0, 0, 1, 0, 0, 0, 4, 0, 0, 0, 1, 0, 3, 1, 0, 0, 0, 4, 0, 0, 0, 0, 0, 1, 1, 0, 0, 0, 1, 0, 0, 0, 0, 0, 0, 0, 0, 0, 0, 0, 0, 1, 4, 0, 1, 0, 1, 0, 0, 0, 0, 2, 1, 0, 8, 0, 0, 1, 0, 0, 1, 0, 1, 0, 0, 1, 0, 0, 0, 0, 0, 0, 0, 0, 0, 0, 0, 0, 0, 1, 0, 0], \"xaxis\": \"x7\", \"yaxis\": \"y7\"}, {\"type\": \"histogram\", \"x\": [0, 0, 0, 0, 0, 0, 0, 1, 2, 0, 1, 0, 0, 5, 0, 0, 1, 0, 0, 0, 0, 0, 0, 0, 1, 5, 0, 0, 0, 0, 0, 0, 0, 0, 0, 0, 0, 0, 0, 0, 0, 2, 0, 0, 0, 0, 0, 0, 1, 0, 0, 0, 1, 0, 0, 0, 2, 2, 0, 0, 0, 2, 0, 1, 0, 0, 2, 0, 0, 2, 0, 0, 0, 0, 0, 0, 2, 0, 0, 0, 0, 0, 0, 0, 3, 0, 0, 0, 0, 0, 2, 0, 0, 0, 1, 1, 0, 0, 0, 1, 0, 0, 0, 0, 0, 0, 0, 0, 0, 0, 0, 0, 0, 0, 0, 2, 0, 0, 0, 0, 1, 0, 0, 0, 1, 0, 0, 0, 0, 0, 0, 0, 2, 0, 0, 0, 2, 0, 0, 0, 0, 1, 0, 2, 2, 0, 0, 0, 0, 2, 0, 1, 0, 0, 0, 1, 0, 0, 0, 1, 2, 1, 4, 0, 0, 0, 1, 1, 0, 0, 1, 1, 0, 0, 0, 2, 0, 2, 1, 2, 0, 0, 0, 1, 0, 0, 0, 0, 1, 0, 0, 1, 0, 0, 0, 0, 0, 0, 1, 0, 0, 0, 0, 0, 0, 0, 0, 0, 0, 0, 0, 0, 0, 0, 0, 0, 0, 0, 0, 0, 0, 1, 0, 0, 0, 2, 0, 0, 0, 2, 0, 0, 0, 0, 0, 0, 0, 0, 0, 2, 1, 0, 0, 1, 0, 0, 2, 2, 0, 0, 1, 0, 2, 1, 0, 0, 0, 1, 0, 0, 0, 1, 1, 0, 0, 0, 0, 1, 1, 0, 0, 0, 0, 0, 0, 0, 0, 0, 0, 0, 0, 0, 0, 0, 0, 0, 0, 0, 0, 0, 0, 0, 0, 0, 0, 1, 0, 1, 0, 0, 0, 0, 0, 0, 1, 0, 0, 1, 1, 0, 0, 0, 0, 0, 0, 0, 1, 0, 0, 0, 0, 0, 0, 1, 0, 0, 0, 1, 0, 0, 0, 1, 0, 0, 0, 4, 0, 1, 0, 0, 0, 0, 0, 0, 0, 0, 0, 0, 1, 0, 0, 0, 0, 2, 0, 0, 0, 0, 2, 0, 0, 0, 0, 0, 2, 0, 0, 0, 0, 0, 0, 0, 0, 0, 0, 0, 0, 1, 0, 1, 0, 0, 0, 0, 0, 0, 1, 2, 0, 2, 0, 0, 0, 1, 1, 0, 0, 0, 0, 0, 0, 0, 0, 0, 0, 2, 3, 0, 1, 0, 0, 0, 0, 2, 1, 0, 1, 0, 2, 0, 0, 0, 0, 0, 0, 0, 0, 0, 0, 0, 0, 0, 0, 0, 0, 0, 0, 1, 0, 0, 2, 0, 0, 0, 0, 0, 0, 1, 2, 0, 0, 0, 0, 1, 0, 0, 0, 1, 0, 0, 0, 0, 0, 0, 0, 0, 0, 0, 0, 0, 0, 0, 2, 0, 0, 0, 0, 0, 0, 0, 0, 0, 0, 0, 0, 0, 0, 0, 0, 1, 0, 0, 0, 0, 1, 1, 0, 1, 2, 0, 2, 0, 0, 2, 2, 2, 2, 0, 0, 0, 0, 1, 1, 0, 0, 0, 0, 0, 0, 1, 0, 0, 0, 0, 0, 0, 0, 0, 4, 0, 0, 0, 0, 0, 0, 0, 0, 0, 0, 0, 0, 1, 0, 0, 0, 2, 0, 1, 0, 0, 0, 0, 0, 2, 0, 1, 0, 0, 0, 0, 1, 0, 0, 0, 0, 0, 0, 0, 2, 5, 0, 0, 0, 0, 2, 1, 0, 1, 0, 0, 0, 1, 0, 0, 0, 0, 0, 0, 0, 0, 0, 0, 0, 2, 0, 0, 1, 5, 0, 0, 0, 2, 0, 1, 0, 0, 0, 0, 0, 0, 1, 0, 0, 0, 0, 0, 1, 0, 0, 0, 0, 0, 0, 0, 0, 0, 0, 1, 0, 0, 0, 0, 0, 0, 0, 6, 0, 0, 0, 2, 1, 2, 1, 0, 0, 0, 1, 0, 0, 0, 0, 0, 0, 0, 0, 1, 0, 0, 0, 0, 0, 1, 0, 0, 0, 0, 0, 0, 0, 0, 0, 1, 0, 0, 0, 0, 0, 0, 0, 0, 0, 0, 0, 0, 0, 0, 3, 0, 0, 0, 0, 0, 0, 1, 1, 0, 0, 0, 1, 1, 0, 0, 2, 1, 0, 0, 0, 0, 0, 0, 0, 0, 0, 0, 0, 0, 0, 0, 0, 0, 0, 3, 0, 0, 0, 0, 0, 0, 0, 2, 0, 0, 0, 1, 2, 0, 0, 0, 2, 0, 0, 0, 0, 0, 0, 1, 0, 1, 1, 0, 0, 0, 0, 0, 0, 0, 0, 0, 2, 0, 0, 0, 1, 0, 2, 1, 0, 0, 1, 1, 0, 0, 2, 0, 0, 0, 1, 0, 0, 0, 1, 0, 0, 0, 0, 0, 0, 0, 0, 0, 0, 0, 1, 0, 2, 0, 1, 1, 0, 1, 0, 3, 0, 0, 0, 0, 2, 0, 0, 0, 0, 0, 1, 0, 1, 0, 0, 0, 0, 0, 0, 0, 1, 1, 0, 0, 0, 0, 5, 0, 0, 2, 0, 0], \"xaxis\": \"x8\", \"yaxis\": \"y8\"}, {\"type\": \"histogram\", \"x\": [7.25, 71.2833, 7.925, 53.1, 8.05, 8.4583, 51.8625, 21.075, 11.1333, 30.0708, 16.7, 26.55, 8.05, 31.275, 7.8542, 16.0, 29.125, 13.0, 18.0, 7.225, 26.0, 13.0, 8.0292, 35.5, 21.075, 31.3875, 7.225, 7.8792, 7.8958, 27.7208, 7.75, 10.5, 82.1708, 52.0, 7.2292, 8.05, 18.0, 11.2417, 9.475, 21.0, 7.8958, 41.5792, 7.8792, 8.05, 15.5, 7.75, 21.6792, 17.8, 39.6875, 7.8, 76.7292, 26.0, 61.9792, 35.5, 10.5, 7.2292, 27.75, 46.9, 7.2292, 80.0, 83.475, 27.9, 27.7208, 15.2458, 10.5, 8.1583, 7.925, 8.6625, 10.5, 46.9, 73.5, 14.4542, 56.4958, 7.65, 7.8958, 8.05, 29.0, 12.475, 9.0, 9.5, 7.7875, 47.1, 10.5, 15.85, 34.375, 8.05, 8.05, 8.05, 7.8542, 61.175, 20.575, 7.25, 8.05, 34.6542, 63.3583, 23.0, 26.0, 7.8958, 7.8958, 77.2875, 8.6542, 7.925, 7.8958, 7.65, 7.775, 7.8958, 24.15, 52.0, 14.4542, 8.05, 9.825, 14.4583, 7.925, 7.75, 21.0, 31.275, 73.5, 8.05, 30.0708, 13.0, 77.2875, 11.2417, 7.75, 7.1417, 22.3583, 6.975, 7.8958, 7.05, 14.5, 26.0, 13.0, 15.0458, 26.2833, 53.1, 9.2167, 79.2, 15.2458, 7.75, 15.85, 6.75, 11.5, 36.75, 7.7958, 34.375, 26.0, 13.0, 12.525, 66.6, 8.05, 14.5, 7.3125, 61.3792, 7.7333, 8.05, 8.6625, 16.1, 15.75, 7.775, 8.6625, 39.6875, 20.525, 55.0, 27.9, 25.925, 56.4958, 33.5, 29.125, 11.1333, 7.925, 30.6958, 7.8542, 25.4667, 28.7125, 13.0, 0.0, 69.55, 15.05, 31.3875, 39.0, 22.025, 50.0, 15.5, 26.55, 15.5, 7.8958, 13.0, 13.0, 7.8542, 26.0, 27.7208, 7.75, 8.4042, 7.75, 13.0, 9.5, 6.4958, 7.225, 8.05, 10.4625, 15.85, 18.7875, 7.75, 31.0, 7.05, 21.0, 7.25, 13.0, 7.75, 7.925, 27.0, 76.2917, 10.5, 8.05, 13.0, 8.05, 7.8958, 90.0, 9.35, 10.5, 7.25, 13.0, 25.4667, 83.475, 7.775, 13.5, 31.3875, 10.5, 7.55, 26.0, 26.25, 10.5, 12.275, 14.4542, 15.5, 10.5, 7.125, 7.225, 90.0, 7.775, 14.5, 52.5542, 26.0, 7.25, 10.4625, 26.55, 16.1, 20.2125, 15.2458, 79.2, 86.5, 26.0, 7.75, 31.3875, 79.65, 0.0, 7.75, 10.5, 39.6875, 7.775, 31.0, 0.0, 19.5, 29.7, 7.75, 77.9583, 7.75, 0.0, 29.125, 20.25, 7.75, 7.8542, 9.5, 8.05, 26.0, 8.6625, 9.5, 7.8958, 13.0, 7.75, 78.85, 91.0792, 12.875, 8.85, 7.8958, 27.7208, 7.2292, 30.5, 7.75, 23.25, 0.0, 12.35, 8.05, 24.0, 56.9292, 83.1583, 26.0, 7.8958, 26.25, 7.8542, 26.0, 14.0, 7.25, 7.8958, 12.35, 29.0, 6.2375, 13.0, 20.525, 57.9792, 23.25, 28.5, 18.0, 7.8958, 66.6, 8.05, 35.5, 26.0, 13.0, 13.0, 13.0, 13.0, 13.0, 16.1, 15.9, 8.6625, 9.225, 35.0, 7.2292, 17.8, 7.225, 9.5, 55.0, 13.0, 7.8792, 7.8792, 27.9, 27.7208, 14.4542, 7.05, 15.5, 7.25, 75.25, 7.2292, 7.75, 69.3, 55.4417, 6.4958, 8.05, 21.075, 82.1708, 7.25, 4.0125, 7.775, 15.7417, 7.925, 52.0, 7.8958, 73.5, 46.9, 13.0, 7.7292, 12.0, 7.7958, 7.925, 16.7, 7.7958, 7.8542, 26.0, 10.5, 12.65, 7.925, 8.05, 9.825, 15.85, 8.6625, 21.0, 7.75, 18.75, 7.775, 25.4667, 7.8958, 6.8583, 90.0, 0.0, 7.925, 8.05, 32.5, 13.0, 13.0, 24.15, 7.8958, 7.7333, 7.875, 14.4, 20.2125, 7.25, 26.0, 26.0, 7.75, 8.05, 26.55, 16.1, 26.0, 7.125, 55.9, 34.375, 18.75, 10.5, 26.25, 9.5, 7.775, 13.0, 8.1125, 81.8583, 19.5, 26.55, 19.2583, 30.5, 27.75, 19.9667, 27.75, 89.1042, 8.05, 7.8958, 26.55, 51.8625, 10.5, 7.75, 26.55, 8.05, 38.5, 13.0, 8.05, 7.05, 0.0, 26.55, 7.725, 19.2583, 7.25, 8.6625, 27.75, 13.7917, 9.8375, 52.0, 21.0, 7.0458, 7.5208, 12.2875, 46.9, 0.0, 8.05, 9.5875, 91.0792, 25.4667, 90.0, 29.7, 8.05, 15.9, 19.9667, 7.25, 30.5, 49.5042, 8.05, 14.4583, 78.2667, 15.1, 7.7958, 8.6625, 7.75, 7.6292, 9.5875, 86.5, 26.0, 26.55, 22.525, 56.4958, 7.75, 8.05, 26.2875, 59.4, 7.4958, 34.0208, 10.5, 24.15, 26.0, 7.8958, 93.5, 7.8958, 7.225, 57.9792, 7.2292, 7.75, 10.5, 7.925, 11.5, 26.0, 7.2292, 7.2292, 22.3583, 8.6625, 26.25, 26.55, 14.5, 49.5, 71.0, 31.275, 31.275, 26.0, 26.0, 26.0, 13.8625, 20.525, 36.75, 26.0, 7.8292, 7.225, 7.775, 26.55, 39.6, 79.65, 17.4, 7.75, 7.8958, 13.5, 8.05, 8.05, 24.15, 7.8958, 21.075, 7.2292, 7.8542, 10.5, 51.4792, 26.3875, 7.75, 8.05, 14.5, 13.0, 55.9, 14.4583, 7.925, 30.0, 26.0, 40.125, 8.7125, 79.65, 15.0, 79.2, 8.05, 8.05, 7.125, 78.2667, 7.25, 7.75, 26.0, 24.15, 33.0, 0.0, 7.225, 56.9292, 27.0, 7.8958, 42.4, 8.05, 26.55, 15.55, 7.8958, 30.5, 41.5792, 31.275, 7.05, 15.5, 7.75, 8.05, 65.0, 14.4, 16.1, 39.0, 10.5, 14.4542, 52.5542, 15.7417, 7.8542, 16.1, 32.3208, 12.35, 77.9583, 7.8958, 7.7333, 30.0, 7.0542, 30.5, 0.0, 27.9, 13.0, 7.925, 26.25, 39.6875, 16.1, 7.8542, 69.3, 27.9, 56.4958, 19.2583, 76.7292, 7.8958, 35.5, 7.55, 7.55, 7.8958, 23.0, 8.4333, 7.8292, 6.75, 73.5, 7.8958, 15.5, 13.0, 7.225, 25.5875, 7.4958, 7.925, 73.5, 13.0, 7.775, 8.05, 52.0, 39.0, 52.0, 10.5, 13.0, 0.0, 7.775, 8.05, 9.8417, 46.9, 8.1375, 76.7292, 9.225, 46.9, 39.0, 41.5792, 39.6875, 10.1708, 7.7958, 57.0, 13.4167, 56.4958, 7.225, 26.55, 13.5, 8.05, 7.7333, 7.65, 26.2875, 14.4542, 7.7417, 7.8542, 26.0, 13.5, 26.2875, 15.2458, 49.5042, 26.55, 52.0, 9.4833, 13.0, 7.65, 10.5, 15.5, 7.775, 33.0, 7.0542, 13.0, 13.0, 53.1, 8.6625, 21.0, 7.7375, 26.0, 7.925, 18.7875, 0.0, 13.0, 13.0, 16.1, 34.375, 7.8958, 7.8958, 30.0, 78.85, 16.1, 7.925, 71.0, 20.25, 13.0, 53.1, 7.75, 23.0, 12.475, 9.5, 7.8958, 65.0, 14.5, 7.7958, 11.5, 8.05, 86.5, 14.5, 7.125, 7.2292, 7.775, 77.9583, 39.6, 7.75, 24.15, 8.3625, 9.5, 7.8542, 10.5, 7.225, 23.0, 7.75, 7.75, 12.475, 7.7375, 7.2292, 57.0, 30.0, 23.45, 7.05, 7.25, 7.4958, 29.125, 20.575, 79.2, 7.75, 26.0, 69.55, 30.6958, 7.8958, 13.0, 25.9292, 8.6833, 7.2292, 24.15, 13.0, 26.25, 8.5167, 6.975, 7.775, 0.0, 7.775, 13.0, 53.1, 7.8875, 24.15, 10.5, 31.275, 8.05, 0.0, 7.925, 37.0042, 6.45, 27.9, 93.5, 8.6625, 0.0, 12.475, 39.6875, 6.95, 56.4958, 37.0042, 7.75, 80.0, 14.4542, 18.75, 7.2292, 7.8542, 8.3, 83.1583, 8.6625, 8.05, 56.4958, 29.7, 7.925, 10.5, 31.0, 6.4375, 8.6625, 7.55, 7.8958, 33.0, 89.1042, 31.275, 7.775, 15.2458, 39.4, 26.0, 9.35, 26.55, 19.2583, 7.2292, 14.1083, 11.5, 25.9292, 69.55, 13.0, 13.0, 13.8583, 50.4958, 9.5, 11.1333, 7.8958, 52.5542, 5.0, 9.0, 24.0, 7.225, 9.8458, 7.8958, 7.8958, 83.1583, 26.0, 7.8958, 10.5167, 10.5, 7.05, 29.125, 13.0, 30.0, 23.45, 30.0, 7.75], \"xaxis\": \"x9\", \"yaxis\": \"y9\"}],\n",
       "                        {\"annotations\": [{\"font\": {\"size\": 16}, \"showarrow\": false, \"text\": \"Survived\", \"x\": 0.08399999999999999, \"xanchor\": \"center\", \"xref\": \"paper\", \"y\": 1.0, \"yanchor\": \"bottom\", \"yref\": \"paper\"}, {\"font\": {\"size\": 16}, \"showarrow\": false, \"text\": \"Ticket Class\", \"x\": 0.292, \"xanchor\": \"center\", \"xref\": \"paper\", \"y\": 1.0, \"yanchor\": \"bottom\", \"yref\": \"paper\"}, {\"font\": {\"size\": 16}, \"showarrow\": false, \"text\": \"Sex\", \"x\": 0.5, \"xanchor\": \"center\", \"xref\": \"paper\", \"y\": 1.0, \"yanchor\": \"bottom\", \"yref\": \"paper\"}, {\"font\": {\"size\": 16}, \"showarrow\": false, \"text\": \"Port of Embarkation\", \"x\": 0.708, \"xanchor\": \"center\", \"xref\": \"paper\", \"y\": 1.0, \"yanchor\": \"bottom\", \"yref\": \"paper\"}, {\"font\": {\"size\": 16}, \"showarrow\": false, \"text\": \"Title\", \"x\": 0.9159999999999999, \"xanchor\": \"center\", \"xref\": \"paper\", \"y\": 1.0, \"yanchor\": \"bottom\", \"yref\": \"paper\"}, {\"font\": {\"size\": 16}, \"showarrow\": false, \"text\": \"Age\", \"x\": 0.08399999999999999, \"xanchor\": \"center\", \"xref\": \"paper\", \"y\": 0.375, \"yanchor\": \"bottom\", \"yref\": \"paper\"}, {\"font\": {\"size\": 16}, \"showarrow\": false, \"text\": \"Siblings and/or Spouses\", \"x\": 0.292, \"xanchor\": \"center\", \"xref\": \"paper\", \"y\": 0.375, \"yanchor\": \"bottom\", \"yref\": \"paper\"}, {\"font\": {\"size\": 16}, \"showarrow\": false, \"text\": \"Parents and/or Children\", \"x\": 0.5, \"xanchor\": \"center\", \"xref\": \"paper\", \"y\": 0.375, \"yanchor\": \"bottom\", \"yref\": \"paper\"}, {\"font\": {\"size\": 16}, \"showarrow\": false, \"text\": \"Fare\", \"x\": 0.708, \"xanchor\": \"center\", \"xref\": \"paper\", \"y\": 0.375, \"yanchor\": \"bottom\", \"yref\": \"paper\"}], \"colorway\": [\"#1F77B4\", \"#FF7F0E\", \"#2CA02C\", \"#D62728\", \"#9467BD\", \"#8C564B\", \"#E377C2\", \"#7F7F7F\", \"#BCBD22\", \"#17BECF\"], \"height\": 650, \"paper_bgcolor\": \"rgb(244, 244, 244)\", \"plot_bgcolor\": \"rgb(244, 244, 244)\", \"showlegend\": false, \"template\": {\"data\": {\"bar\": [{\"error_x\": {\"color\": \"rgb(36,36,36)\"}, \"error_y\": {\"color\": \"rgb(36,36,36)\"}, \"marker\": {\"line\": {\"color\": \"white\", \"width\": 0.5}}, \"type\": \"bar\"}], \"barpolar\": [{\"marker\": {\"line\": {\"color\": \"white\", \"width\": 0.5}}, \"type\": \"barpolar\"}], \"carpet\": [{\"aaxis\": {\"endlinecolor\": \"rgb(36,36,36)\", \"gridcolor\": \"white\", \"linecolor\": \"white\", \"minorgridcolor\": \"white\", \"startlinecolor\": \"rgb(36,36,36)\"}, \"baxis\": {\"endlinecolor\": \"rgb(36,36,36)\", \"gridcolor\": \"white\", \"linecolor\": \"white\", \"minorgridcolor\": \"white\", \"startlinecolor\": \"rgb(36,36,36)\"}, \"type\": \"carpet\"}], \"choropleth\": [{\"colorbar\": {\"outlinewidth\": 1, \"tickcolor\": \"rgb(36,36,36)\", \"ticks\": \"outside\"}, \"type\": \"choropleth\"}], \"contour\": [{\"colorbar\": {\"outlinewidth\": 1, \"tickcolor\": \"rgb(36,36,36)\", \"ticks\": \"outside\"}, \"colorscale\": [[0.0, \"#440154\"], [0.1111111111111111, \"#482878\"], [0.2222222222222222, \"#3e4989\"], [0.3333333333333333, \"#31688e\"], [0.4444444444444444, \"#26828e\"], [0.5555555555555556, \"#1f9e89\"], [0.6666666666666666, \"#35b779\"], [0.7777777777777778, \"#6ece58\"], [0.8888888888888888, \"#b5de2b\"], [1.0, \"#fde725\"]], \"type\": \"contour\"}], \"contourcarpet\": [{\"colorbar\": {\"outlinewidth\": 1, \"tickcolor\": \"rgb(36,36,36)\", \"ticks\": \"outside\"}, \"type\": \"contourcarpet\"}], \"heatmap\": [{\"colorbar\": {\"outlinewidth\": 1, \"tickcolor\": \"rgb(36,36,36)\", \"ticks\": \"outside\"}, \"colorscale\": [[0.0, \"#440154\"], [0.1111111111111111, \"#482878\"], [0.2222222222222222, \"#3e4989\"], [0.3333333333333333, \"#31688e\"], [0.4444444444444444, \"#26828e\"], [0.5555555555555556, \"#1f9e89\"], [0.6666666666666666, \"#35b779\"], [0.7777777777777778, \"#6ece58\"], [0.8888888888888888, \"#b5de2b\"], [1.0, \"#fde725\"]], \"type\": \"heatmap\"}], \"heatmapgl\": [{\"colorbar\": {\"outlinewidth\": 1, \"tickcolor\": \"rgb(36,36,36)\", \"ticks\": \"outside\"}, \"colorscale\": [[0.0, \"#440154\"], [0.1111111111111111, \"#482878\"], [0.2222222222222222, \"#3e4989\"], [0.3333333333333333, \"#31688e\"], [0.4444444444444444, \"#26828e\"], [0.5555555555555556, \"#1f9e89\"], [0.6666666666666666, \"#35b779\"], [0.7777777777777778, \"#6ece58\"], [0.8888888888888888, \"#b5de2b\"], [1.0, \"#fde725\"]], \"type\": \"heatmapgl\"}], \"histogram\": [{\"marker\": {\"line\": {\"color\": \"white\", \"width\": 0.6}}, \"type\": \"histogram\"}], \"histogram2d\": [{\"colorbar\": {\"outlinewidth\": 1, \"tickcolor\": \"rgb(36,36,36)\", \"ticks\": \"outside\"}, \"colorscale\": [[0.0, \"#440154\"], [0.1111111111111111, \"#482878\"], [0.2222222222222222, \"#3e4989\"], [0.3333333333333333, \"#31688e\"], [0.4444444444444444, \"#26828e\"], [0.5555555555555556, \"#1f9e89\"], [0.6666666666666666, \"#35b779\"], [0.7777777777777778, \"#6ece58\"], [0.8888888888888888, \"#b5de2b\"], [1.0, \"#fde725\"]], \"type\": \"histogram2d\"}], \"histogram2dcontour\": [{\"colorbar\": {\"outlinewidth\": 1, \"tickcolor\": \"rgb(36,36,36)\", \"ticks\": \"outside\"}, \"colorscale\": [[0.0, \"#440154\"], [0.1111111111111111, \"#482878\"], [0.2222222222222222, \"#3e4989\"], [0.3333333333333333, \"#31688e\"], [0.4444444444444444, \"#26828e\"], [0.5555555555555556, \"#1f9e89\"], [0.6666666666666666, \"#35b779\"], [0.7777777777777778, \"#6ece58\"], [0.8888888888888888, \"#b5de2b\"], [1.0, \"#fde725\"]], \"type\": \"histogram2dcontour\"}], \"mesh3d\": [{\"colorbar\": {\"outlinewidth\": 1, \"tickcolor\": \"rgb(36,36,36)\", \"ticks\": \"outside\"}, \"type\": \"mesh3d\"}], \"parcoords\": [{\"line\": {\"colorbar\": {\"outlinewidth\": 1, \"tickcolor\": \"rgb(36,36,36)\", \"ticks\": \"outside\"}}, \"type\": \"parcoords\"}], \"pie\": [{\"automargin\": true, \"type\": \"pie\"}], \"scatter\": [{\"marker\": {\"colorbar\": {\"outlinewidth\": 1, \"tickcolor\": \"rgb(36,36,36)\", \"ticks\": \"outside\"}}, \"type\": \"scatter\"}], \"scatter3d\": [{\"line\": {\"colorbar\": {\"outlinewidth\": 1, \"tickcolor\": \"rgb(36,36,36)\", \"ticks\": \"outside\"}}, \"marker\": {\"colorbar\": {\"outlinewidth\": 1, \"tickcolor\": \"rgb(36,36,36)\", \"ticks\": \"outside\"}}, \"type\": \"scatter3d\"}], \"scattercarpet\": [{\"marker\": {\"colorbar\": {\"outlinewidth\": 1, \"tickcolor\": \"rgb(36,36,36)\", \"ticks\": \"outside\"}}, \"type\": \"scattercarpet\"}], \"scattergeo\": [{\"marker\": {\"colorbar\": {\"outlinewidth\": 1, \"tickcolor\": \"rgb(36,36,36)\", \"ticks\": \"outside\"}}, \"type\": \"scattergeo\"}], \"scattergl\": [{\"marker\": {\"colorbar\": {\"outlinewidth\": 1, \"tickcolor\": \"rgb(36,36,36)\", \"ticks\": \"outside\"}}, \"type\": \"scattergl\"}], \"scattermapbox\": [{\"marker\": {\"colorbar\": {\"outlinewidth\": 1, \"tickcolor\": \"rgb(36,36,36)\", \"ticks\": \"outside\"}}, \"type\": \"scattermapbox\"}], \"scatterpolar\": [{\"marker\": {\"colorbar\": {\"outlinewidth\": 1, \"tickcolor\": \"rgb(36,36,36)\", \"ticks\": \"outside\"}}, \"type\": \"scatterpolar\"}], \"scatterpolargl\": [{\"marker\": {\"colorbar\": {\"outlinewidth\": 1, \"tickcolor\": \"rgb(36,36,36)\", \"ticks\": \"outside\"}}, \"type\": \"scatterpolargl\"}], \"scatterternary\": [{\"marker\": {\"colorbar\": {\"outlinewidth\": 1, \"tickcolor\": \"rgb(36,36,36)\", \"ticks\": \"outside\"}}, \"type\": \"scatterternary\"}], \"surface\": [{\"colorbar\": {\"outlinewidth\": 1, \"tickcolor\": \"rgb(36,36,36)\", \"ticks\": \"outside\"}, \"colorscale\": [[0.0, \"#440154\"], [0.1111111111111111, \"#482878\"], [0.2222222222222222, \"#3e4989\"], [0.3333333333333333, \"#31688e\"], [0.4444444444444444, \"#26828e\"], [0.5555555555555556, \"#1f9e89\"], [0.6666666666666666, \"#35b779\"], [0.7777777777777778, \"#6ece58\"], [0.8888888888888888, \"#b5de2b\"], [1.0, \"#fde725\"]], \"type\": \"surface\"}], \"table\": [{\"cells\": {\"fill\": {\"color\": \"rgb(237,237,237)\"}, \"line\": {\"color\": \"white\"}}, \"header\": {\"fill\": {\"color\": \"rgb(217,217,217)\"}, \"line\": {\"color\": \"white\"}}, \"type\": \"table\"}]}, \"layout\": {\"annotationdefaults\": {\"arrowhead\": 0, \"arrowwidth\": 1}, \"coloraxis\": {\"colorbar\": {\"outlinewidth\": 1, \"tickcolor\": \"rgb(36,36,36)\", \"ticks\": \"outside\"}}, \"colorscale\": {\"diverging\": [[0.0, \"rgb(103,0,31)\"], [0.1, \"rgb(178,24,43)\"], [0.2, \"rgb(214,96,77)\"], [0.3, \"rgb(244,165,130)\"], [0.4, \"rgb(253,219,199)\"], [0.5, \"rgb(247,247,247)\"], [0.6, \"rgb(209,229,240)\"], [0.7, \"rgb(146,197,222)\"], [0.8, \"rgb(67,147,195)\"], [0.9, \"rgb(33,102,172)\"], [1.0, \"rgb(5,48,97)\"]], \"sequential\": [[0.0, \"#440154\"], [0.1111111111111111, \"#482878\"], [0.2222222222222222, \"#3e4989\"], [0.3333333333333333, \"#31688e\"], [0.4444444444444444, \"#26828e\"], [0.5555555555555556, \"#1f9e89\"], [0.6666666666666666, \"#35b779\"], [0.7777777777777778, \"#6ece58\"], [0.8888888888888888, \"#b5de2b\"], [1.0, \"#fde725\"]], \"sequentialminus\": [[0.0, \"#440154\"], [0.1111111111111111, \"#482878\"], [0.2222222222222222, \"#3e4989\"], [0.3333333333333333, \"#31688e\"], [0.4444444444444444, \"#26828e\"], [0.5555555555555556, \"#1f9e89\"], [0.6666666666666666, \"#35b779\"], [0.7777777777777778, \"#6ece58\"], [0.8888888888888888, \"#b5de2b\"], [1.0, \"#fde725\"]]}, \"colorway\": [\"#1F77B4\", \"#FF7F0E\", \"#2CA02C\", \"#D62728\", \"#9467BD\", \"#8C564B\", \"#E377C2\", \"#7F7F7F\", \"#BCBD22\", \"#17BECF\"], \"font\": {\"color\": \"rgb(36,36,36)\"}, \"geo\": {\"bgcolor\": \"white\", \"lakecolor\": \"white\", \"landcolor\": \"white\", \"showlakes\": true, \"showland\": true, \"subunitcolor\": \"white\"}, \"hoverlabel\": {\"align\": \"left\"}, \"hovermode\": \"closest\", \"mapbox\": {\"style\": \"light\"}, \"paper_bgcolor\": \"white\", \"plot_bgcolor\": \"white\", \"polar\": {\"angularaxis\": {\"gridcolor\": \"rgb(232,232,232)\", \"linecolor\": \"rgb(36,36,36)\", \"showgrid\": false, \"showline\": true, \"ticks\": \"outside\"}, \"bgcolor\": \"white\", \"radialaxis\": {\"gridcolor\": \"rgb(232,232,232)\", \"linecolor\": \"rgb(36,36,36)\", \"showgrid\": false, \"showline\": true, \"ticks\": \"outside\"}}, \"scene\": {\"xaxis\": {\"backgroundcolor\": \"white\", \"gridcolor\": \"rgb(232,232,232)\", \"gridwidth\": 2, \"linecolor\": \"rgb(36,36,36)\", \"showbackground\": true, \"showgrid\": false, \"showline\": true, \"ticks\": \"outside\", \"zeroline\": false, \"zerolinecolor\": \"rgb(36,36,36)\"}, \"yaxis\": {\"backgroundcolor\": \"white\", \"gridcolor\": \"rgb(232,232,232)\", \"gridwidth\": 2, \"linecolor\": \"rgb(36,36,36)\", \"showbackground\": true, \"showgrid\": false, \"showline\": true, \"ticks\": \"outside\", \"zeroline\": false, \"zerolinecolor\": \"rgb(36,36,36)\"}, \"zaxis\": {\"backgroundcolor\": \"white\", \"gridcolor\": \"rgb(232,232,232)\", \"gridwidth\": 2, \"linecolor\": \"rgb(36,36,36)\", \"showbackground\": true, \"showgrid\": false, \"showline\": true, \"ticks\": \"outside\", \"zeroline\": false, \"zerolinecolor\": \"rgb(36,36,36)\"}}, \"shapedefaults\": {\"fillcolor\": \"black\", \"line\": {\"width\": 0}, \"opacity\": 0.3}, \"ternary\": {\"aaxis\": {\"gridcolor\": \"rgb(232,232,232)\", \"linecolor\": \"rgb(36,36,36)\", \"showgrid\": false, \"showline\": true, \"ticks\": \"outside\"}, \"baxis\": {\"gridcolor\": \"rgb(232,232,232)\", \"linecolor\": \"rgb(36,36,36)\", \"showgrid\": false, \"showline\": true, \"ticks\": \"outside\"}, \"bgcolor\": \"white\", \"caxis\": {\"gridcolor\": \"rgb(232,232,232)\", \"linecolor\": \"rgb(36,36,36)\", \"showgrid\": false, \"showline\": true, \"ticks\": \"outside\"}}, \"title\": {\"x\": 0.05}, \"xaxis\": {\"automargin\": true, \"gridcolor\": \"rgb(232,232,232)\", \"linecolor\": \"rgb(36,36,36)\", \"showgrid\": false, \"showline\": true, \"ticks\": \"outside\", \"title\": {\"standoff\": 15}, \"zeroline\": false, \"zerolinecolor\": \"rgb(36,36,36)\"}, \"yaxis\": {\"automargin\": true, \"gridcolor\": \"rgb(232,232,232)\", \"linecolor\": \"rgb(36,36,36)\", \"showgrid\": false, \"showline\": true, \"ticks\": \"outside\", \"title\": {\"standoff\": 15}, \"zeroline\": false, \"zerolinecolor\": \"rgb(36,36,36)\"}}}, \"title\": {\"text\": \"Distribution of Variables\", \"x\": 0.5}, \"width\": 1100, \"xaxis\": {\"anchor\": \"y\", \"domain\": [0.0, 0.16799999999999998]}, \"xaxis10\": {\"anchor\": \"y10\", \"domain\": [0.832, 1.0]}, \"xaxis2\": {\"anchor\": \"y2\", \"domain\": [0.208, 0.376]}, \"xaxis3\": {\"anchor\": \"y3\", \"domain\": [0.416, 0.584]}, \"xaxis4\": {\"anchor\": \"y4\", \"domain\": [0.624, 0.792]}, \"xaxis5\": {\"anchor\": \"y5\", \"domain\": [0.832, 1.0]}, \"xaxis6\": {\"anchor\": \"y6\", \"domain\": [0.0, 0.16799999999999998]}, \"xaxis7\": {\"anchor\": \"y7\", \"domain\": [0.208, 0.376]}, \"xaxis8\": {\"anchor\": \"y8\", \"domain\": [0.416, 0.584]}, \"xaxis9\": {\"anchor\": \"y9\", \"domain\": [0.624, 0.792]}, \"yaxis\": {\"anchor\": \"x\", \"domain\": [0.625, 1.0]}, \"yaxis10\": {\"anchor\": \"x10\", \"domain\": [0.0, 0.375]}, \"yaxis2\": {\"anchor\": \"x2\", \"domain\": [0.625, 1.0]}, \"yaxis3\": {\"anchor\": \"x3\", \"domain\": [0.625, 1.0]}, \"yaxis4\": {\"anchor\": \"x4\", \"domain\": [0.625, 1.0]}, \"yaxis5\": {\"anchor\": \"x5\", \"domain\": [0.625, 1.0]}, \"yaxis6\": {\"anchor\": \"x6\", \"domain\": [0.0, 0.375]}, \"yaxis7\": {\"anchor\": \"x7\", \"domain\": [0.0, 0.375]}, \"yaxis8\": {\"anchor\": \"x8\", \"domain\": [0.0, 0.375]}, \"yaxis9\": {\"anchor\": \"x9\", \"domain\": [0.0, 0.375]}},\n",
       "                        {\"responsive\": true}\n",
       "                    ).then(function(){\n",
       "                            \n",
       "var gd = document.getElementById('40ac48f4-e7f4-45eb-87e2-f0420b0196dc');\n",
       "var x = new MutationObserver(function (mutations, observer) {{\n",
       "        var display = window.getComputedStyle(gd).display;\n",
       "        if (!display || display === 'none') {{\n",
       "            console.log([gd, 'removed!']);\n",
       "            Plotly.purge(gd);\n",
       "            observer.disconnect();\n",
       "        }}\n",
       "}});\n",
       "\n",
       "// Listen for the removal of the full notebook cells\n",
       "var notebookContainer = gd.closest('#notebook-container');\n",
       "if (notebookContainer) {{\n",
       "    x.observe(notebookContainer, {childList: true});\n",
       "}}\n",
       "\n",
       "// Listen for the clearing of the current output cell\n",
       "var outputEl = gd.closest('.output');\n",
       "if (outputEl) {{\n",
       "    x.observe(outputEl, {childList: true});\n",
       "}}\n",
       "\n",
       "                        })\n",
       "                };\n",
       "                });\n",
       "            </script>\n",
       "        </div>"
      ]
     },
     "metadata": {},
     "output_type": "display_data"
    }
   ],
   "source": [
    "# Subplots with distributions\n",
    "distributions = make_subplots(\n",
    "    rows = 2, \n",
    "    cols = 5, \n",
    "    subplot_titles = ['Survived', 'Ticket Class', 'Sex', 'Port of Embarkation', 'Title', 'Age', 'Siblings and/or Spouses', 'Parents and/or Children', 'Fare']\n",
    ")\n",
    "\n",
    "cat_zip = list(\n",
    "    zip(\n",
    "        [1, 2, 3, 4, 5], ['Survived', 'Pclass', 'Sex', 'Embarked', 'Title']\n",
    "        )\n",
    "    )\n",
    "\n",
    "for i in cat_zip:\n",
    "    distributions.add_trace(\n",
    "        go.Histogram(\n",
    "            x = titanic[i[1]] \n",
    "            ), \n",
    "        row = 1, \n",
    "        col = i[0]\n",
    "    )\n",
    "\n",
    "num_zip = list(\n",
    "    zip(\n",
    "        [1, 2, 3, 4], ['Age', 'SibSp', 'Parch', 'Fare']\n",
    "        )\n",
    "    )\n",
    "\n",
    "for i in num_zip:\n",
    "    distributions.add_trace(\n",
    "        go.Histogram(\n",
    "            x = titanic[i[1]]\n",
    "            ), \n",
    "        row = 2, \n",
    "        col = i[0]\n",
    "    )\n",
    "\n",
    "distributions.update_layout(\n",
    "    showlegend = False, \n",
    "    colorway = px.colors.qualitative.D3,\n",
    "    title = 'Distribution of Variables',\n",
    "    title_x = 0.5,\n",
    "    height = 650,\n",
    "    width = 1100,\n",
    "    plot_bgcolor = 'rgb(244, 244, 244)',\n",
    "    paper_bgcolor = 'rgb(244, 244, 244)'\n",
    ")\n",
    "\n",
    "distributions.show(renderer = 'notebook_connected')"
   ]
  },
  {
   "cell_type": "markdown",
   "metadata": {},
   "source": [
    "Let us qickly describe the graph.\n",
    "As for the categorical features, we can see that distribution of levels is not equal for any of the present features, which was expected. Since outcome feature is not equally distributed, we will penalize developed model more when the error for predicting less frequent class occurs.\n",
    "\n",
    "On the other hand, we can see that, out of all numerical features, only *Age* has nearly bell-shaped distribution. We will not perform a distribution transformation for features *Siblings/Spouses* and *Parents/Children* yet, since we are probably going to combine them into one feature and probably exclude a few outliers. Therefore, we'll perform transformation only for *Fare* feature now."
   ]
  },
  {
   "cell_type": "code",
   "execution_count": 34,
   "metadata": {},
   "outputs": [],
   "source": [
    "titanic['Fare'] = np.sqrt(titanic['Fare'] + 1)"
   ]
  },
  {
   "cell_type": "code",
   "execution_count": 35,
   "metadata": {},
   "outputs": [
    {
     "data": {
      "text/plain": [
       "0      2.872281\n",
       "1      8.501959\n",
       "2      2.987474\n",
       "3      7.355270\n",
       "4      3.008322\n",
       "         ...   \n",
       "886    3.741657\n",
       "887    5.567764\n",
       "888    4.944694\n",
       "889    5.567764\n",
       "890    2.958040\n",
       "Name: Fare, Length: 834, dtype: float64"
      ]
     },
     "execution_count": 35,
     "metadata": {},
     "output_type": "execute_result"
    }
   ],
   "source": [
    "titanic['Fare']"
   ]
  },
  {
   "cell_type": "code",
   "execution_count": 36,
   "metadata": {},
   "outputs": [
    {
     "data": {
      "text/html": [
       "        <script type=\"text/javascript\">\n",
       "        window.PlotlyConfig = {MathJaxConfig: 'local'};\n",
       "        if (window.MathJax) {MathJax.Hub.Config({SVG: {font: \"STIX-Web\"}});}\n",
       "        if (typeof require !== 'undefined') {\n",
       "        require.undef(\"plotly\");\n",
       "        requirejs.config({\n",
       "            paths: {\n",
       "                'plotly': ['https://cdn.plot.ly/plotly-latest.min']\n",
       "            }\n",
       "        });\n",
       "        require(['plotly'], function(Plotly) {\n",
       "            window._Plotly = Plotly;\n",
       "        });\n",
       "        }\n",
       "        </script>\n",
       "        "
      ]
     },
     "metadata": {},
     "output_type": "display_data"
    },
    {
     "data": {
      "text/html": [
       "<div>\n",
       "        \n",
       "        \n",
       "            <div id=\"760eb0eb-8f24-4d35-8a4b-c3e3c22ab6bb\" class=\"plotly-graph-div\" style=\"height:400px; width:500px;\"></div>\n",
       "            <script type=\"text/javascript\">\n",
       "                require([\"plotly\"], function(Plotly) {\n",
       "                    window.PLOTLYENV=window.PLOTLYENV || {};\n",
       "                    \n",
       "                if (document.getElementById(\"760eb0eb-8f24-4d35-8a4b-c3e3c22ab6bb\")) {\n",
       "                    Plotly.newPlot(\n",
       "                        '760eb0eb-8f24-4d35-8a4b-c3e3c22ab6bb',\n",
       "                        [{\"alignmentgroup\": \"True\", \"bingroup\": \"x\", \"hovertemplate\": \"Fare=%{x}<br>count=%{y}<extra></extra>\", \"legendgroup\": \"\", \"marker\": {\"color\": \"#1F77B4\"}, \"name\": \"\", \"offsetgroup\": \"\", \"orientation\": \"v\", \"showlegend\": false, \"type\": \"histogram\", \"x\": [2.8722813232690143, 8.501958597876138, 2.987473849257931, 7.355270219373317, 3.0083217912982647, 3.0754349285914016, 7.2706602176143535, 4.698403984333403, 3.483288675949784, 5.574118764432634, 4.207136793592526, 5.248809388804284, 3.0083217912982647, 5.681109046656295, 2.975600779674585, 4.123105625617661, 5.488624600025037, 3.7416573867739413, 4.358898943540674, 2.8679260799399975, 5.196152422706632, 3.7416573867739413, 3.0048627256498754, 6.041522986797286, 4.698403984333403, 5.691001669302163, 2.8679260799399975, 2.9797986509158636, 2.982582773369417, 5.3591790416070255, 2.958039891549808, 3.391164991562634, 9.11980262944325, 7.280109889280518, 2.868658222932805, 3.0083217912982647, 4.358898943540674, 3.4988140848007343, 3.2365104665364517, 4.69041575982343, 2.982582773369417, 6.525273940609697, 2.9797986509158636, 3.0083217912982647, 4.06201920231798, 2.958039891549808, 4.762268367070466, 4.33589667773576, 6.378675411086537, 2.9664793948382653, 8.816416505587744, 5.196152422706632, 7.935943548186315, 6.041522986797286, 3.391164991562634, 2.868658222932805, 5.361902647381804, 6.920982589199311, 2.868658222932805, 9.0, 9.191028234098729, 5.375872022286245, 5.3591790416070255, 4.03060789459853, 3.391164991562634, 3.026268329147302, 2.987473849257931, 3.1084562084739105, 3.391164991562634, 6.920982589199311, 8.631338250816034, 3.931183028046392, 7.582598499195378, 2.9410882339705484, 2.982582773369417, 3.0083217912982647, 5.477225575051661, 3.6708309685955305, 3.1622776601683795, 3.24037034920393, 2.9643717715563276, 6.935416353759881, 3.391164991562634, 4.104875150354759, 5.947688626685159, 3.0083217912982647, 3.0083217912982647, 3.0083217912982647, 2.975600779674585, 7.885112554681766, 4.644889664997437, 2.8722813232690143, 3.0083217912982647, 5.97111379894907, 8.022362494926291, 4.898979485566356, 5.196152422706632, 2.982582773369417, 2.982582773369417, 8.848022377910219, 3.107120853780876, 2.987473849257931, 2.982582773369417, 2.9410882339705484, 2.962262648719725, 2.982582773369417, 5.014977567247933, 7.280109889280518, 3.931183028046392, 3.0083217912982647, 3.29013677527242, 3.9317044649871637, 2.987473849257931, 2.958039891549808, 4.69041575982343, 5.681109046656295, 8.631338250816034, 3.0083217912982647, 5.574118764432634, 3.7416573867739413, 8.848022377910219, 3.4988140848007343, 2.958039891549808, 2.853366432829825, 4.833042519986763, 2.8240042492885875, 2.982582773369417, 2.8372521918222215, 3.9370039370059056, 5.196152422706632, 3.7416573867739413, 4.0057209089001695, 5.223341842154312, 7.355270219373317, 3.1963573016795226, 8.955445270895245, 4.03060789459853, 2.958039891549808, 4.104875150354759, 2.7838821814150108, 3.5355339059327378, 6.144102863722254, 2.965771400495999, 5.947688626685159, 5.196152422706632, 3.7416573867739413, 3.6776351096866584, 8.221921916437786, 3.0083217912982647, 3.9370039370059056, 2.883140648667699, 7.89805039234367, 2.9552157281660505, 3.0083217912982647, 3.1084562084739105, 4.135214625627067, 4.092676385936225, 2.962262648719725, 3.1084562084739105, 6.378675411086537, 4.639504283864818, 7.483314773547883, 5.375872022286245, 5.188930525647843, 7.582598499195378, 5.873670062235365, 5.488624600025037, 3.483288675949784, 2.987473849257931, 5.62990230821104, 2.975600779674585, 5.144579671848809, 5.450917353987308, 3.7416573867739413, 1.0, 8.399404740813482, 4.006245124802026, 5.691001669302163, 6.324555320336759, 4.798437245604031, 7.14142842854285, 4.06201920231798, 5.248809388804284, 4.06201920231798, 2.982582773369417, 3.7416573867739413, 3.7416573867739413, 2.975600779674585, 5.196152422706632, 5.3591790416070255, 2.958039891549808, 3.0666268113352166, 2.958039891549808, 3.7416573867739413, 3.24037034920393, 2.7378458685616325, 2.8679260799399975, 3.0083217912982647, 3.3856314034460397, 4.104875150354759, 4.4483142874576656, 2.958039891549808, 5.656854249492381, 2.8372521918222215, 4.69041575982343, 2.8722813232690143, 3.7416573867739413, 2.958039891549808, 2.987473849257931, 5.291502622129181, 8.791569825690972, 3.391164991562634, 3.0083217912982647, 3.7416573867739413, 3.0083217912982647, 2.982582773369417, 9.539392014169456, 3.2171415884290826, 3.391164991562634, 2.8722813232690143, 3.7416573867739413, 5.144579671848809, 9.191028234098729, 2.962262648719725, 3.8078865529319543, 5.691001669302163, 3.391164991562634, 2.924038303442689, 5.196152422706632, 5.220153254455275, 3.391164991562634, 3.643487340447336, 3.931183028046392, 4.06201920231798, 3.391164991562634, 2.850438562747845, 2.8679260799399975, 9.539392014169456, 2.962262648719725, 3.9370039370059056, 7.318073516985191, 5.196152422706632, 2.8722813232690143, 3.3856314034460397, 5.248809388804284, 4.135214625627067, 4.605702986515739, 4.03060789459853, 8.955445270895245, 9.354143466934854, 5.196152422706632, 2.958039891549808, 5.691001669302163, 8.980534505250787, 1.0, 2.958039891549808, 3.391164991562634, 6.378675411086537, 2.962262648719725, 5.656854249492381, 1.0, 4.527692569068709, 5.540758070878027, 2.958039891549808, 8.88584829940282, 2.958039891549808, 1.0, 5.488624600025037, 4.6097722286464435, 2.958039891549808, 2.975600779674585, 3.24037034920393, 3.0083217912982647, 5.196152422706632, 3.1084562084739105, 3.24037034920393, 2.982582773369417, 3.7416573867739413, 2.958039891549808, 8.935882720806042, 9.595790743862644, 3.724916106437835, 3.138470965295043, 2.982582773369417, 5.3591790416070255, 2.868658222932805, 5.612486080160912, 2.958039891549808, 4.924428900898052, 1.0, 3.653765181289022, 3.0083217912982647, 5.0, 7.611123438757251, 9.173783298072829, 5.196152422706632, 2.982582773369417, 5.220153254455275, 2.975600779674585, 5.196152422706632, 3.872983346207417, 2.8722813232690143, 2.982582773369417, 3.653765181289022, 5.477225575051661, 2.690260210462921, 3.7416573867739413, 4.639504283864818, 7.679791663840888, 4.924428900898052, 5.431390245600108, 4.358898943540674, 2.982582773369417, 8.221921916437786, 3.0083217912982647, 6.041522986797286, 5.196152422706632, 3.7416573867739413, 3.7416573867739413, 3.7416573867739413, 3.7416573867739413, 3.7416573867739413, 4.135214625627067, 4.110960958218893, 3.1084562084739105, 3.1976553910638965, 6.0, 2.868658222932805, 4.33589667773576, 2.8679260799399975, 3.24037034920393, 7.483314773547883, 3.7416573867739413, 2.9797986509158636, 2.9797986509158636, 5.375872022286245, 5.3591790416070255, 3.931183028046392, 2.8372521918222215, 4.06201920231798, 2.8722813232690143, 8.73212459828649, 2.868658222932805, 2.958039891549808, 8.384509526501834, 7.5127691299546795, 2.7378458685616325, 3.0083217912982647, 4.698403984333403, 9.11980262944325, 2.8722813232690143, 2.2388613177238113, 2.962262648719725, 4.091662253901219, 2.987473849257931, 7.280109889280518, 2.982582773369417, 8.631338250816034, 6.920982589199311, 3.7416573867739413, 2.9545219579485273, 3.605551275463989, 2.965771400495999, 2.987473849257931, 4.207136793592526, 2.965771400495999, 2.975600779674585, 5.196152422706632, 3.391164991562634, 3.6945906403822333, 2.987473849257931, 3.0083217912982647, 3.29013677527242, 4.104875150354759, 3.1084562084739105, 4.69041575982343, 2.958039891549808, 4.444097208657794, 2.962262648719725, 5.144579671848809, 2.982582773369417, 2.8032659524204977, 9.539392014169456, 1.0, 2.987473849257931, 3.0083217912982647, 5.787918451395113, 3.7416573867739413, 3.7416573867739413, 5.014977567247933, 2.982582773369417, 2.9552157281660505, 2.979093821953246, 3.924283374069717, 4.605702986515739, 2.8722813232690143, 5.196152422706632, 5.196152422706632, 2.958039891549808, 3.0083217912982647, 5.248809388804284, 4.135214625627067, 5.196152422706632, 2.850438562747845, 7.543208866258444, 5.947688626685159, 4.444097208657794, 3.391164991562634, 5.220153254455275, 3.24037034920393, 2.962262648719725, 3.7416573867739413, 3.0186917696247164, 9.102653459294164, 4.527692569068709, 5.248809388804284, 4.500922127742269, 5.612486080160912, 5.361902647381804, 4.578940925585304, 5.361902647381804, 9.492323214050394, 3.0083217912982647, 2.982582773369417, 5.248809388804284, 7.2706602176143535, 3.391164991562634, 2.958039891549808, 5.248809388804284, 3.0083217912982647, 6.284902544988268, 3.7416573867739413, 3.0083217912982647, 2.8372521918222215, 1.0, 5.248809388804284, 2.9538110975483858, 4.500922127742269, 2.8722813232690143, 3.1084562084739105, 5.361902647381804, 3.8459979199162344, 3.2920358442763042, 7.280109889280518, 4.69041575982343, 2.836511942509673, 2.919040938390553, 3.6452023263462343, 6.920982589199311, 1.0, 3.0083217912982647, 3.253843880704789, 9.595790743862644, 5.144579671848809, 9.539392014169456, 5.540758070878027, 3.0083217912982647, 4.110960958218893, 4.578940925585304, 2.8722813232690143, 5.612486080160912, 7.106630706600702, 3.0083217912982647, 3.9317044649871637, 8.903184823421336, 4.012480529547776, 2.965771400495999, 3.1084562084739105, 2.958039891549808, 2.9375499995744754, 3.253843880704789, 9.354143466934854, 5.196152422706632, 5.248809388804284, 4.85025772511111, 7.582598499195378, 2.958039891549808, 3.0083217912982647, 5.223743868146676, 7.771743691090179, 2.914755564365561, 5.917837442850217, 3.391164991562634, 5.014977567247933, 5.196152422706632, 2.982582773369417, 9.72111104761179, 2.982582773369417, 2.8679260799399975, 7.679791663840888, 2.868658222932805, 2.958039891549808, 3.391164991562634, 2.987473849257931, 3.5355339059327378, 5.196152422706632, 2.868658222932805, 2.868658222932805, 4.833042519986763, 3.1084562084739105, 5.220153254455275, 5.248809388804284, 3.9370039370059056, 7.106335201775948, 8.48528137423857, 5.681109046656295, 5.681109046656295, 5.196152422706632, 5.196152422706632, 5.196152422706632, 3.8551913052402473, 4.639504283864818, 6.144102863722254, 5.196152422706632, 2.9713969778540195, 2.8679260799399975, 2.962262648719725, 5.248809388804284, 6.371812928829597, 8.980534505250787, 4.2895221179054435, 2.958039891549808, 2.982582773369417, 3.8078865529319543, 3.0083217912982647, 3.0083217912982647, 5.014977567247933, 2.982582773369417, 4.698403984333403, 2.868658222932805, 2.975600779674585, 3.391164991562634, 7.244252894536468, 5.233306793987908, 2.958039891549808, 3.0083217912982647, 3.9370039370059056, 3.7416573867739413, 7.543208866258444, 3.9317044649871637, 2.987473849257931, 5.5677643628300215, 5.196152422706632, 6.41287766919033, 3.1164884084494844, 8.980534505250787, 4.0, 8.955445270895245, 3.0083217912982647, 3.0083217912982647, 2.850438562747845, 8.903184823421336, 2.8722813232690143, 2.958039891549808, 5.196152422706632, 5.014977567247933, 5.830951894845301, 1.0, 2.8679260799399975, 7.611123438757251, 5.291502622129181, 2.982582773369417, 6.587867636800241, 3.0083217912982647, 5.248809388804284, 4.068169121361598, 2.982582773369417, 5.612486080160912, 6.525273940609697, 5.681109046656295, 2.8372521918222215, 4.06201920231798, 2.958039891549808, 3.0083217912982647, 8.12403840463596, 3.924283374069717, 4.135214625627067, 6.324555320336759, 3.391164991562634, 3.931183028046392, 7.318073516985191, 4.091662253901219, 2.975600779674585, 4.135214625627067, 5.772417171341655, 3.653765181289022, 8.88584829940282, 2.982582773369417, 2.9552157281660505, 5.5677643628300215, 2.837992248051428, 5.612486080160912, 1.0, 5.375872022286245, 3.7416573867739413, 2.987473849257931, 5.220153254455275, 6.378675411086537, 4.135214625627067, 2.975600779674585, 8.384509526501834, 5.375872022286245, 7.582598499195378, 4.500922127742269, 8.816416505587744, 2.982582773369417, 6.041522986797286, 2.924038303442689, 2.924038303442689, 2.982582773369417, 4.898979485566356, 3.0713677734846407, 2.9713969778540195, 2.7838821814150108, 8.631338250816034, 2.982582773369417, 4.06201920231798, 3.7416573867739413, 2.8679260799399975, 5.156306817868773, 2.914755564365561, 2.987473849257931, 8.631338250816034, 3.7416573867739413, 2.962262648719725, 3.0083217912982647, 7.280109889280518, 6.324555320336759, 7.280109889280518, 3.391164991562634, 3.7416573867739413, 1.0, 2.962262648719725, 3.0083217912982647, 3.292673685623888, 6.920982589199311, 3.0228298000383678, 8.816416505587744, 3.1976553910638965, 6.920982589199311, 6.324555320336759, 6.525273940609697, 6.378675411086537, 3.342274674529309, 2.965771400495999, 7.615773105863909, 3.7969329728084484, 7.582598499195378, 2.8679260799399975, 5.248809388804284, 3.8078865529319543, 3.0083217912982647, 2.9552157281660505, 2.9410882339705484, 5.223743868146676, 3.931183028046392, 2.9566366026280604, 2.975600779674585, 5.196152422706632, 3.8078865529319543, 5.223743868146676, 4.03060789459853, 7.106630706600702, 5.248809388804284, 7.280109889280518, 3.2377924578329598, 3.7416573867739413, 2.9410882339705484, 3.391164991562634, 4.06201920231798, 2.962262648719725, 5.830951894845301, 2.837992248051428, 3.7416573867739413, 3.7416573867739413, 7.355270219373317, 3.1084562084739105, 4.69041575982343, 2.9559262507714905, 5.196152422706632, 2.987473849257931, 4.4483142874576656, 1.0, 3.7416573867739413, 3.7416573867739413, 4.135214625627067, 5.947688626685159, 2.982582773369417, 2.982582773369417, 5.5677643628300215, 8.935882720806042, 4.135214625627067, 2.987473849257931, 8.48528137423857, 4.6097722286464435, 3.7416573867739413, 7.355270219373317, 2.958039891549808, 4.898979485566356, 3.6708309685955305, 3.24037034920393, 2.982582773369417, 8.12403840463596, 3.9370039370059056, 2.965771400495999, 3.5355339059327378, 3.0083217912982647, 9.354143466934854, 3.9370039370059056, 2.850438562747845, 2.868658222932805, 2.962262648719725, 8.88584829940282, 6.371812928829597, 2.958039891549808, 5.014977567247933, 3.0598202561588486, 3.24037034920393, 2.975600779674585, 3.391164991562634, 2.8679260799399975, 4.898979485566356, 2.958039891549808, 2.958039891549808, 3.6708309685955305, 2.9559262507714905, 2.868658222932805, 7.615773105863909, 5.5677643628300215, 4.944694126030447, 2.8372521918222215, 2.8722813232690143, 2.914755564365561, 5.488624600025037, 4.644889664997437, 8.955445270895245, 2.958039891549808, 5.196152422706632, 8.399404740813482, 5.62990230821104, 2.982582773369417, 3.7416573867739413, 5.189335217539911, 3.1118001221158145, 2.868658222932805, 5.014977567247933, 3.7416573867739413, 5.220153254455275, 3.0849149096855166, 2.8240042492885875, 2.962262648719725, 1.0, 2.962262648719725, 3.7416573867739413, 7.355270219373317, 2.9811910371527683, 5.014977567247933, 3.391164991562634, 5.681109046656295, 3.0083217912982647, 1.0, 2.987473849257931, 6.16475465854076, 2.7294688127912363, 5.375872022286245, 9.72111104761179, 3.1084562084739105, 1.0, 3.6708309685955305, 6.378675411086537, 2.819574435974337, 7.582598499195378, 6.16475465854076, 2.958039891549808, 9.0, 3.931183028046392, 4.444097208657794, 2.868658222932805, 2.975600779674585, 3.0495901363953815, 9.173783298072829, 3.1084562084739105, 3.0083217912982647, 7.582598499195378, 5.540758070878027, 2.987473849257931, 3.391164991562634, 5.656854249492381, 2.7271780286589284, 3.1084562084739105, 2.924038303442689, 2.982582773369417, 5.830951894845301, 9.492323214050394, 5.681109046656295, 2.962262648719725, 4.03060789459853, 6.356099432828281, 5.196152422706632, 3.2171415884290826, 5.248809388804284, 4.500922127742269, 2.868658222932805, 3.8869396702290095, 3.5355339059327378, 5.189335217539911, 8.399404740813482, 3.7416573867739413, 3.7416573867739413, 3.8546465467017854, 7.176057413371217, 3.24037034920393, 3.483288675949784, 2.982582773369417, 7.318073516985191, 2.449489742783178, 3.1622776601683795, 5.0, 2.8679260799399975, 3.2932962211134305, 2.982582773369417, 2.982582773369417, 9.173783298072829, 5.196152422706632, 2.982582773369417, 3.3936263789639542, 3.391164991562634, 2.8372521918222215, 5.488624600025037, 3.7416573867739413, 5.5677643628300215, 4.944694126030447, 5.5677643628300215, 2.958039891549808], \"xaxis\": \"x\", \"yaxis\": \"y\"}],\n",
       "                        {\"barmode\": \"relative\", \"height\": 400, \"legend\": {\"tracegroupgap\": 0}, \"template\": {\"data\": {\"bar\": [{\"error_x\": {\"color\": \"rgb(36,36,36)\"}, \"error_y\": {\"color\": \"rgb(36,36,36)\"}, \"marker\": {\"line\": {\"color\": \"white\", \"width\": 0.5}}, \"type\": \"bar\"}], \"barpolar\": [{\"marker\": {\"line\": {\"color\": \"white\", \"width\": 0.5}}, \"type\": \"barpolar\"}], \"carpet\": [{\"aaxis\": {\"endlinecolor\": \"rgb(36,36,36)\", \"gridcolor\": \"white\", \"linecolor\": \"white\", \"minorgridcolor\": \"white\", \"startlinecolor\": \"rgb(36,36,36)\"}, \"baxis\": {\"endlinecolor\": \"rgb(36,36,36)\", \"gridcolor\": \"white\", \"linecolor\": \"white\", \"minorgridcolor\": \"white\", \"startlinecolor\": \"rgb(36,36,36)\"}, \"type\": \"carpet\"}], \"choropleth\": [{\"colorbar\": {\"outlinewidth\": 1, \"tickcolor\": \"rgb(36,36,36)\", \"ticks\": \"outside\"}, \"type\": \"choropleth\"}], \"contour\": [{\"colorbar\": {\"outlinewidth\": 1, \"tickcolor\": \"rgb(36,36,36)\", \"ticks\": \"outside\"}, \"colorscale\": [[0.0, \"#440154\"], [0.1111111111111111, \"#482878\"], [0.2222222222222222, \"#3e4989\"], [0.3333333333333333, \"#31688e\"], [0.4444444444444444, \"#26828e\"], [0.5555555555555556, \"#1f9e89\"], [0.6666666666666666, \"#35b779\"], [0.7777777777777778, \"#6ece58\"], [0.8888888888888888, \"#b5de2b\"], [1.0, \"#fde725\"]], \"type\": \"contour\"}], \"contourcarpet\": [{\"colorbar\": {\"outlinewidth\": 1, \"tickcolor\": \"rgb(36,36,36)\", \"ticks\": \"outside\"}, \"type\": \"contourcarpet\"}], \"heatmap\": [{\"colorbar\": {\"outlinewidth\": 1, \"tickcolor\": \"rgb(36,36,36)\", \"ticks\": \"outside\"}, \"colorscale\": [[0.0, \"#440154\"], [0.1111111111111111, \"#482878\"], [0.2222222222222222, \"#3e4989\"], [0.3333333333333333, \"#31688e\"], [0.4444444444444444, \"#26828e\"], [0.5555555555555556, \"#1f9e89\"], [0.6666666666666666, \"#35b779\"], [0.7777777777777778, \"#6ece58\"], [0.8888888888888888, \"#b5de2b\"], [1.0, \"#fde725\"]], \"type\": \"heatmap\"}], \"heatmapgl\": [{\"colorbar\": {\"outlinewidth\": 1, \"tickcolor\": \"rgb(36,36,36)\", \"ticks\": \"outside\"}, \"colorscale\": [[0.0, \"#440154\"], [0.1111111111111111, \"#482878\"], [0.2222222222222222, \"#3e4989\"], [0.3333333333333333, \"#31688e\"], [0.4444444444444444, \"#26828e\"], [0.5555555555555556, \"#1f9e89\"], [0.6666666666666666, \"#35b779\"], [0.7777777777777778, \"#6ece58\"], [0.8888888888888888, \"#b5de2b\"], [1.0, \"#fde725\"]], \"type\": \"heatmapgl\"}], \"histogram\": [{\"marker\": {\"line\": {\"color\": \"white\", \"width\": 0.6}}, \"type\": \"histogram\"}], \"histogram2d\": [{\"colorbar\": {\"outlinewidth\": 1, \"tickcolor\": \"rgb(36,36,36)\", \"ticks\": \"outside\"}, \"colorscale\": [[0.0, \"#440154\"], [0.1111111111111111, \"#482878\"], [0.2222222222222222, \"#3e4989\"], [0.3333333333333333, \"#31688e\"], [0.4444444444444444, \"#26828e\"], [0.5555555555555556, \"#1f9e89\"], [0.6666666666666666, \"#35b779\"], [0.7777777777777778, \"#6ece58\"], [0.8888888888888888, \"#b5de2b\"], [1.0, \"#fde725\"]], \"type\": \"histogram2d\"}], \"histogram2dcontour\": [{\"colorbar\": {\"outlinewidth\": 1, \"tickcolor\": \"rgb(36,36,36)\", \"ticks\": \"outside\"}, \"colorscale\": [[0.0, \"#440154\"], [0.1111111111111111, \"#482878\"], [0.2222222222222222, \"#3e4989\"], [0.3333333333333333, \"#31688e\"], [0.4444444444444444, \"#26828e\"], [0.5555555555555556, \"#1f9e89\"], [0.6666666666666666, \"#35b779\"], [0.7777777777777778, \"#6ece58\"], [0.8888888888888888, \"#b5de2b\"], [1.0, \"#fde725\"]], \"type\": \"histogram2dcontour\"}], \"mesh3d\": [{\"colorbar\": {\"outlinewidth\": 1, \"tickcolor\": \"rgb(36,36,36)\", \"ticks\": \"outside\"}, \"type\": \"mesh3d\"}], \"parcoords\": [{\"line\": {\"colorbar\": {\"outlinewidth\": 1, \"tickcolor\": \"rgb(36,36,36)\", \"ticks\": \"outside\"}}, \"type\": \"parcoords\"}], \"pie\": [{\"automargin\": true, \"type\": \"pie\"}], \"scatter\": [{\"marker\": {\"colorbar\": {\"outlinewidth\": 1, \"tickcolor\": \"rgb(36,36,36)\", \"ticks\": \"outside\"}}, \"type\": \"scatter\"}], \"scatter3d\": [{\"line\": {\"colorbar\": {\"outlinewidth\": 1, \"tickcolor\": \"rgb(36,36,36)\", \"ticks\": \"outside\"}}, \"marker\": {\"colorbar\": {\"outlinewidth\": 1, \"tickcolor\": \"rgb(36,36,36)\", \"ticks\": \"outside\"}}, \"type\": \"scatter3d\"}], \"scattercarpet\": [{\"marker\": {\"colorbar\": {\"outlinewidth\": 1, \"tickcolor\": \"rgb(36,36,36)\", \"ticks\": \"outside\"}}, \"type\": \"scattercarpet\"}], \"scattergeo\": [{\"marker\": {\"colorbar\": {\"outlinewidth\": 1, \"tickcolor\": \"rgb(36,36,36)\", \"ticks\": \"outside\"}}, \"type\": \"scattergeo\"}], \"scattergl\": [{\"marker\": {\"colorbar\": {\"outlinewidth\": 1, \"tickcolor\": \"rgb(36,36,36)\", \"ticks\": \"outside\"}}, \"type\": \"scattergl\"}], \"scattermapbox\": [{\"marker\": {\"colorbar\": {\"outlinewidth\": 1, \"tickcolor\": \"rgb(36,36,36)\", \"ticks\": \"outside\"}}, \"type\": \"scattermapbox\"}], \"scatterpolar\": [{\"marker\": {\"colorbar\": {\"outlinewidth\": 1, \"tickcolor\": \"rgb(36,36,36)\", \"ticks\": \"outside\"}}, \"type\": \"scatterpolar\"}], \"scatterpolargl\": [{\"marker\": {\"colorbar\": {\"outlinewidth\": 1, \"tickcolor\": \"rgb(36,36,36)\", \"ticks\": \"outside\"}}, \"type\": \"scatterpolargl\"}], \"scatterternary\": [{\"marker\": {\"colorbar\": {\"outlinewidth\": 1, \"tickcolor\": \"rgb(36,36,36)\", \"ticks\": \"outside\"}}, \"type\": \"scatterternary\"}], \"surface\": [{\"colorbar\": {\"outlinewidth\": 1, \"tickcolor\": \"rgb(36,36,36)\", \"ticks\": \"outside\"}, \"colorscale\": [[0.0, \"#440154\"], [0.1111111111111111, \"#482878\"], [0.2222222222222222, \"#3e4989\"], [0.3333333333333333, \"#31688e\"], [0.4444444444444444, \"#26828e\"], [0.5555555555555556, \"#1f9e89\"], [0.6666666666666666, \"#35b779\"], [0.7777777777777778, \"#6ece58\"], [0.8888888888888888, \"#b5de2b\"], [1.0, \"#fde725\"]], \"type\": \"surface\"}], \"table\": [{\"cells\": {\"fill\": {\"color\": \"rgb(237,237,237)\"}, \"line\": {\"color\": \"white\"}}, \"header\": {\"fill\": {\"color\": \"rgb(217,217,217)\"}, \"line\": {\"color\": \"white\"}}, \"type\": \"table\"}]}, \"layout\": {\"annotationdefaults\": {\"arrowhead\": 0, \"arrowwidth\": 1}, \"coloraxis\": {\"colorbar\": {\"outlinewidth\": 1, \"tickcolor\": \"rgb(36,36,36)\", \"ticks\": \"outside\"}}, \"colorscale\": {\"diverging\": [[0.0, \"rgb(103,0,31)\"], [0.1, \"rgb(178,24,43)\"], [0.2, \"rgb(214,96,77)\"], [0.3, \"rgb(244,165,130)\"], [0.4, \"rgb(253,219,199)\"], [0.5, \"rgb(247,247,247)\"], [0.6, \"rgb(209,229,240)\"], [0.7, \"rgb(146,197,222)\"], [0.8, \"rgb(67,147,195)\"], [0.9, \"rgb(33,102,172)\"], [1.0, \"rgb(5,48,97)\"]], \"sequential\": [[0.0, \"#440154\"], [0.1111111111111111, \"#482878\"], [0.2222222222222222, \"#3e4989\"], [0.3333333333333333, \"#31688e\"], [0.4444444444444444, \"#26828e\"], [0.5555555555555556, \"#1f9e89\"], [0.6666666666666666, \"#35b779\"], [0.7777777777777778, \"#6ece58\"], [0.8888888888888888, \"#b5de2b\"], [1.0, \"#fde725\"]], \"sequentialminus\": [[0.0, \"#440154\"], [0.1111111111111111, \"#482878\"], [0.2222222222222222, \"#3e4989\"], [0.3333333333333333, \"#31688e\"], [0.4444444444444444, \"#26828e\"], [0.5555555555555556, \"#1f9e89\"], [0.6666666666666666, \"#35b779\"], [0.7777777777777778, \"#6ece58\"], [0.8888888888888888, \"#b5de2b\"], [1.0, \"#fde725\"]]}, \"colorway\": [\"#1F77B4\", \"#FF7F0E\", \"#2CA02C\", \"#D62728\", \"#9467BD\", \"#8C564B\", \"#E377C2\", \"#7F7F7F\", \"#BCBD22\", \"#17BECF\"], \"font\": {\"color\": \"rgb(36,36,36)\"}, \"geo\": {\"bgcolor\": \"white\", \"lakecolor\": \"white\", \"landcolor\": \"white\", \"showlakes\": true, \"showland\": true, \"subunitcolor\": \"white\"}, \"hoverlabel\": {\"align\": \"left\"}, \"hovermode\": \"closest\", \"mapbox\": {\"style\": \"light\"}, \"paper_bgcolor\": \"white\", \"plot_bgcolor\": \"white\", \"polar\": {\"angularaxis\": {\"gridcolor\": \"rgb(232,232,232)\", \"linecolor\": \"rgb(36,36,36)\", \"showgrid\": false, \"showline\": true, \"ticks\": \"outside\"}, \"bgcolor\": \"white\", \"radialaxis\": {\"gridcolor\": \"rgb(232,232,232)\", \"linecolor\": \"rgb(36,36,36)\", \"showgrid\": false, \"showline\": true, \"ticks\": \"outside\"}}, \"scene\": {\"xaxis\": {\"backgroundcolor\": \"white\", \"gridcolor\": \"rgb(232,232,232)\", \"gridwidth\": 2, \"linecolor\": \"rgb(36,36,36)\", \"showbackground\": true, \"showgrid\": false, \"showline\": true, \"ticks\": \"outside\", \"zeroline\": false, \"zerolinecolor\": \"rgb(36,36,36)\"}, \"yaxis\": {\"backgroundcolor\": \"white\", \"gridcolor\": \"rgb(232,232,232)\", \"gridwidth\": 2, \"linecolor\": \"rgb(36,36,36)\", \"showbackground\": true, \"showgrid\": false, \"showline\": true, \"ticks\": \"outside\", \"zeroline\": false, \"zerolinecolor\": \"rgb(36,36,36)\"}, \"zaxis\": {\"backgroundcolor\": \"white\", \"gridcolor\": \"rgb(232,232,232)\", \"gridwidth\": 2, \"linecolor\": \"rgb(36,36,36)\", \"showbackground\": true, \"showgrid\": false, \"showline\": true, \"ticks\": \"outside\", \"zeroline\": false, \"zerolinecolor\": \"rgb(36,36,36)\"}}, \"shapedefaults\": {\"fillcolor\": \"black\", \"line\": {\"width\": 0}, \"opacity\": 0.3}, \"ternary\": {\"aaxis\": {\"gridcolor\": \"rgb(232,232,232)\", \"linecolor\": \"rgb(36,36,36)\", \"showgrid\": false, \"showline\": true, \"ticks\": \"outside\"}, \"baxis\": {\"gridcolor\": \"rgb(232,232,232)\", \"linecolor\": \"rgb(36,36,36)\", \"showgrid\": false, \"showline\": true, \"ticks\": \"outside\"}, \"bgcolor\": \"white\", \"caxis\": {\"gridcolor\": \"rgb(232,232,232)\", \"linecolor\": \"rgb(36,36,36)\", \"showgrid\": false, \"showline\": true, \"ticks\": \"outside\"}}, \"title\": {\"x\": 0.05}, \"xaxis\": {\"automargin\": true, \"gridcolor\": \"rgb(232,232,232)\", \"linecolor\": \"rgb(36,36,36)\", \"showgrid\": false, \"showline\": true, \"ticks\": \"outside\", \"title\": {\"standoff\": 15}, \"zeroline\": false, \"zerolinecolor\": \"rgb(36,36,36)\"}, \"yaxis\": {\"automargin\": true, \"gridcolor\": \"rgb(232,232,232)\", \"linecolor\": \"rgb(36,36,36)\", \"showgrid\": false, \"showline\": true, \"ticks\": \"outside\", \"title\": {\"standoff\": 15}, \"zeroline\": false, \"zerolinecolor\": \"rgb(36,36,36)\"}}}, \"title\": {\"text\": \"Fare Distribution after Transformation\", \"x\": 0.5}, \"width\": 500, \"xaxis\": {\"anchor\": \"y\", \"domain\": [0.0, 1.0], \"title\": {\"text\": \"Fare\"}}, \"yaxis\": {\"anchor\": \"x\", \"domain\": [0.0, 1.0], \"title\": {\"text\": \"count\"}}},\n",
       "                        {\"responsive\": true}\n",
       "                    ).then(function(){\n",
       "                            \n",
       "var gd = document.getElementById('760eb0eb-8f24-4d35-8a4b-c3e3c22ab6bb');\n",
       "var x = new MutationObserver(function (mutations, observer) {{\n",
       "        var display = window.getComputedStyle(gd).display;\n",
       "        if (!display || display === 'none') {{\n",
       "            console.log([gd, 'removed!']);\n",
       "            Plotly.purge(gd);\n",
       "            observer.disconnect();\n",
       "        }}\n",
       "}});\n",
       "\n",
       "// Listen for the removal of the full notebook cells\n",
       "var notebookContainer = gd.closest('#notebook-container');\n",
       "if (notebookContainer) {{\n",
       "    x.observe(notebookContainer, {childList: true});\n",
       "}}\n",
       "\n",
       "// Listen for the clearing of the current output cell\n",
       "var outputEl = gd.closest('.output');\n",
       "if (outputEl) {{\n",
       "    x.observe(outputEl, {childList: true});\n",
       "}}\n",
       "\n",
       "                        })\n",
       "                };\n",
       "                });\n",
       "            </script>\n",
       "        </div>"
      ]
     },
     "metadata": {},
     "output_type": "display_data"
    },
    {
     "name": "stdout",
     "output_type": "stream",
     "text": [
      "Skewness 0.47\n"
     ]
    }
   ],
   "source": [
    "px.histogram(\n",
    "    data_frame = titanic, \n",
    "    x = 'Fare',\n",
    "    title = 'Fare Distribution'\n",
    ").update_layout(\n",
    "    title = 'Fare Distribution after Transformation', \n",
    "    title_x = 0.5,\n",
    "    height = 400, \n",
    "    width = 500\n",
    ").show(\n",
    "    renderer = 'notebook_connected'\n",
    ")\n",
    "\n",
    "print('Skewness', titanic['Age'].skew().round(3))"
   ]
  },
  {
   "cell_type": "markdown",
   "metadata": {},
   "source": [
    "---------\n",
    "---------"
   ]
  },
  {
   "cell_type": "markdown",
   "metadata": {},
   "source": [
    "# 2. Exploring Correlations and Feature Engineering"
   ]
  },
  {
   "cell_type": "markdown",
   "metadata": {},
   "source": [
    "This section is separated into two parts.\n",
    "\n",
    "**The first part** deals with exploring pivot tables and correlations, as well as visualizing data with regards to the outcome feature. The goal of this section is to obtain insights into factors which could potentially be useful for classification.\n",
    "\n",
    "**The second part** deals with feature combinations. In essence, we are going to see whether combining different features (e.g. finding interactions, summing them up, etc.) will result in higher correlations with the outcome feature.\n",
    "\n",
    "Before we proceed with exploring correlations, we should revert textual values of categorical features into numerical values and then dummy code them. Since we are going to use dummy coding in the final prediction, it is useful to have a sense of important categories through examining Phi coefficient of correlation between bivariate features!"
   ]
  },
  {
   "cell_type": "code",
   "execution_count": 37,
   "metadata": {},
   "outputs": [],
   "source": [
    "for index,value in titanic['Survived'].items():\n",
    "    if value == \"Didn't Survive\":\n",
    "        titanic.loc[index, 'Survived'] = 0\n",
    "    else:\n",
    "        titanic.loc[index, 'Survived'] = 1\n",
    "\n",
    "titanic['Survived'] = titanic['Survived'].astype('int16')"
   ]
  },
  {
   "cell_type": "markdown",
   "metadata": {},
   "source": [
    "-----"
   ]
  },
  {
   "cell_type": "markdown",
   "metadata": {},
   "source": [
    "## 2.1. Pivot Tables and Correlations"
   ]
  },
  {
   "cell_type": "markdown",
   "metadata": {},
   "source": [
    "### 2.1.1. Numerical Features"
   ]
  },
  {
   "cell_type": "code",
   "execution_count": 38,
   "metadata": {},
   "outputs": [
    {
     "data": {
      "text/plain": [
       "Age        -0.043183\n",
       "SibSp       0.088890\n",
       "Parch       0.139223\n",
       "Fare        0.292331\n",
       "Survived    1.000000\n",
       "Name: Survived, dtype: float64"
      ]
     },
     "execution_count": 38,
     "metadata": {},
     "output_type": "execute_result"
    }
   ],
   "source": [
    "# Correlations between numerical features and survivorship\n",
    "titanic.corr(\n",
    "    # Using spearman's rho coefficient for obtaining more robust measures of correlation\n",
    "    method = 'spearman'\n",
    ")['Survived'].sort_values()"
   ]
  },
  {
   "cell_type": "markdown",
   "metadata": {},
   "source": [
    "We can see the correlation is the highest when it comes to *Fare* feature. Furthermore, we can see that Age has surprisingly low correlation. However, maybe coming up with an interaction feature between Age and some other features will yield higher correlations. We leave that for the second part. Now, let us combine *Parch* and *SibSp* feature into a new one - *Family* feature. The new feature will indicate a number of family members."
   ]
  },
  {
   "cell_type": "code",
   "execution_count": 39,
   "metadata": {},
   "outputs": [
    {
     "data": {
      "text/plain": [
       "Age        -0.043183\n",
       "SibSp       0.088890\n",
       "Parch       0.139223\n",
       "Family      0.168373\n",
       "Fare        0.292331\n",
       "Survived    1.000000\n",
       "Name: Survived, dtype: float64"
      ]
     },
     "execution_count": 39,
     "metadata": {},
     "output_type": "execute_result"
    }
   ],
   "source": [
    "titanic['Family'] = titanic['SibSp'] + titanic['Parch'] + 1\n",
    "titanic.corr(\n",
    "    method = 'spearman'\n",
    ")['Survived'].sort_values()"
   ]
  },
  {
   "cell_type": "markdown",
   "metadata": {},
   "source": [
    "Having a new feature \"Family\" leads to an increase in correlation. Therefore, we can exclude 'Parch' and 'SibSp' features since keeping them in dataset could lead to multicollinearity problems."
   ]
  },
  {
   "cell_type": "code",
   "execution_count": 40,
   "metadata": {},
   "outputs": [],
   "source": [
    "titanic = titanic.drop(columns = ['SibSp', 'Parch'])"
   ]
  },
  {
   "cell_type": "markdown",
   "metadata": {},
   "source": [
    "Now, let us check the number of outlier values for our new feature!\n"
   ]
  },
  {
   "cell_type": "code",
   "execution_count": 41,
   "metadata": {},
   "outputs": [
    {
     "data": {
      "text/plain": [
       "39.0"
      ]
     },
     "execution_count": 41,
     "metadata": {},
     "output_type": "execute_result"
    }
   ],
   "source": [
    "titanic = outliers(titanic, 'Family', 'Family_outliers')\n",
    "titanic['Family_outliers'].sum()"
   ]
  },
  {
   "cell_type": "markdown",
   "metadata": {},
   "source": [
    "We can see that a total of 43 values are outliers. However, excluding that much values can lead to loosing some important information, especially information which comes from other features. Therefore, it is probably a smarter move to discretize this variable into several features. Before doing that, we should examine counts of different values to get a sense of the number of categories."
   ]
  },
  {
   "cell_type": "code",
   "execution_count": 42,
   "metadata": {},
   "outputs": [
    {
     "data": {
      "text/plain": [
       "1     521\n",
       "2     146\n",
       "3      93\n",
       "4      22\n",
       "6      18\n",
       "5      13\n",
       "7      12\n",
       "8       6\n",
       "11      3\n",
       "Name: Family, dtype: int64"
      ]
     },
     "execution_count": 42,
     "metadata": {},
     "output_type": "execute_result"
    }
   ],
   "source": [
    "titanic['Family'].value_counts()"
   ]
  },
  {
   "cell_type": "markdown",
   "metadata": {},
   "source": [
    "# OBAVEZNO OVDE DA IDE GRAFIKON ZA FAMILY DA MOZES RACIONALNO DA IH GRUPISES, ISTRAZI MALO BOLJE"
   ]
  },
  {
   "cell_type": "markdown",
   "metadata": {},
   "source": [
    "Seems like we should combine this into three main categories - traveling alone, traveling with someone and traveling with more than one member of the family. That way, we can overcome excluding 43 observations."
   ]
  },
  {
   "cell_type": "code",
   "execution_count": 59,
   "metadata": {},
   "outputs": [
    {
     "data": {
      "text/html": [
       "<div>\n",
       "<style scoped>\n",
       "    .dataframe tbody tr th:only-of-type {\n",
       "        vertical-align: middle;\n",
       "    }\n",
       "\n",
       "    .dataframe tbody tr th {\n",
       "        vertical-align: top;\n",
       "    }\n",
       "\n",
       "    .dataframe thead th {\n",
       "        text-align: right;\n",
       "    }\n",
       "</style>\n",
       "<table border=\"1\" class=\"dataframe\">\n",
       "  <thead>\n",
       "    <tr style=\"text-align: right;\">\n",
       "      <th></th>\n",
       "      <th>Survived</th>\n",
       "      <th>Pclass</th>\n",
       "      <th>Sex</th>\n",
       "      <th>Age</th>\n",
       "      <th>Fare</th>\n",
       "      <th>Embarked</th>\n",
       "      <th>Title</th>\n",
       "      <th>Family</th>\n",
       "    </tr>\n",
       "  </thead>\n",
       "  <tbody>\n",
       "    <tr>\n",
       "      <th>0</th>\n",
       "      <td>0</td>\n",
       "      <td>Third Class</td>\n",
       "      <td>Male</td>\n",
       "      <td>22.0</td>\n",
       "      <td>2.872281</td>\n",
       "      <td>Southampton</td>\n",
       "      <td>Not Rare</td>\n",
       "      <td>Small_f</td>\n",
       "    </tr>\n",
       "    <tr>\n",
       "      <th>1</th>\n",
       "      <td>1</td>\n",
       "      <td>First Class</td>\n",
       "      <td>Female</td>\n",
       "      <td>38.0</td>\n",
       "      <td>8.501959</td>\n",
       "      <td>Cherbourg</td>\n",
       "      <td>Not Rare</td>\n",
       "      <td>Small_f</td>\n",
       "    </tr>\n",
       "    <tr>\n",
       "      <th>2</th>\n",
       "      <td>1</td>\n",
       "      <td>Third Class</td>\n",
       "      <td>Female</td>\n",
       "      <td>26.0</td>\n",
       "      <td>2.987474</td>\n",
       "      <td>Southampton</td>\n",
       "      <td>Not Rare</td>\n",
       "      <td>Alone</td>\n",
       "    </tr>\n",
       "    <tr>\n",
       "      <th>3</th>\n",
       "      <td>1</td>\n",
       "      <td>First Class</td>\n",
       "      <td>Female</td>\n",
       "      <td>35.0</td>\n",
       "      <td>7.355270</td>\n",
       "      <td>Southampton</td>\n",
       "      <td>Not Rare</td>\n",
       "      <td>Small_f</td>\n",
       "    </tr>\n",
       "    <tr>\n",
       "      <th>4</th>\n",
       "      <td>0</td>\n",
       "      <td>Third Class</td>\n",
       "      <td>Male</td>\n",
       "      <td>35.0</td>\n",
       "      <td>3.008322</td>\n",
       "      <td>Southampton</td>\n",
       "      <td>Not Rare</td>\n",
       "      <td>Alone</td>\n",
       "    </tr>\n",
       "  </tbody>\n",
       "</table>\n",
       "</div>"
      ],
      "text/plain": [
       "   Survived       Pclass     Sex   Age      Fare     Embarked     Title  \\\n",
       "0         0  Third Class    Male  22.0  2.872281  Southampton  Not Rare   \n",
       "1         1  First Class  Female  38.0  8.501959    Cherbourg  Not Rare   \n",
       "2         1  Third Class  Female  26.0  2.987474  Southampton  Not Rare   \n",
       "3         1  First Class  Female  35.0  7.355270  Southampton  Not Rare   \n",
       "4         0  Third Class    Male  35.0  3.008322  Southampton  Not Rare   \n",
       "\n",
       "    Family  \n",
       "0  Small_f  \n",
       "1  Small_f  \n",
       "2    Alone  \n",
       "3  Small_f  \n",
       "4    Alone  "
      ]
     },
     "execution_count": 59,
     "metadata": {},
     "output_type": "execute_result"
    }
   ],
   "source": [
    "for index, value in titanic['Family'].items():\n",
    "    if value == 1:\n",
    "        titanic.loc[index, 'Family'] = 'Alone'\n",
    "    elif value == 1:\n",
    "        titanic.loc[index, 'Family'] = 'Small_f'\n",
    "    else:\n",
    "        titanic.loc[index, 'Family'] = 'Big_f'\n",
    "titanic = titanic.drop(columns = 'Family_outliers')\n",
    "titanic.head()"
   ]
  },
  {
   "cell_type": "markdown",
   "metadata": {},
   "source": [
    "Since we are dealing with categorical feature for now, we are going to leave final approximation of correlation for the next part. Right now, we should visualize the correlations between numerical features and the outcome feature using heatmap."
   ]
  },
  {
   "cell_type": "code",
   "execution_count": 44,
   "metadata": {},
   "outputs": [
    {
     "data": {
      "text/html": [
       "        <script type=\"text/javascript\">\n",
       "        window.PlotlyConfig = {MathJaxConfig: 'local'};\n",
       "        if (window.MathJax) {MathJax.Hub.Config({SVG: {font: \"STIX-Web\"}});}\n",
       "        if (typeof require !== 'undefined') {\n",
       "        require.undef(\"plotly\");\n",
       "        requirejs.config({\n",
       "            paths: {\n",
       "                'plotly': ['https://cdn.plot.ly/plotly-latest.min']\n",
       "            }\n",
       "        });\n",
       "        require(['plotly'], function(Plotly) {\n",
       "            window._Plotly = Plotly;\n",
       "        });\n",
       "        }\n",
       "        </script>\n",
       "        "
      ]
     },
     "metadata": {},
     "output_type": "display_data"
    },
    {
     "data": {
      "text/html": [
       "<div>\n",
       "        \n",
       "        \n",
       "            <div id=\"ee2e3754-d36c-4317-84eb-581b1af0deef\" class=\"plotly-graph-div\" style=\"height:400px; width:500px;\"></div>\n",
       "            <script type=\"text/javascript\">\n",
       "                require([\"plotly\"], function(Plotly) {\n",
       "                    window.PLOTLYENV=window.PLOTLYENV || {};\n",
       "                    \n",
       "                if (document.getElementById(\"ee2e3754-d36c-4317-84eb-581b1af0deef\")) {\n",
       "                    Plotly.newPlot(\n",
       "                        'ee2e3754-d36c-4317-84eb-581b1af0deef',\n",
       "                        [{\"colorscale\": [[0.0, \"rgb(209, 238, 234)\"], [0.16666666666666666, \"rgb(168, 219, 217)\"], [0.3333333333333333, \"rgb(133, 196, 201)\"], [0.5, \"rgb(104, 171, 184)\"], [0.6666666666666666, \"rgb(79, 144, 166)\"], [0.8333333333333334, \"rgb(59, 115, 143)\"], [1.0, \"rgb(42, 86, 116)\"]], \"reversescale\": false, \"showscale\": false, \"type\": \"heatmap\", \"x\": [\"Survived\", \"Age\", \"Fare\"], \"y\": [\"Survived\", \"Age\", \"Fare\"], \"z\": [[1.0, -0.043, 0.292], [-0.043, 1.0, 0.139], [0.292, 0.139, 1.0]]}],\n",
       "                        {\"annotations\": [{\"font\": {\"color\": \"#FFFFFF\"}, \"showarrow\": false, \"text\": \"1.0\", \"x\": \"Survived\", \"xref\": \"x\", \"y\": \"Survived\", \"yref\": \"y\"}, {\"font\": {\"color\": \"#000000\"}, \"showarrow\": false, \"text\": \"-0.043\", \"x\": \"Age\", \"xref\": \"x\", \"y\": \"Survived\", \"yref\": \"y\"}, {\"font\": {\"color\": \"#000000\"}, \"showarrow\": false, \"text\": \"0.292\", \"x\": \"Fare\", \"xref\": \"x\", \"y\": \"Survived\", \"yref\": \"y\"}, {\"font\": {\"color\": \"#000000\"}, \"showarrow\": false, \"text\": \"-0.043\", \"x\": \"Survived\", \"xref\": \"x\", \"y\": \"Age\", \"yref\": \"y\"}, {\"font\": {\"color\": \"#FFFFFF\"}, \"showarrow\": false, \"text\": \"1.0\", \"x\": \"Age\", \"xref\": \"x\", \"y\": \"Age\", \"yref\": \"y\"}, {\"font\": {\"color\": \"#000000\"}, \"showarrow\": false, \"text\": \"0.139\", \"x\": \"Fare\", \"xref\": \"x\", \"y\": \"Age\", \"yref\": \"y\"}, {\"font\": {\"color\": \"#000000\"}, \"showarrow\": false, \"text\": \"0.292\", \"x\": \"Survived\", \"xref\": \"x\", \"y\": \"Fare\", \"yref\": \"y\"}, {\"font\": {\"color\": \"#000000\"}, \"showarrow\": false, \"text\": \"0.139\", \"x\": \"Age\", \"xref\": \"x\", \"y\": \"Fare\", \"yref\": \"y\"}, {\"font\": {\"color\": \"#FFFFFF\"}, \"showarrow\": false, \"text\": \"1.0\", \"x\": \"Fare\", \"xref\": \"x\", \"y\": \"Fare\", \"yref\": \"y\"}], \"height\": 400, \"template\": {\"data\": {\"bar\": [{\"error_x\": {\"color\": \"rgb(36,36,36)\"}, \"error_y\": {\"color\": \"rgb(36,36,36)\"}, \"marker\": {\"line\": {\"color\": \"white\", \"width\": 0.5}}, \"type\": \"bar\"}], \"barpolar\": [{\"marker\": {\"line\": {\"color\": \"white\", \"width\": 0.5}}, \"type\": \"barpolar\"}], \"carpet\": [{\"aaxis\": {\"endlinecolor\": \"rgb(36,36,36)\", \"gridcolor\": \"white\", \"linecolor\": \"white\", \"minorgridcolor\": \"white\", \"startlinecolor\": \"rgb(36,36,36)\"}, \"baxis\": {\"endlinecolor\": \"rgb(36,36,36)\", \"gridcolor\": \"white\", \"linecolor\": \"white\", \"minorgridcolor\": \"white\", \"startlinecolor\": \"rgb(36,36,36)\"}, \"type\": \"carpet\"}], \"choropleth\": [{\"colorbar\": {\"outlinewidth\": 1, \"tickcolor\": \"rgb(36,36,36)\", \"ticks\": \"outside\"}, \"type\": \"choropleth\"}], \"contour\": [{\"colorbar\": {\"outlinewidth\": 1, \"tickcolor\": \"rgb(36,36,36)\", \"ticks\": \"outside\"}, \"colorscale\": [[0.0, \"#440154\"], [0.1111111111111111, \"#482878\"], [0.2222222222222222, \"#3e4989\"], [0.3333333333333333, \"#31688e\"], [0.4444444444444444, \"#26828e\"], [0.5555555555555556, \"#1f9e89\"], [0.6666666666666666, \"#35b779\"], [0.7777777777777778, \"#6ece58\"], [0.8888888888888888, \"#b5de2b\"], [1.0, \"#fde725\"]], \"type\": \"contour\"}], \"contourcarpet\": [{\"colorbar\": {\"outlinewidth\": 1, \"tickcolor\": \"rgb(36,36,36)\", \"ticks\": \"outside\"}, \"type\": \"contourcarpet\"}], \"heatmap\": [{\"colorbar\": {\"outlinewidth\": 1, \"tickcolor\": \"rgb(36,36,36)\", \"ticks\": \"outside\"}, \"colorscale\": [[0.0, \"#440154\"], [0.1111111111111111, \"#482878\"], [0.2222222222222222, \"#3e4989\"], [0.3333333333333333, \"#31688e\"], [0.4444444444444444, \"#26828e\"], [0.5555555555555556, \"#1f9e89\"], [0.6666666666666666, \"#35b779\"], [0.7777777777777778, \"#6ece58\"], [0.8888888888888888, \"#b5de2b\"], [1.0, \"#fde725\"]], \"type\": \"heatmap\"}], \"heatmapgl\": [{\"colorbar\": {\"outlinewidth\": 1, \"tickcolor\": \"rgb(36,36,36)\", \"ticks\": \"outside\"}, \"colorscale\": [[0.0, \"#440154\"], [0.1111111111111111, \"#482878\"], [0.2222222222222222, \"#3e4989\"], [0.3333333333333333, \"#31688e\"], [0.4444444444444444, \"#26828e\"], [0.5555555555555556, \"#1f9e89\"], [0.6666666666666666, \"#35b779\"], [0.7777777777777778, \"#6ece58\"], [0.8888888888888888, \"#b5de2b\"], [1.0, \"#fde725\"]], \"type\": \"heatmapgl\"}], \"histogram\": [{\"marker\": {\"line\": {\"color\": \"white\", \"width\": 0.6}}, \"type\": \"histogram\"}], \"histogram2d\": [{\"colorbar\": {\"outlinewidth\": 1, \"tickcolor\": \"rgb(36,36,36)\", \"ticks\": \"outside\"}, \"colorscale\": [[0.0, \"#440154\"], [0.1111111111111111, \"#482878\"], [0.2222222222222222, \"#3e4989\"], [0.3333333333333333, \"#31688e\"], [0.4444444444444444, \"#26828e\"], [0.5555555555555556, \"#1f9e89\"], [0.6666666666666666, \"#35b779\"], [0.7777777777777778, \"#6ece58\"], [0.8888888888888888, \"#b5de2b\"], [1.0, \"#fde725\"]], \"type\": \"histogram2d\"}], \"histogram2dcontour\": [{\"colorbar\": {\"outlinewidth\": 1, \"tickcolor\": \"rgb(36,36,36)\", \"ticks\": \"outside\"}, \"colorscale\": [[0.0, \"#440154\"], [0.1111111111111111, \"#482878\"], [0.2222222222222222, \"#3e4989\"], [0.3333333333333333, \"#31688e\"], [0.4444444444444444, \"#26828e\"], [0.5555555555555556, \"#1f9e89\"], [0.6666666666666666, \"#35b779\"], [0.7777777777777778, \"#6ece58\"], [0.8888888888888888, \"#b5de2b\"], [1.0, \"#fde725\"]], \"type\": \"histogram2dcontour\"}], \"mesh3d\": [{\"colorbar\": {\"outlinewidth\": 1, \"tickcolor\": \"rgb(36,36,36)\", \"ticks\": \"outside\"}, \"type\": \"mesh3d\"}], \"parcoords\": [{\"line\": {\"colorbar\": {\"outlinewidth\": 1, \"tickcolor\": \"rgb(36,36,36)\", \"ticks\": \"outside\"}}, \"type\": \"parcoords\"}], \"pie\": [{\"automargin\": true, \"type\": \"pie\"}], \"scatter\": [{\"marker\": {\"colorbar\": {\"outlinewidth\": 1, \"tickcolor\": \"rgb(36,36,36)\", \"ticks\": \"outside\"}}, \"type\": \"scatter\"}], \"scatter3d\": [{\"line\": {\"colorbar\": {\"outlinewidth\": 1, \"tickcolor\": \"rgb(36,36,36)\", \"ticks\": \"outside\"}}, \"marker\": {\"colorbar\": {\"outlinewidth\": 1, \"tickcolor\": \"rgb(36,36,36)\", \"ticks\": \"outside\"}}, \"type\": \"scatter3d\"}], \"scattercarpet\": [{\"marker\": {\"colorbar\": {\"outlinewidth\": 1, \"tickcolor\": \"rgb(36,36,36)\", \"ticks\": \"outside\"}}, \"type\": \"scattercarpet\"}], \"scattergeo\": [{\"marker\": {\"colorbar\": {\"outlinewidth\": 1, \"tickcolor\": \"rgb(36,36,36)\", \"ticks\": \"outside\"}}, \"type\": \"scattergeo\"}], \"scattergl\": [{\"marker\": {\"colorbar\": {\"outlinewidth\": 1, \"tickcolor\": \"rgb(36,36,36)\", \"ticks\": \"outside\"}}, \"type\": \"scattergl\"}], \"scattermapbox\": [{\"marker\": {\"colorbar\": {\"outlinewidth\": 1, \"tickcolor\": \"rgb(36,36,36)\", \"ticks\": \"outside\"}}, \"type\": \"scattermapbox\"}], \"scatterpolar\": [{\"marker\": {\"colorbar\": {\"outlinewidth\": 1, \"tickcolor\": \"rgb(36,36,36)\", \"ticks\": \"outside\"}}, \"type\": \"scatterpolar\"}], \"scatterpolargl\": [{\"marker\": {\"colorbar\": {\"outlinewidth\": 1, \"tickcolor\": \"rgb(36,36,36)\", \"ticks\": \"outside\"}}, \"type\": \"scatterpolargl\"}], \"scatterternary\": [{\"marker\": {\"colorbar\": {\"outlinewidth\": 1, \"tickcolor\": \"rgb(36,36,36)\", \"ticks\": \"outside\"}}, \"type\": \"scatterternary\"}], \"surface\": [{\"colorbar\": {\"outlinewidth\": 1, \"tickcolor\": \"rgb(36,36,36)\", \"ticks\": \"outside\"}, \"colorscale\": [[0.0, \"#440154\"], [0.1111111111111111, \"#482878\"], [0.2222222222222222, \"#3e4989\"], [0.3333333333333333, \"#31688e\"], [0.4444444444444444, \"#26828e\"], [0.5555555555555556, \"#1f9e89\"], [0.6666666666666666, \"#35b779\"], [0.7777777777777778, \"#6ece58\"], [0.8888888888888888, \"#b5de2b\"], [1.0, \"#fde725\"]], \"type\": \"surface\"}], \"table\": [{\"cells\": {\"fill\": {\"color\": \"rgb(237,237,237)\"}, \"line\": {\"color\": \"white\"}}, \"header\": {\"fill\": {\"color\": \"rgb(217,217,217)\"}, \"line\": {\"color\": \"white\"}}, \"type\": \"table\"}]}, \"layout\": {\"annotationdefaults\": {\"arrowhead\": 0, \"arrowwidth\": 1}, \"coloraxis\": {\"colorbar\": {\"outlinewidth\": 1, \"tickcolor\": \"rgb(36,36,36)\", \"ticks\": \"outside\"}}, \"colorscale\": {\"diverging\": [[0.0, \"rgb(103,0,31)\"], [0.1, \"rgb(178,24,43)\"], [0.2, \"rgb(214,96,77)\"], [0.3, \"rgb(244,165,130)\"], [0.4, \"rgb(253,219,199)\"], [0.5, \"rgb(247,247,247)\"], [0.6, \"rgb(209,229,240)\"], [0.7, \"rgb(146,197,222)\"], [0.8, \"rgb(67,147,195)\"], [0.9, \"rgb(33,102,172)\"], [1.0, \"rgb(5,48,97)\"]], \"sequential\": [[0.0, \"#440154\"], [0.1111111111111111, \"#482878\"], [0.2222222222222222, \"#3e4989\"], [0.3333333333333333, \"#31688e\"], [0.4444444444444444, \"#26828e\"], [0.5555555555555556, \"#1f9e89\"], [0.6666666666666666, \"#35b779\"], [0.7777777777777778, \"#6ece58\"], [0.8888888888888888, \"#b5de2b\"], [1.0, \"#fde725\"]], \"sequentialminus\": [[0.0, \"#440154\"], [0.1111111111111111, \"#482878\"], [0.2222222222222222, \"#3e4989\"], [0.3333333333333333, \"#31688e\"], [0.4444444444444444, \"#26828e\"], [0.5555555555555556, \"#1f9e89\"], [0.6666666666666666, \"#35b779\"], [0.7777777777777778, \"#6ece58\"], [0.8888888888888888, \"#b5de2b\"], [1.0, \"#fde725\"]]}, \"colorway\": [\"#1F77B4\", \"#FF7F0E\", \"#2CA02C\", \"#D62728\", \"#9467BD\", \"#8C564B\", \"#E377C2\", \"#7F7F7F\", \"#BCBD22\", \"#17BECF\"], \"font\": {\"color\": \"rgb(36,36,36)\"}, \"geo\": {\"bgcolor\": \"white\", \"lakecolor\": \"white\", \"landcolor\": \"white\", \"showlakes\": true, \"showland\": true, \"subunitcolor\": \"white\"}, \"hoverlabel\": {\"align\": \"left\"}, \"hovermode\": \"closest\", \"mapbox\": {\"style\": \"light\"}, \"paper_bgcolor\": \"white\", \"plot_bgcolor\": \"white\", \"polar\": {\"angularaxis\": {\"gridcolor\": \"rgb(232,232,232)\", \"linecolor\": \"rgb(36,36,36)\", \"showgrid\": false, \"showline\": true, \"ticks\": \"outside\"}, \"bgcolor\": \"white\", \"radialaxis\": {\"gridcolor\": \"rgb(232,232,232)\", \"linecolor\": \"rgb(36,36,36)\", \"showgrid\": false, \"showline\": true, \"ticks\": \"outside\"}}, \"scene\": {\"xaxis\": {\"backgroundcolor\": \"white\", \"gridcolor\": \"rgb(232,232,232)\", \"gridwidth\": 2, \"linecolor\": \"rgb(36,36,36)\", \"showbackground\": true, \"showgrid\": false, \"showline\": true, \"ticks\": \"outside\", \"zeroline\": false, \"zerolinecolor\": \"rgb(36,36,36)\"}, \"yaxis\": {\"backgroundcolor\": \"white\", \"gridcolor\": \"rgb(232,232,232)\", \"gridwidth\": 2, \"linecolor\": \"rgb(36,36,36)\", \"showbackground\": true, \"showgrid\": false, \"showline\": true, \"ticks\": \"outside\", \"zeroline\": false, \"zerolinecolor\": \"rgb(36,36,36)\"}, \"zaxis\": {\"backgroundcolor\": \"white\", \"gridcolor\": \"rgb(232,232,232)\", \"gridwidth\": 2, \"linecolor\": \"rgb(36,36,36)\", \"showbackground\": true, \"showgrid\": false, \"showline\": true, \"ticks\": \"outside\", \"zeroline\": false, \"zerolinecolor\": \"rgb(36,36,36)\"}}, \"shapedefaults\": {\"fillcolor\": \"black\", \"line\": {\"width\": 0}, \"opacity\": 0.3}, \"ternary\": {\"aaxis\": {\"gridcolor\": \"rgb(232,232,232)\", \"linecolor\": \"rgb(36,36,36)\", \"showgrid\": false, \"showline\": true, \"ticks\": \"outside\"}, \"baxis\": {\"gridcolor\": \"rgb(232,232,232)\", \"linecolor\": \"rgb(36,36,36)\", \"showgrid\": false, \"showline\": true, \"ticks\": \"outside\"}, \"bgcolor\": \"white\", \"caxis\": {\"gridcolor\": \"rgb(232,232,232)\", \"linecolor\": \"rgb(36,36,36)\", \"showgrid\": false, \"showline\": true, \"ticks\": \"outside\"}}, \"title\": {\"x\": 0.05}, \"xaxis\": {\"automargin\": true, \"gridcolor\": \"rgb(232,232,232)\", \"linecolor\": \"rgb(36,36,36)\", \"showgrid\": false, \"showline\": true, \"ticks\": \"outside\", \"title\": {\"standoff\": 15}, \"zeroline\": false, \"zerolinecolor\": \"rgb(36,36,36)\"}, \"yaxis\": {\"automargin\": true, \"gridcolor\": \"rgb(232,232,232)\", \"linecolor\": \"rgb(36,36,36)\", \"showgrid\": false, \"showline\": true, \"ticks\": \"outside\", \"title\": {\"standoff\": 15}, \"zeroline\": false, \"zerolinecolor\": \"rgb(36,36,36)\"}}}, \"title\": {\"text\": \"Correlations between Outcome and Numerical Features\", \"x\": 0.5}, \"width\": 500, \"xaxis\": {\"dtick\": 1, \"gridcolor\": \"rgb(0, 0, 0)\", \"side\": \"top\", \"ticks\": \"\"}, \"yaxis\": {\"dtick\": 1, \"ticks\": \"\", \"ticksuffix\": \"  \"}},\n",
       "                        {\"responsive\": true}\n",
       "                    ).then(function(){\n",
       "                            \n",
       "var gd = document.getElementById('ee2e3754-d36c-4317-84eb-581b1af0deef');\n",
       "var x = new MutationObserver(function (mutations, observer) {{\n",
       "        var display = window.getComputedStyle(gd).display;\n",
       "        if (!display || display === 'none') {{\n",
       "            console.log([gd, 'removed!']);\n",
       "            Plotly.purge(gd);\n",
       "            observer.disconnect();\n",
       "        }}\n",
       "}});\n",
       "\n",
       "// Listen for the removal of the full notebook cells\n",
       "var notebookContainer = gd.closest('#notebook-container');\n",
       "if (notebookContainer) {{\n",
       "    x.observe(notebookContainer, {childList: true});\n",
       "}}\n",
       "\n",
       "// Listen for the clearing of the current output cell\n",
       "var outputEl = gd.closest('.output');\n",
       "if (outputEl) {{\n",
       "    x.observe(outputEl, {childList: true});\n",
       "}}\n",
       "\n",
       "                        })\n",
       "                };\n",
       "                });\n",
       "            </script>\n",
       "        </div>"
      ]
     },
     "metadata": {},
     "output_type": "display_data"
    }
   ],
   "source": [
    "corr_num = titanic[['Survived', 'Age', 'Fare']].corr(method = 'spearman').round(3).to_numpy()\n",
    "corr_num_plot = ff.create_annotated_heatmap(\n",
    "    corr_num,\n",
    "    x = ['Survived', 'Age', 'Fare'],\n",
    "    y = ['Survived', 'Age', 'Fare'],\n",
    "    colorscale = 'Teal'\n",
    ")\n",
    "\n",
    "corr_num_plot.update_layout(\n",
    "    title = 'Correlations between Outcome and Numerical Features',\n",
    "    title_x = 0.5,\n",
    "    width = 500,\n",
    "    height = 400\n",
    ")\n",
    "\n",
    "corr_num_plot.show(renderer = 'notebook_connected')"
   ]
  },
  {
   "cell_type": "markdown",
   "metadata": {},
   "source": [
    "----"
   ]
  },
  {
   "cell_type": "markdown",
   "metadata": {},
   "source": [
    "### 2.1.2. Categorical Features"
   ]
  },
  {
   "cell_type": "markdown",
   "metadata": {},
   "source": [
    "Categorical features should be considered separately, since measures such as Pearson's, Spearman's, or Kendall's coefficients of correlations cannot quantify the relationship between categorical features. Hence, some other measures should be used, such as *Cramer's V* and *Phi coefficient* (for binary data). "
   ]
  },
  {
   "cell_type": "code",
   "execution_count": 60,
   "metadata": {},
   "outputs": [
    {
     "name": "stdout",
     "output_type": "stream",
     "text": [
      "Feature: Pclass \n",
      "                 Chi-square test  results\n",
      "0  Pearson Chi-square ( 2.0) =   77.1893\n",
      "1                    p-value =    0.0000\n",
      "2                 Cramer's V =    0.3042 \n",
      "\n",
      "Feature: Sex \n",
      "                 Chi-square test   results\n",
      "0  Pearson Chi-square ( 1.0) =   229.0651\n",
      "1                    p-value =     0.0000\n",
      "2               Cramer's phi =     0.5241 \n",
      "\n",
      "Feature: Embarked \n",
      "                 Chi-square test  results\n",
      "0  Pearson Chi-square ( 2.0) =   18.4783\n",
      "1                    p-value =    0.0001\n",
      "2                 Cramer's V =    0.1488 \n",
      "\n",
      "Feature: Title \n",
      "                 Chi-square test  results\n",
      "0  Pearson Chi-square ( 1.0) =    2.3626\n",
      "1                    p-value =    0.1243\n",
      "2               Cramer's phi =    0.0532 \n",
      "\n",
      "Feature: Family \n",
      "                 Chi-square test  results\n",
      "0  Pearson Chi-square ( 2.0) =   71.7152\n",
      "1                    p-value =    0.0000\n",
      "2                 Cramer's V =    0.2932 \n",
      "\n"
     ]
    }
   ],
   "source": [
    "for i in ['Pclass', 'Sex', 'Embarked', 'Title', 'Family']:\n",
    "    print(\n",
    "        'Feature:', \n",
    "        i, \n",
    "        '\\n', \n",
    "        researchpy.crosstab(\n",
    "            titanic['Survived'], titanic[i], test = 'chi-square')[1], \n",
    "        '\\n'\n",
    "        )"
   ]
  },
  {
   "cell_type": "code",
   "execution_count": 46,
   "metadata": {},
   "outputs": [
    {
     "data": {
      "text/html": [
       "        <script type=\"text/javascript\">\n",
       "        window.PlotlyConfig = {MathJaxConfig: 'local'};\n",
       "        if (window.MathJax) {MathJax.Hub.Config({SVG: {font: \"STIX-Web\"}});}\n",
       "        if (typeof require !== 'undefined') {\n",
       "        require.undef(\"plotly\");\n",
       "        requirejs.config({\n",
       "            paths: {\n",
       "                'plotly': ['https://cdn.plot.ly/plotly-latest.min']\n",
       "            }\n",
       "        });\n",
       "        require(['plotly'], function(Plotly) {\n",
       "            window._Plotly = Plotly;\n",
       "        });\n",
       "        }\n",
       "        </script>\n",
       "        "
      ]
     },
     "metadata": {},
     "output_type": "display_data"
    },
    {
     "data": {
      "text/html": [
       "<div>\n",
       "        \n",
       "        \n",
       "            <div id=\"381729f2-68ca-4e36-97e8-76994035540d\" class=\"plotly-graph-div\" style=\"height:500px; width:700px;\"></div>\n",
       "            <script type=\"text/javascript\">\n",
       "                require([\"plotly\"], function(Plotly) {\n",
       "                    window.PLOTLYENV=window.PLOTLYENV || {};\n",
       "                    \n",
       "                if (document.getElementById(\"381729f2-68ca-4e36-97e8-76994035540d\")) {\n",
       "                    Plotly.newPlot(\n",
       "                        '381729f2-68ca-4e36-97e8-76994035540d',\n",
       "                        [{\"alignmentgroup\": \"True\", \"hovertemplate\": \"Feature=%{x}<br>Correlation=%{marker.color}<extra></extra>\", \"legendgroup\": \"\", \"marker\": {\"color\": [0.0526, 0.1505, 0.1651, 0.3063, 0.5253], \"coloraxis\": \"coloraxis\"}, \"name\": \"\", \"offsetgroup\": \"\", \"orientation\": \"v\", \"showlegend\": false, \"textposition\": \"auto\", \"type\": \"bar\", \"x\": [\"Title\", \"Port of Embarkation\", \"Family\", \"Ticket Class\", \"Sex\"], \"xaxis\": \"x\", \"y\": [0.0526, 0.1505, 0.1651, 0.3063, 0.5253], \"yaxis\": \"y\"}],\n",
       "                        {\"barmode\": \"relative\", \"coloraxis\": {\"colorbar\": {\"title\": {\"text\": \"Correlation\"}}, \"colorscale\": [[0.0, \"rgb(209, 238, 234)\"], [0.16666666666666666, \"rgb(168, 219, 217)\"], [0.3333333333333333, \"rgb(133, 196, 201)\"], [0.5, \"rgb(104, 171, 184)\"], [0.6666666666666666, \"rgb(79, 144, 166)\"], [0.8333333333333334, \"rgb(59, 115, 143)\"], [1.0, \"rgb(42, 86, 116)\"]]}, \"height\": 500, \"legend\": {\"tracegroupgap\": 0}, \"template\": {\"data\": {\"bar\": [{\"error_x\": {\"color\": \"rgb(36,36,36)\"}, \"error_y\": {\"color\": \"rgb(36,36,36)\"}, \"marker\": {\"line\": {\"color\": \"white\", \"width\": 0.5}}, \"type\": \"bar\"}], \"barpolar\": [{\"marker\": {\"line\": {\"color\": \"white\", \"width\": 0.5}}, \"type\": \"barpolar\"}], \"carpet\": [{\"aaxis\": {\"endlinecolor\": \"rgb(36,36,36)\", \"gridcolor\": \"white\", \"linecolor\": \"white\", \"minorgridcolor\": \"white\", \"startlinecolor\": \"rgb(36,36,36)\"}, \"baxis\": {\"endlinecolor\": \"rgb(36,36,36)\", \"gridcolor\": \"white\", \"linecolor\": \"white\", \"minorgridcolor\": \"white\", \"startlinecolor\": \"rgb(36,36,36)\"}, \"type\": \"carpet\"}], \"choropleth\": [{\"colorbar\": {\"outlinewidth\": 1, \"tickcolor\": \"rgb(36,36,36)\", \"ticks\": \"outside\"}, \"type\": \"choropleth\"}], \"contour\": [{\"colorbar\": {\"outlinewidth\": 1, \"tickcolor\": \"rgb(36,36,36)\", \"ticks\": \"outside\"}, \"colorscale\": [[0.0, \"#440154\"], [0.1111111111111111, \"#482878\"], [0.2222222222222222, \"#3e4989\"], [0.3333333333333333, \"#31688e\"], [0.4444444444444444, \"#26828e\"], [0.5555555555555556, \"#1f9e89\"], [0.6666666666666666, \"#35b779\"], [0.7777777777777778, \"#6ece58\"], [0.8888888888888888, \"#b5de2b\"], [1.0, \"#fde725\"]], \"type\": \"contour\"}], \"contourcarpet\": [{\"colorbar\": {\"outlinewidth\": 1, \"tickcolor\": \"rgb(36,36,36)\", \"ticks\": \"outside\"}, \"type\": \"contourcarpet\"}], \"heatmap\": [{\"colorbar\": {\"outlinewidth\": 1, \"tickcolor\": \"rgb(36,36,36)\", \"ticks\": \"outside\"}, \"colorscale\": [[0.0, \"#440154\"], [0.1111111111111111, \"#482878\"], [0.2222222222222222, \"#3e4989\"], [0.3333333333333333, \"#31688e\"], [0.4444444444444444, \"#26828e\"], [0.5555555555555556, \"#1f9e89\"], [0.6666666666666666, \"#35b779\"], [0.7777777777777778, \"#6ece58\"], [0.8888888888888888, \"#b5de2b\"], [1.0, \"#fde725\"]], \"type\": \"heatmap\"}], \"heatmapgl\": [{\"colorbar\": {\"outlinewidth\": 1, \"tickcolor\": \"rgb(36,36,36)\", \"ticks\": \"outside\"}, \"colorscale\": [[0.0, \"#440154\"], [0.1111111111111111, \"#482878\"], [0.2222222222222222, \"#3e4989\"], [0.3333333333333333, \"#31688e\"], [0.4444444444444444, \"#26828e\"], [0.5555555555555556, \"#1f9e89\"], [0.6666666666666666, \"#35b779\"], [0.7777777777777778, \"#6ece58\"], [0.8888888888888888, \"#b5de2b\"], [1.0, \"#fde725\"]], \"type\": \"heatmapgl\"}], \"histogram\": [{\"marker\": {\"line\": {\"color\": \"white\", \"width\": 0.6}}, \"type\": \"histogram\"}], \"histogram2d\": [{\"colorbar\": {\"outlinewidth\": 1, \"tickcolor\": \"rgb(36,36,36)\", \"ticks\": \"outside\"}, \"colorscale\": [[0.0, \"#440154\"], [0.1111111111111111, \"#482878\"], [0.2222222222222222, \"#3e4989\"], [0.3333333333333333, \"#31688e\"], [0.4444444444444444, \"#26828e\"], [0.5555555555555556, \"#1f9e89\"], [0.6666666666666666, \"#35b779\"], [0.7777777777777778, \"#6ece58\"], [0.8888888888888888, \"#b5de2b\"], [1.0, \"#fde725\"]], \"type\": \"histogram2d\"}], \"histogram2dcontour\": [{\"colorbar\": {\"outlinewidth\": 1, \"tickcolor\": \"rgb(36,36,36)\", \"ticks\": \"outside\"}, \"colorscale\": [[0.0, \"#440154\"], [0.1111111111111111, \"#482878\"], [0.2222222222222222, \"#3e4989\"], [0.3333333333333333, \"#31688e\"], [0.4444444444444444, \"#26828e\"], [0.5555555555555556, \"#1f9e89\"], [0.6666666666666666, \"#35b779\"], [0.7777777777777778, \"#6ece58\"], [0.8888888888888888, \"#b5de2b\"], [1.0, \"#fde725\"]], \"type\": \"histogram2dcontour\"}], \"mesh3d\": [{\"colorbar\": {\"outlinewidth\": 1, \"tickcolor\": \"rgb(36,36,36)\", \"ticks\": \"outside\"}, \"type\": \"mesh3d\"}], \"parcoords\": [{\"line\": {\"colorbar\": {\"outlinewidth\": 1, \"tickcolor\": \"rgb(36,36,36)\", \"ticks\": \"outside\"}}, \"type\": \"parcoords\"}], \"pie\": [{\"automargin\": true, \"type\": \"pie\"}], \"scatter\": [{\"marker\": {\"colorbar\": {\"outlinewidth\": 1, \"tickcolor\": \"rgb(36,36,36)\", \"ticks\": \"outside\"}}, \"type\": \"scatter\"}], \"scatter3d\": [{\"line\": {\"colorbar\": {\"outlinewidth\": 1, \"tickcolor\": \"rgb(36,36,36)\", \"ticks\": \"outside\"}}, \"marker\": {\"colorbar\": {\"outlinewidth\": 1, \"tickcolor\": \"rgb(36,36,36)\", \"ticks\": \"outside\"}}, \"type\": \"scatter3d\"}], \"scattercarpet\": [{\"marker\": {\"colorbar\": {\"outlinewidth\": 1, \"tickcolor\": \"rgb(36,36,36)\", \"ticks\": \"outside\"}}, \"type\": \"scattercarpet\"}], \"scattergeo\": [{\"marker\": {\"colorbar\": {\"outlinewidth\": 1, \"tickcolor\": \"rgb(36,36,36)\", \"ticks\": \"outside\"}}, \"type\": \"scattergeo\"}], \"scattergl\": [{\"marker\": {\"colorbar\": {\"outlinewidth\": 1, \"tickcolor\": \"rgb(36,36,36)\", \"ticks\": \"outside\"}}, \"type\": \"scattergl\"}], \"scattermapbox\": [{\"marker\": {\"colorbar\": {\"outlinewidth\": 1, \"tickcolor\": \"rgb(36,36,36)\", \"ticks\": \"outside\"}}, \"type\": \"scattermapbox\"}], \"scatterpolar\": [{\"marker\": {\"colorbar\": {\"outlinewidth\": 1, \"tickcolor\": \"rgb(36,36,36)\", \"ticks\": \"outside\"}}, \"type\": \"scatterpolar\"}], \"scatterpolargl\": [{\"marker\": {\"colorbar\": {\"outlinewidth\": 1, \"tickcolor\": \"rgb(36,36,36)\", \"ticks\": \"outside\"}}, \"type\": \"scatterpolargl\"}], \"scatterternary\": [{\"marker\": {\"colorbar\": {\"outlinewidth\": 1, \"tickcolor\": \"rgb(36,36,36)\", \"ticks\": \"outside\"}}, \"type\": \"scatterternary\"}], \"surface\": [{\"colorbar\": {\"outlinewidth\": 1, \"tickcolor\": \"rgb(36,36,36)\", \"ticks\": \"outside\"}, \"colorscale\": [[0.0, \"#440154\"], [0.1111111111111111, \"#482878\"], [0.2222222222222222, \"#3e4989\"], [0.3333333333333333, \"#31688e\"], [0.4444444444444444, \"#26828e\"], [0.5555555555555556, \"#1f9e89\"], [0.6666666666666666, \"#35b779\"], [0.7777777777777778, \"#6ece58\"], [0.8888888888888888, \"#b5de2b\"], [1.0, \"#fde725\"]], \"type\": \"surface\"}], \"table\": [{\"cells\": {\"fill\": {\"color\": \"rgb(237,237,237)\"}, \"line\": {\"color\": \"white\"}}, \"header\": {\"fill\": {\"color\": \"rgb(217,217,217)\"}, \"line\": {\"color\": \"white\"}}, \"type\": \"table\"}]}, \"layout\": {\"annotationdefaults\": {\"arrowhead\": 0, \"arrowwidth\": 1}, \"coloraxis\": {\"colorbar\": {\"outlinewidth\": 1, \"tickcolor\": \"rgb(36,36,36)\", \"ticks\": \"outside\"}}, \"colorscale\": {\"diverging\": [[0.0, \"rgb(103,0,31)\"], [0.1, \"rgb(178,24,43)\"], [0.2, \"rgb(214,96,77)\"], [0.3, \"rgb(244,165,130)\"], [0.4, \"rgb(253,219,199)\"], [0.5, \"rgb(247,247,247)\"], [0.6, \"rgb(209,229,240)\"], [0.7, \"rgb(146,197,222)\"], [0.8, \"rgb(67,147,195)\"], [0.9, \"rgb(33,102,172)\"], [1.0, \"rgb(5,48,97)\"]], \"sequential\": [[0.0, \"#440154\"], [0.1111111111111111, \"#482878\"], [0.2222222222222222, \"#3e4989\"], [0.3333333333333333, \"#31688e\"], [0.4444444444444444, \"#26828e\"], [0.5555555555555556, \"#1f9e89\"], [0.6666666666666666, \"#35b779\"], [0.7777777777777778, \"#6ece58\"], [0.8888888888888888, \"#b5de2b\"], [1.0, \"#fde725\"]], \"sequentialminus\": [[0.0, \"#440154\"], [0.1111111111111111, \"#482878\"], [0.2222222222222222, \"#3e4989\"], [0.3333333333333333, \"#31688e\"], [0.4444444444444444, \"#26828e\"], [0.5555555555555556, \"#1f9e89\"], [0.6666666666666666, \"#35b779\"], [0.7777777777777778, \"#6ece58\"], [0.8888888888888888, \"#b5de2b\"], [1.0, \"#fde725\"]]}, \"colorway\": [\"#1F77B4\", \"#FF7F0E\", \"#2CA02C\", \"#D62728\", \"#9467BD\", \"#8C564B\", \"#E377C2\", \"#7F7F7F\", \"#BCBD22\", \"#17BECF\"], \"font\": {\"color\": \"rgb(36,36,36)\"}, \"geo\": {\"bgcolor\": \"white\", \"lakecolor\": \"white\", \"landcolor\": \"white\", \"showlakes\": true, \"showland\": true, \"subunitcolor\": \"white\"}, \"hoverlabel\": {\"align\": \"left\"}, \"hovermode\": \"closest\", \"mapbox\": {\"style\": \"light\"}, \"paper_bgcolor\": \"white\", \"plot_bgcolor\": \"white\", \"polar\": {\"angularaxis\": {\"gridcolor\": \"rgb(232,232,232)\", \"linecolor\": \"rgb(36,36,36)\", \"showgrid\": false, \"showline\": true, \"ticks\": \"outside\"}, \"bgcolor\": \"white\", \"radialaxis\": {\"gridcolor\": \"rgb(232,232,232)\", \"linecolor\": \"rgb(36,36,36)\", \"showgrid\": false, \"showline\": true, \"ticks\": \"outside\"}}, \"scene\": {\"xaxis\": {\"backgroundcolor\": \"white\", \"gridcolor\": \"rgb(232,232,232)\", \"gridwidth\": 2, \"linecolor\": \"rgb(36,36,36)\", \"showbackground\": true, \"showgrid\": false, \"showline\": true, \"ticks\": \"outside\", \"zeroline\": false, \"zerolinecolor\": \"rgb(36,36,36)\"}, \"yaxis\": {\"backgroundcolor\": \"white\", \"gridcolor\": \"rgb(232,232,232)\", \"gridwidth\": 2, \"linecolor\": \"rgb(36,36,36)\", \"showbackground\": true, \"showgrid\": false, \"showline\": true, \"ticks\": \"outside\", \"zeroline\": false, \"zerolinecolor\": \"rgb(36,36,36)\"}, \"zaxis\": {\"backgroundcolor\": \"white\", \"gridcolor\": \"rgb(232,232,232)\", \"gridwidth\": 2, \"linecolor\": \"rgb(36,36,36)\", \"showbackground\": true, \"showgrid\": false, \"showline\": true, \"ticks\": \"outside\", \"zeroline\": false, \"zerolinecolor\": \"rgb(36,36,36)\"}}, \"shapedefaults\": {\"fillcolor\": \"black\", \"line\": {\"width\": 0}, \"opacity\": 0.3}, \"ternary\": {\"aaxis\": {\"gridcolor\": \"rgb(232,232,232)\", \"linecolor\": \"rgb(36,36,36)\", \"showgrid\": false, \"showline\": true, \"ticks\": \"outside\"}, \"baxis\": {\"gridcolor\": \"rgb(232,232,232)\", \"linecolor\": \"rgb(36,36,36)\", \"showgrid\": false, \"showline\": true, \"ticks\": \"outside\"}, \"bgcolor\": \"white\", \"caxis\": {\"gridcolor\": \"rgb(232,232,232)\", \"linecolor\": \"rgb(36,36,36)\", \"showgrid\": false, \"showline\": true, \"ticks\": \"outside\"}}, \"title\": {\"x\": 0.05}, \"xaxis\": {\"automargin\": true, \"gridcolor\": \"rgb(232,232,232)\", \"linecolor\": \"rgb(36,36,36)\", \"showgrid\": false, \"showline\": true, \"ticks\": \"outside\", \"title\": {\"standoff\": 15}, \"zeroline\": false, \"zerolinecolor\": \"rgb(36,36,36)\"}, \"yaxis\": {\"automargin\": true, \"gridcolor\": \"rgb(232,232,232)\", \"linecolor\": \"rgb(36,36,36)\", \"showgrid\": false, \"showline\": true, \"ticks\": \"outside\", \"title\": {\"standoff\": 15}, \"zeroline\": false, \"zerolinecolor\": \"rgb(36,36,36)\"}}}, \"title\": {\"text\": \"Correlations between Outcome and Categorical Features\", \"x\": 0.5}, \"width\": 700, \"xaxis\": {\"anchor\": \"y\", \"domain\": [0.0, 1.0], \"title\": {\"text\": \"Feature\"}}, \"yaxis\": {\"anchor\": \"x\", \"domain\": [0.0, 1.0], \"title\": {\"text\": \"Correlation\"}}},\n",
       "                        {\"responsive\": true}\n",
       "                    ).then(function(){\n",
       "                            \n",
       "var gd = document.getElementById('381729f2-68ca-4e36-97e8-76994035540d');\n",
       "var x = new MutationObserver(function (mutations, observer) {{\n",
       "        var display = window.getComputedStyle(gd).display;\n",
       "        if (!display || display === 'none') {{\n",
       "            console.log([gd, 'removed!']);\n",
       "            Plotly.purge(gd);\n",
       "            observer.disconnect();\n",
       "        }}\n",
       "}});\n",
       "\n",
       "// Listen for the removal of the full notebook cells\n",
       "var notebookContainer = gd.closest('#notebook-container');\n",
       "if (notebookContainer) {{\n",
       "    x.observe(notebookContainer, {childList: true});\n",
       "}}\n",
       "\n",
       "// Listen for the clearing of the current output cell\n",
       "var outputEl = gd.closest('.output');\n",
       "if (outputEl) {{\n",
       "    x.observe(outputEl, {childList: true});\n",
       "}}\n",
       "\n",
       "                        })\n",
       "                };\n",
       "                });\n",
       "            </script>\n",
       "        </div>"
      ]
     },
     "metadata": {},
     "output_type": "display_data"
    }
   ],
   "source": [
    "# Visualizing correlations\n",
    "corr_cat = pd.DataFrame(\n",
    "    {'Feature' : ['Ticket Class', 'Sex', 'Port of Embarkation', 'Title', 'Family'],\n",
    "     'Correlation' : [0.3063, 0.5253, 0.1505, 0.0526, 0.1651]\n",
    "     }\n",
    ").sort_values(by = 'Correlation')\n",
    "\n",
    "corr_cat_plot = px.bar(\n",
    "    corr_cat, \n",
    "    x = 'Feature', \n",
    "    y = 'Correlation', \n",
    "    color = 'Correlation',\n",
    "    color_continuous_scale = px.colors.sequential.Teal,\n",
    "    title = 'Correlations between Outcome and Categorical Features'\n",
    ")\n",
    "\n",
    "corr_cat_plot.update_layout(\n",
    "    title_x = 0.5,\n",
    "    width = 700,\n",
    "    height = 500\n",
    ")\n",
    "\n",
    "corr_cat_plot.show(renderer = 'notebook_connected')"
   ]
  },
  {
   "cell_type": "markdown",
   "metadata": {},
   "source": [
    "Correlations between categorical features and outcome feature are higher than those for numerical features. More specifically, four out of five features have a correlation with outcome feature higher than 0.1 as measured by Cramer's V or Cramer's Phi coefficient. Therefore, we can conclude that these features will be particularly useful for final predictions! Furthermore, obtained p-values for chi-square indicate that only 'Title' will not be useful for predictions! "
   ]
  },
  {
   "cell_type": "markdown",
   "metadata": {},
   "source": [
    "## 2.2. Feature Engineering"
   ]
  },
  {
   "cell_type": "markdown",
   "metadata": {},
   "source": [
    "The goal of this section is to gather insights into interactions between different features when it comes to predicting passengers' survival. In other words, here we will ask questions such as *\"Are male passengers more likely to survive if they were first-class passengers in comparison to second- and third-class passengers\"*. These questions should indicate whethere there is a need for creating new features which will represent interaction terms. These interaction terms are often neglected, but they are a powerful tool for obtaining more accurate predictions.\n",
    "\n",
    "This goal will be accomplished by asking questions, getting pivot tables, and visualizing data!"
   ]
  },
  {
   "cell_type": "markdown",
   "metadata": {},
   "source": [
    "The correlation between *Sex* and *Surviving* is high (0.53), as well as the correlation between *Ticket Class* and *Surviving* (0.30). \n",
    "It is already known that women had advantage during the evacuation. However, it is reasonable to assume the advantage was not that emphasized for the first-class passengers (i.e. wealthy passengers, passengers of great importance, etc.). We can test whether men in first class were more likely to survive in comparison to men from second and third class and whether the same advantage was observed for women in all three classes. That should indicate the presence of interaction between *Sex* and *Ticket Class* which could be exploited for final predictions."
   ]
  },
  {
   "cell_type": "code",
   "execution_count": 109,
   "metadata": {},
   "outputs": [
    {
     "data": {
      "text/html": [
       "<div>\n",
       "<style scoped>\n",
       "    .dataframe tbody tr th:only-of-type {\n",
       "        vertical-align: middle;\n",
       "    }\n",
       "\n",
       "    .dataframe tbody tr th {\n",
       "        vertical-align: top;\n",
       "    }\n",
       "\n",
       "    .dataframe thead th {\n",
       "        text-align: right;\n",
       "    }\n",
       "</style>\n",
       "<table border=\"1\" class=\"dataframe\">\n",
       "  <thead>\n",
       "    <tr style=\"text-align: right;\">\n",
       "      <th>Sex</th>\n",
       "      <th>Female</th>\n",
       "      <th>Male</th>\n",
       "    </tr>\n",
       "    <tr>\n",
       "      <th>Pclass</th>\n",
       "      <th></th>\n",
       "      <th></th>\n",
       "    </tr>\n",
       "  </thead>\n",
       "  <tbody>\n",
       "    <tr>\n",
       "      <th>First Class</th>\n",
       "      <td>0.983333</td>\n",
       "      <td>0.368932</td>\n",
       "    </tr>\n",
       "    <tr>\n",
       "      <th>Second Class</th>\n",
       "      <td>0.921053</td>\n",
       "      <td>0.157407</td>\n",
       "    </tr>\n",
       "    <tr>\n",
       "      <th>Third Class</th>\n",
       "      <td>0.500000</td>\n",
       "      <td>0.137026</td>\n",
       "    </tr>\n",
       "  </tbody>\n",
       "</table>\n",
       "</div>"
      ],
      "text/plain": [
       "Sex             Female      Male\n",
       "Pclass                          \n",
       "First Class   0.983333  0.368932\n",
       "Second Class  0.921053  0.157407\n",
       "Third Class   0.500000  0.137026"
      ]
     },
     "execution_count": 109,
     "metadata": {},
     "output_type": "execute_result"
    }
   ],
   "source": [
    "pd.pivot_table(titanic, values = 'Survived', index = 'Pclass', columns = 'Sex', aggfunc = 'mean')"
   ]
  },
  {
   "cell_type": "code",
   "execution_count": 48,
   "metadata": {},
   "outputs": [
    {
     "data": {
      "text/html": [
       "        <script type=\"text/javascript\">\n",
       "        window.PlotlyConfig = {MathJaxConfig: 'local'};\n",
       "        if (window.MathJax) {MathJax.Hub.Config({SVG: {font: \"STIX-Web\"}});}\n",
       "        if (typeof require !== 'undefined') {\n",
       "        require.undef(\"plotly\");\n",
       "        requirejs.config({\n",
       "            paths: {\n",
       "                'plotly': ['https://cdn.plot.ly/plotly-latest.min']\n",
       "            }\n",
       "        });\n",
       "        require(['plotly'], function(Plotly) {\n",
       "            window._Plotly = Plotly;\n",
       "        });\n",
       "        }\n",
       "        </script>\n",
       "        "
      ]
     },
     "metadata": {},
     "output_type": "display_data"
    },
    {
     "data": {
      "text/html": [
       "<div>\n",
       "        \n",
       "        \n",
       "            <div id=\"ff3fe006-7656-433c-813c-00c2db438edd\" class=\"plotly-graph-div\" style=\"height:500px; width:700px;\"></div>\n",
       "            <script type=\"text/javascript\">\n",
       "                require([\"plotly\"], function(Plotly) {\n",
       "                    window.PLOTLYENV=window.PLOTLYENV || {};\n",
       "                    \n",
       "                if (document.getElementById(\"ff3fe006-7656-433c-813c-00c2db438edd\")) {\n",
       "                    Plotly.newPlot(\n",
       "                        'ff3fe006-7656-433c-813c-00c2db438edd',\n",
       "                        [{\"alignmentgroup\": \"True\", \"bingroup\": \"x\", \"histfunc\": \"avg\", \"hovertemplate\": \"Sex=Male<br>Pclass=%{x}<br>avg of Survived=%{y}<extra></extra>\", \"legendgroup\": \"Male\", \"marker\": {\"color\": \"rgb(59, 115, 143)\"}, \"name\": \"Male\", \"offsetgroup\": \"Male\", \"orientation\": \"v\", \"showlegend\": true, \"type\": \"histogram\", \"x\": [\"Third Class\", \"Third Class\", \"Third Class\", \"First Class\", \"Third Class\", \"Third Class\", \"Third Class\", \"Third Class\", \"Second Class\", \"Second Class\", \"Second Class\", \"First Class\", \"Third Class\", \"Third Class\", \"First Class\", \"Second Class\", \"First Class\", \"First Class\", \"Third Class\", \"Third Class\", \"Third Class\", \"Third Class\", \"Third Class\", \"Third Class\", \"Third Class\", \"Third Class\", \"First Class\", \"First Class\", \"Third Class\", \"Third Class\", \"Third Class\", \"First Class\", \"Third Class\", \"First Class\", \"Third Class\", \"Third Class\", \"Third Class\", \"Second Class\", \"Second Class\", \"Third Class\", \"Third Class\", \"Third Class\", \"Third Class\", \"Third Class\", \"Second Class\", \"Third Class\", \"Third Class\", \"First Class\", \"Third Class\", \"Third Class\", \"Third Class\", \"Third Class\", \"Third Class\", \"First Class\", \"Third Class\", \"Third Class\", \"Third Class\", \"First Class\", \"First Class\", \"Second Class\", \"Third Class\", \"First Class\", \"Third Class\", \"Third Class\", \"Third Class\", \"Third Class\", \"Third Class\", \"First Class\", \"Third Class\", \"Third Class\", \"Third Class\", \"Second Class\", \"Second Class\", \"Third Class\", \"Second Class\", \"First Class\", \"Third Class\", \"Third Class\", \"Third Class\", \"Third Class\", \"Third Class\", \"Third Class\", \"Second Class\", \"Second Class\", \"First Class\", \"Third Class\", \"First Class\", \"Third Class\", \"Second Class\", \"Second Class\", \"Third Class\", \"Second Class\", \"Second Class\", \"Second Class\", \"Third Class\", \"Third Class\", \"Third Class\", \"First Class\", \"Third Class\", \"Third Class\", \"Third Class\", \"Third Class\", \"Third Class\", \"Third Class\", \"Third Class\", \"First Class\", \"Third Class\", \"First Class\", \"Third Class\", \"Third Class\", \"First Class\", \"Third Class\", \"Third Class\", \"Second Class\", \"Third Class\", \"Second Class\", \"Third Class\", \"Second Class\", \"First Class\", \"First Class\", \"Third Class\", \"Third Class\", \"Second Class\", \"Second Class\", \"Third Class\", \"Third Class\", \"Third Class\", \"Third Class\", \"Third Class\", \"Third Class\", \"Third Class\", \"Third Class\", \"First Class\", \"Third Class\", \"Third Class\", \"Second Class\", \"Third Class\", \"Second Class\", \"Second Class\", \"Third Class\", \"Second Class\", \"Third Class\", \"Third Class\", \"First Class\", \"Third Class\", \"Second Class\", \"Third Class\", \"Second Class\", \"Third Class\", \"Second Class\", \"Second Class\", \"Second Class\", \"Second Class\", \"Second Class\", \"Second Class\", \"Third Class\", \"Third Class\", \"First Class\", \"First Class\", \"Second Class\", \"Third Class\", \"First Class\", \"Third Class\", \"Third Class\", \"Third Class\", \"First Class\", \"First Class\", \"Second Class\", \"Third Class\", \"Third Class\", \"First Class\", \"Third Class\", \"First Class\", \"Second Class\", \"Third Class\", \"Third Class\", \"Third Class\", \"Third Class\", \"Third Class\", \"First Class\", \"Third Class\", \"Third Class\", \"Third Class\", \"Second Class\", \"Second Class\", \"Third Class\", \"First Class\", \"Third Class\", \"First Class\", \"Third Class\", \"Third Class\", \"Third Class\", \"Second Class\", \"Third Class\", \"Second Class\", \"Second Class\", \"Third Class\", \"Third Class\", \"Third Class\", \"First Class\", \"Third Class\", \"Third Class\", \"First Class\", \"Third Class\", \"First Class\", \"Second Class\", \"Second Class\", \"Second Class\", \"Second Class\", \"Third Class\", \"Third Class\", \"Third Class\", \"First Class\", \"Third Class\", \"Third Class\", \"Third Class\", \"Third Class\", \"Third Class\", \"Second Class\", \"Third Class\", \"Third Class\", \"Third Class\", \"First Class\", \"Third Class\", \"Third Class\", \"Third Class\", \"Third Class\", \"Third Class\", \"Third Class\", \"Second Class\", \"Third Class\", \"Third Class\", \"Third Class\", \"Third Class\", \"Third Class\", \"Second Class\", \"Second Class\", \"Third Class\", \"Third Class\", \"Third Class\", \"Second Class\", \"Third Class\", \"Second Class\", \"Third Class\", \"Third Class\", \"Third Class\", \"Second Class\", \"Third Class\", \"Second Class\", \"Third Class\", \"Third Class\", \"Third Class\", \"Third Class\", \"Third Class\", \"Third Class\", \"Third Class\", \"First Class\", \"Third Class\", \"First Class\", \"Second Class\", \"Third Class\", \"Third Class\", \"Third Class\", \"First Class\", \"First Class\", \"First Class\", \"Second Class\", \"Third Class\", \"First Class\", \"First Class\", \"Third Class\", \"Third Class\", \"First Class\", \"Third Class\", \"First Class\", \"Third Class\", \"First Class\", \"Second Class\", \"Third Class\", \"Third Class\", \"Second Class\", \"First Class\", \"Third Class\", \"Third Class\", \"Third Class\", \"First Class\", \"Second Class\", \"Third Class\", \"Third Class\", \"Third Class\", \"Second Class\", \"Third Class\", \"First Class\", \"First Class\", \"Third Class\", \"Third Class\", \"Third Class\", \"Third Class\", \"First Class\", \"First Class\", \"Third Class\", \"Third Class\", \"Third Class\", \"Third Class\", \"Third Class\", \"First Class\", \"Third Class\", \"Third Class\", \"Third Class\", \"Third Class\", \"First Class\", \"Third Class\", \"First Class\", \"Third Class\", \"Third Class\", \"Third Class\", \"Third Class\", \"Third Class\", \"Third Class\", \"Third Class\", \"Second Class\", \"Third Class\", \"Third Class\", \"First Class\", \"Third Class\", \"Second Class\", \"First Class\", \"Second Class\", \"Third Class\", \"Second Class\", \"Second Class\", \"Third Class\", \"Third Class\", \"First Class\", \"Third Class\", \"Third Class\", \"Second Class\", \"Third Class\", \"Third Class\", \"Third Class\", \"Third Class\", \"Third Class\", \"Second Class\", \"First Class\", \"Third Class\", \"Third Class\", \"Third Class\", \"Second Class\", \"First Class\", \"Third Class\", \"Second Class\", \"First Class\", \"Third Class\", \"Third Class\", \"Third Class\", \"Third Class\", \"Second Class\", \"Third Class\", \"Third Class\", \"Third Class\", \"First Class\", \"Third Class\", \"First Class\", \"Third Class\", \"First Class\", \"Third Class\", \"Third Class\", \"First Class\", \"Third Class\", \"Third Class\", \"Third Class\", \"Third Class\", \"Second Class\", \"Third Class\", \"First Class\", \"Third Class\", \"Third Class\", \"Third Class\", \"First Class\", \"Second Class\", \"Third Class\", \"Third Class\", \"First Class\", \"Third Class\", \"First Class\", \"First Class\", \"Third Class\", \"Second Class\", \"Third Class\", \"Third Class\", \"Third Class\", \"First Class\", \"Third Class\", \"First Class\", \"Third Class\", \"Third Class\", \"Third Class\", \"Second Class\", \"Third Class\", \"Second Class\", \"Third Class\", \"First Class\", \"Third Class\", \"Third Class\", \"Second Class\", \"Second Class\", \"Third Class\", \"Third Class\", \"First Class\", \"Second Class\", \"Second Class\", \"Second Class\", \"Third Class\", \"Third Class\", \"First Class\", \"Third Class\", \"Third Class\", \"Second Class\", \"Second Class\", \"Third Class\", \"Third Class\", \"Third Class\", \"First Class\", \"Third Class\", \"Third Class\", \"First Class\", \"Second Class\", \"Third Class\", \"Third Class\", \"First Class\", \"Third Class\", \"Third Class\", \"Second Class\", \"First Class\", \"Third Class\", \"First Class\", \"First Class\", \"Third Class\", \"Second Class\", \"Third Class\", \"Third Class\", \"Third Class\", \"Third Class\", \"Second Class\", \"Second Class\", \"First Class\", \"Third Class\", \"Second Class\", \"Third Class\", \"Second Class\", \"Second Class\", \"Second Class\", \"Third Class\", \"Third Class\", \"Third Class\", \"First Class\", \"First Class\", \"Third Class\", \"Third Class\", \"First Class\", \"Third Class\", \"First Class\", \"Third Class\", \"Third Class\", \"Third Class\", \"Third Class\", \"Second Class\", \"Third Class\", \"Second Class\", \"Third Class\", \"Third Class\", \"Third Class\", \"Third Class\", \"Third Class\", \"First Class\", \"Third Class\", \"Third Class\", \"Third Class\", \"Third Class\", \"Third Class\", \"Third Class\", \"Third Class\", \"Third Class\", \"First Class\", \"Third Class\", \"Third Class\", \"Third Class\", \"Third Class\", \"Third Class\", \"First Class\", \"Third Class\", \"Second Class\", \"First Class\", \"Third Class\", \"Second Class\", \"Third Class\", \"Second Class\", \"Third Class\", \"Third Class\", \"Third Class\", \"First Class\", \"Second Class\", \"Third Class\", \"Third Class\", \"Second Class\", \"Third Class\", \"First Class\", \"Second Class\", \"Third Class\", \"Third Class\", \"Third Class\", \"First Class\", \"Third Class\", \"Third Class\", \"Third Class\", \"Second Class\", \"Third Class\", \"Second Class\", \"Third Class\", \"Third Class\", \"Third Class\", \"Third Class\", \"Third Class\", \"Third Class\", \"First Class\", \"Third Class\", \"Second Class\", \"Third Class\", \"Third Class\", \"Third Class\", \"Third Class\", \"Second Class\", \"Third Class\", \"Third Class\", \"First Class\", \"Third Class\", \"Third Class\", \"Second Class\", \"Second Class\", \"First Class\", \"Third Class\", \"Third Class\", \"Third Class\", \"First Class\", \"Third Class\", \"Third Class\", \"Third Class\", \"Third Class\", \"Third Class\", \"Second Class\", \"Third Class\", \"Second Class\", \"First Class\", \"Third Class\"], \"xaxis\": \"x\", \"y\": [0, 0, 0, 0, 0, 0, 0, 0, 1, 0, 1, 1, 0, 0, 0, 0, 0, 0, 1, 0, 0, 0, 0, 0, 0, 0, 0, 1, 0, 0, 0, 0, 0, 0, 1, 0, 0, 0, 0, 0, 1, 0, 0, 0, 1, 0, 1, 0, 0, 0, 0, 0, 0, 0, 0, 0, 0, 0, 1, 0, 0, 0, 0, 0, 0, 1, 0, 0, 0, 0, 0, 0, 0, 0, 0, 0, 1, 0, 1, 0, 0, 0, 0, 0, 0, 0, 0, 0, 0, 0, 1, 0, 0, 0, 0, 0, 0, 0, 0, 0, 0, 0, 0, 0, 1, 0, 0, 0, 0, 0, 0, 0, 0, 0, 0, 0, 0, 1, 0, 1, 0, 0, 0, 1, 0, 0, 0, 0, 0, 1, 0, 1, 1, 0, 0, 0, 0, 0, 0, 1, 0, 0, 0, 1, 0, 1, 0, 0, 0, 0, 0, 0, 0, 0, 0, 0, 0, 0, 1, 0, 0, 0, 0, 0, 1, 0, 0, 0, 0, 1, 0, 1, 0, 0, 0, 0, 0, 0, 1, 0, 0, 1, 0, 1, 0, 0, 0, 0, 1, 1, 0, 0, 0, 0, 0, 0, 0, 0, 0, 0, 0, 0, 0, 1, 0, 1, 0, 0, 0, 1, 0, 0, 0, 0, 0, 0, 0, 0, 0, 0, 0, 0, 1, 0, 0, 0, 0, 0, 0, 0, 0, 0, 1, 0, 0, 0, 0, 1, 0, 0, 0, 0, 1, 0, 0, 0, 0, 1, 0, 0, 0, 0, 0, 0, 0, 1, 1, 0, 0, 0, 0, 0, 1, 1, 1, 1, 0, 0, 0, 1, 0, 1, 0, 0, 1, 0, 0, 0, 0, 0, 0, 0, 0, 0, 0, 0, 0, 0, 0, 0, 0, 0, 1, 0, 0, 1, 0, 0, 0, 0, 0, 0, 0, 0, 0, 1, 0, 1, 1, 0, 1, 0, 0, 0, 0, 0, 0, 0, 0, 0, 0, 0, 0, 0, 0, 1, 0, 1, 0, 1, 0, 0, 1, 0, 0, 0, 0, 0, 0, 0, 0, 1, 1, 1, 0, 0, 1, 0, 0, 0, 0, 1, 0, 0, 0, 0, 0, 0, 0, 0, 1, 0, 0, 0, 1, 0, 0, 1, 0, 0, 0, 0, 0, 0, 1, 1, 0, 0, 0, 0, 0, 0, 1, 0, 1, 0, 0, 0, 0, 0, 1, 1, 0, 1, 0, 0, 0, 0, 0, 0, 0, 0, 0, 1, 0, 0, 0, 0, 0, 0, 1, 0, 0, 0, 1, 0, 0, 0, 0, 0, 0, 0, 1, 1, 0, 0, 0, 0, 0, 1, 0, 0, 0, 1, 1, 0, 1, 0, 0, 0, 0, 0, 0, 0, 0, 1, 0, 0, 0, 0, 0, 0, 0, 0, 0, 1, 0, 0, 1, 0, 0, 0, 0, 1, 0, 0, 1, 0, 0, 0, 0, 0, 1, 0, 0, 0, 0, 0, 0, 0, 0, 0, 0, 0, 0, 0, 0, 0, 1, 0, 0, 0, 0, 0, 0, 0, 0, 1, 1, 0, 0, 0, 0, 0, 0, 0, 0, 0, 0, 0, 1, 0, 0, 0, 0, 1, 1, 1, 0, 0, 0, 0, 0, 1, 1, 0, 0, 0, 0, 0, 0, 0, 0, 0, 1, 0, 0, 0, 0, 0, 0, 1, 0, 0, 0, 0, 0, 0, 0, 0, 0, 0, 1, 0], \"yaxis\": \"y\"}, {\"alignmentgroup\": \"True\", \"bingroup\": \"x\", \"histfunc\": \"avg\", \"hovertemplate\": \"Sex=Female<br>Pclass=%{x}<br>avg of Survived=%{y}<extra></extra>\", \"legendgroup\": \"Female\", \"marker\": {\"color\": \"rgb(239, 106, 76)\"}, \"name\": \"Female\", \"offsetgroup\": \"Female\", \"orientation\": \"v\", \"showlegend\": true, \"type\": \"histogram\", \"x\": [\"First Class\", \"Third Class\", \"First Class\", \"Third Class\", \"Second Class\", \"Third Class\", \"First Class\", \"Third Class\", \"Second Class\", \"Third Class\", \"Third Class\", \"Third Class\", \"Third Class\", \"Third Class\", \"Third Class\", \"Third Class\", \"Third Class\", \"Third Class\", \"Third Class\", \"Second Class\", \"Second Class\", \"Third Class\", \"Third Class\", \"Third Class\", \"First Class\", \"Second Class\", \"Second Class\", \"Second Class\", \"First Class\", \"Second Class\", \"Third Class\", \"Third Class\", \"Third Class\", \"Third Class\", \"Second Class\", \"Third Class\", \"Second Class\", \"Third Class\", \"Third Class\", \"Third Class\", \"Third Class\", \"Third Class\", \"Third Class\", \"Third Class\", \"Second Class\", \"Third Class\", \"Third Class\", \"Second Class\", \"First Class\", \"Third Class\", \"Third Class\", \"Third Class\", \"Third Class\", \"First Class\", \"Third Class\", \"Second Class\", \"First Class\", \"Third Class\", \"Third Class\", \"First Class\", \"Third Class\", \"Third Class\", \"Third Class\", \"Second Class\", \"Third Class\", \"First Class\", \"Third Class\", \"Second Class\", \"Third Class\", \"Third Class\", \"Second Class\", \"Third Class\", \"First Class\", \"Third Class\", \"First Class\", \"Third Class\", \"Third Class\", \"Second Class\", \"Third Class\", \"Third Class\", \"Third Class\", \"Second Class\", \"Third Class\", \"Third Class\", \"Third Class\", \"First Class\", \"First Class\", \"Second Class\", \"Third Class\", \"Second Class\", \"Third Class\", \"First Class\", \"Third Class\", \"Third Class\", \"Third Class\", \"First Class\", \"First Class\", \"Third Class\", \"Third Class\", \"Second Class\", \"First Class\", \"First Class\", \"Second Class\", \"Third Class\", \"Second Class\", \"Second Class\", \"Second Class\", \"Second Class\", \"Third Class\", \"First Class\", \"Third Class\", \"Second Class\", \"Second Class\", \"Third Class\", \"First Class\", \"Second Class\", \"Third Class\", \"Third Class\", \"Third Class\", \"First Class\", \"Third Class\", \"Third Class\", \"First Class\", \"Third Class\", \"First Class\", \"Third Class\", \"Third Class\", \"First Class\", \"Second Class\", \"Second Class\", \"Third Class\", \"Third Class\", \"Second Class\", \"Third Class\", \"Third Class\", \"Third Class\", \"First Class\", \"Third Class\", \"Second Class\", \"Second Class\", \"Third Class\", \"Third Class\", \"Second Class\", \"Second Class\", \"Third Class\", \"Second Class\", \"Third Class\", \"Second Class\", \"Second Class\", \"Second Class\", \"Second Class\", \"Third Class\", \"First Class\", \"Second Class\", \"Third Class\", \"Second Class\", \"Second Class\", \"Third Class\", \"Third Class\", \"Third Class\", \"Third Class\", \"First Class\", \"First Class\", \"Third Class\", \"Third Class\", \"Third Class\", \"First Class\", \"Second Class\", \"First Class\", \"Second Class\", \"Second Class\", \"First Class\", \"First Class\", \"Second Class\", \"Second Class\", \"Third Class\", \"Third Class\", \"Second Class\", \"First Class\", \"First Class\", \"Third Class\", \"Third Class\", \"Second Class\", \"Third Class\", \"First Class\", \"First Class\", \"Third Class\", \"Third Class\", \"Third Class\", \"First Class\", \"Third Class\", \"Second Class\", \"First Class\", \"Third Class\", \"Second Class\", \"First Class\", \"First Class\", \"Third Class\", \"Second Class\", \"Second Class\", \"Second Class\", \"Third Class\", \"Third Class\", \"Second Class\", \"Third Class\", \"Second Class\", \"First Class\", \"Third Class\", \"Second Class\", \"Third Class\", \"First Class\", \"Third Class\", \"Third Class\", \"Third Class\", \"Second Class\", \"Third Class\", \"Third Class\", \"Third Class\", \"First Class\", \"Second Class\", \"Third Class\", \"Third Class\", \"Third Class\", \"Third Class\", \"Third Class\", \"Third Class\", \"Second Class\", \"First Class\", \"Second Class\", \"Second Class\", \"Second Class\", \"Third Class\", \"Third Class\", \"Third Class\", \"Second Class\", \"Second Class\", \"Second Class\", \"First Class\", \"First Class\", \"Third Class\", \"Second Class\", \"Second Class\", \"Third Class\", \"Third Class\", \"First Class\", \"Third Class\", \"Third Class\", \"First Class\", \"Third Class\", \"Third Class\", \"Second Class\", \"Third Class\", \"First Class\", \"Third Class\", \"Third Class\", \"First Class\", \"Third Class\", \"First Class\", \"Third Class\", \"First Class\", \"First Class\", \"First Class\", \"Third Class\", \"First Class\", \"Second Class\", \"Third Class\", \"Third Class\", \"First Class\", \"Third Class\", \"Second Class\", \"Second Class\", \"First Class\", \"Second Class\", \"Third Class\", \"First Class\", \"Second Class\", \"Third Class\", \"Third Class\", \"First Class\", \"Third Class\"], \"xaxis\": \"x\", \"y\": [1, 1, 1, 1, 1, 1, 1, 0, 1, 0, 1, 1, 0, 1, 1, 1, 0, 1, 0, 0, 1, 1, 1, 0, 1, 1, 1, 1, 1, 1, 1, 0, 1, 1, 1, 1, 1, 0, 1, 1, 0, 0, 0, 0, 1, 1, 0, 1, 1, 0, 1, 1, 0, 1, 1, 1, 1, 0, 1, 0, 0, 1, 1, 1, 1, 1, 1, 0, 0, 1, 1, 1, 1, 0, 1, 1, 0, 1, 0, 1, 0, 1, 0, 0, 1, 1, 1, 1, 0, 1, 1, 1, 0, 1, 1, 1, 1, 0, 1, 1, 1, 1, 0, 1, 1, 1, 1, 1, 1, 1, 1, 1, 1, 1, 1, 0, 1, 1, 0, 1, 1, 1, 1, 0, 1, 1, 1, 1, 1, 1, 1, 0, 1, 0, 0, 0, 1, 0, 1, 1, 0, 0, 1, 1, 1, 1, 0, 1, 1, 1, 1, 1, 1, 1, 1, 1, 1, 0, 1, 1, 0, 1, 1, 0, 0, 0, 1, 1, 1, 1, 1, 1, 1, 1, 1, 1, 0, 1, 1, 1, 0, 0, 1, 1, 1, 1, 1, 0, 0, 1, 1, 1, 1, 0, 1, 1, 1, 0, 1, 1, 1, 0, 1, 1, 0, 1, 1, 0, 1, 0, 1, 0, 1, 1, 1, 1, 0, 0, 1, 1, 1, 0, 0, 1, 1, 0, 1, 1, 1, 1, 1, 1, 0, 0, 1, 1, 1, 1, 1, 0, 0, 1, 1, 1, 1, 1, 0, 1, 1, 0, 1, 0, 1, 0, 0, 1, 1, 1, 1, 1, 1, 1, 0, 1, 0, 1, 1, 1, 0, 1, 1, 1, 1, 1, 1, 1, 0, 0, 1, 0], \"yaxis\": \"y\"}],\n",
       "                        {\"barmode\": \"group\", \"height\": 500, \"legend\": {\"title\": {\"text\": \"Sex\"}, \"tracegroupgap\": 0}, \"template\": {\"data\": {\"bar\": [{\"error_x\": {\"color\": \"rgb(36,36,36)\"}, \"error_y\": {\"color\": \"rgb(36,36,36)\"}, \"marker\": {\"line\": {\"color\": \"white\", \"width\": 0.5}}, \"type\": \"bar\"}], \"barpolar\": [{\"marker\": {\"line\": {\"color\": \"white\", \"width\": 0.5}}, \"type\": \"barpolar\"}], \"carpet\": [{\"aaxis\": {\"endlinecolor\": \"rgb(36,36,36)\", \"gridcolor\": \"white\", \"linecolor\": \"white\", \"minorgridcolor\": \"white\", \"startlinecolor\": \"rgb(36,36,36)\"}, \"baxis\": {\"endlinecolor\": \"rgb(36,36,36)\", \"gridcolor\": \"white\", \"linecolor\": \"white\", \"minorgridcolor\": \"white\", \"startlinecolor\": \"rgb(36,36,36)\"}, \"type\": \"carpet\"}], \"choropleth\": [{\"colorbar\": {\"outlinewidth\": 1, \"tickcolor\": \"rgb(36,36,36)\", \"ticks\": \"outside\"}, \"type\": \"choropleth\"}], \"contour\": [{\"colorbar\": {\"outlinewidth\": 1, \"tickcolor\": \"rgb(36,36,36)\", \"ticks\": \"outside\"}, \"colorscale\": [[0.0, \"#440154\"], [0.1111111111111111, \"#482878\"], [0.2222222222222222, \"#3e4989\"], [0.3333333333333333, \"#31688e\"], [0.4444444444444444, \"#26828e\"], [0.5555555555555556, \"#1f9e89\"], [0.6666666666666666, \"#35b779\"], [0.7777777777777778, \"#6ece58\"], [0.8888888888888888, \"#b5de2b\"], [1.0, \"#fde725\"]], \"type\": \"contour\"}], \"contourcarpet\": [{\"colorbar\": {\"outlinewidth\": 1, \"tickcolor\": \"rgb(36,36,36)\", \"ticks\": \"outside\"}, \"type\": \"contourcarpet\"}], \"heatmap\": [{\"colorbar\": {\"outlinewidth\": 1, \"tickcolor\": \"rgb(36,36,36)\", \"ticks\": \"outside\"}, \"colorscale\": [[0.0, \"#440154\"], [0.1111111111111111, \"#482878\"], [0.2222222222222222, \"#3e4989\"], [0.3333333333333333, \"#31688e\"], [0.4444444444444444, \"#26828e\"], [0.5555555555555556, \"#1f9e89\"], [0.6666666666666666, \"#35b779\"], [0.7777777777777778, \"#6ece58\"], [0.8888888888888888, \"#b5de2b\"], [1.0, \"#fde725\"]], \"type\": \"heatmap\"}], \"heatmapgl\": [{\"colorbar\": {\"outlinewidth\": 1, \"tickcolor\": \"rgb(36,36,36)\", \"ticks\": \"outside\"}, \"colorscale\": [[0.0, \"#440154\"], [0.1111111111111111, \"#482878\"], [0.2222222222222222, \"#3e4989\"], [0.3333333333333333, \"#31688e\"], [0.4444444444444444, \"#26828e\"], [0.5555555555555556, \"#1f9e89\"], [0.6666666666666666, \"#35b779\"], [0.7777777777777778, \"#6ece58\"], [0.8888888888888888, \"#b5de2b\"], [1.0, \"#fde725\"]], \"type\": \"heatmapgl\"}], \"histogram\": [{\"marker\": {\"line\": {\"color\": \"white\", \"width\": 0.6}}, \"type\": \"histogram\"}], \"histogram2d\": [{\"colorbar\": {\"outlinewidth\": 1, \"tickcolor\": \"rgb(36,36,36)\", \"ticks\": \"outside\"}, \"colorscale\": [[0.0, \"#440154\"], [0.1111111111111111, \"#482878\"], [0.2222222222222222, \"#3e4989\"], [0.3333333333333333, \"#31688e\"], [0.4444444444444444, \"#26828e\"], [0.5555555555555556, \"#1f9e89\"], [0.6666666666666666, \"#35b779\"], [0.7777777777777778, \"#6ece58\"], [0.8888888888888888, \"#b5de2b\"], [1.0, \"#fde725\"]], \"type\": \"histogram2d\"}], \"histogram2dcontour\": [{\"colorbar\": {\"outlinewidth\": 1, \"tickcolor\": \"rgb(36,36,36)\", \"ticks\": \"outside\"}, \"colorscale\": [[0.0, \"#440154\"], [0.1111111111111111, \"#482878\"], [0.2222222222222222, \"#3e4989\"], [0.3333333333333333, \"#31688e\"], [0.4444444444444444, \"#26828e\"], [0.5555555555555556, \"#1f9e89\"], [0.6666666666666666, \"#35b779\"], [0.7777777777777778, \"#6ece58\"], [0.8888888888888888, \"#b5de2b\"], [1.0, \"#fde725\"]], \"type\": \"histogram2dcontour\"}], \"mesh3d\": [{\"colorbar\": {\"outlinewidth\": 1, \"tickcolor\": \"rgb(36,36,36)\", \"ticks\": \"outside\"}, \"type\": \"mesh3d\"}], \"parcoords\": [{\"line\": {\"colorbar\": {\"outlinewidth\": 1, \"tickcolor\": \"rgb(36,36,36)\", \"ticks\": \"outside\"}}, \"type\": \"parcoords\"}], \"pie\": [{\"automargin\": true, \"type\": \"pie\"}], \"scatter\": [{\"marker\": {\"colorbar\": {\"outlinewidth\": 1, \"tickcolor\": \"rgb(36,36,36)\", \"ticks\": \"outside\"}}, \"type\": \"scatter\"}], \"scatter3d\": [{\"line\": {\"colorbar\": {\"outlinewidth\": 1, \"tickcolor\": \"rgb(36,36,36)\", \"ticks\": \"outside\"}}, \"marker\": {\"colorbar\": {\"outlinewidth\": 1, \"tickcolor\": \"rgb(36,36,36)\", \"ticks\": \"outside\"}}, \"type\": \"scatter3d\"}], \"scattercarpet\": [{\"marker\": {\"colorbar\": {\"outlinewidth\": 1, \"tickcolor\": \"rgb(36,36,36)\", \"ticks\": \"outside\"}}, \"type\": \"scattercarpet\"}], \"scattergeo\": [{\"marker\": {\"colorbar\": {\"outlinewidth\": 1, \"tickcolor\": \"rgb(36,36,36)\", \"ticks\": \"outside\"}}, \"type\": \"scattergeo\"}], \"scattergl\": [{\"marker\": {\"colorbar\": {\"outlinewidth\": 1, \"tickcolor\": \"rgb(36,36,36)\", \"ticks\": \"outside\"}}, \"type\": \"scattergl\"}], \"scattermapbox\": [{\"marker\": {\"colorbar\": {\"outlinewidth\": 1, \"tickcolor\": \"rgb(36,36,36)\", \"ticks\": \"outside\"}}, \"type\": \"scattermapbox\"}], \"scatterpolar\": [{\"marker\": {\"colorbar\": {\"outlinewidth\": 1, \"tickcolor\": \"rgb(36,36,36)\", \"ticks\": \"outside\"}}, \"type\": \"scatterpolar\"}], \"scatterpolargl\": [{\"marker\": {\"colorbar\": {\"outlinewidth\": 1, \"tickcolor\": \"rgb(36,36,36)\", \"ticks\": \"outside\"}}, \"type\": \"scatterpolargl\"}], \"scatterternary\": [{\"marker\": {\"colorbar\": {\"outlinewidth\": 1, \"tickcolor\": \"rgb(36,36,36)\", \"ticks\": \"outside\"}}, \"type\": \"scatterternary\"}], \"surface\": [{\"colorbar\": {\"outlinewidth\": 1, \"tickcolor\": \"rgb(36,36,36)\", \"ticks\": \"outside\"}, \"colorscale\": [[0.0, \"#440154\"], [0.1111111111111111, \"#482878\"], [0.2222222222222222, \"#3e4989\"], [0.3333333333333333, \"#31688e\"], [0.4444444444444444, \"#26828e\"], [0.5555555555555556, \"#1f9e89\"], [0.6666666666666666, \"#35b779\"], [0.7777777777777778, \"#6ece58\"], [0.8888888888888888, \"#b5de2b\"], [1.0, \"#fde725\"]], \"type\": \"surface\"}], \"table\": [{\"cells\": {\"fill\": {\"color\": \"rgb(237,237,237)\"}, \"line\": {\"color\": \"white\"}}, \"header\": {\"fill\": {\"color\": \"rgb(217,217,217)\"}, \"line\": {\"color\": \"white\"}}, \"type\": \"table\"}]}, \"layout\": {\"annotationdefaults\": {\"arrowhead\": 0, \"arrowwidth\": 1}, \"coloraxis\": {\"colorbar\": {\"outlinewidth\": 1, \"tickcolor\": \"rgb(36,36,36)\", \"ticks\": \"outside\"}}, \"colorscale\": {\"diverging\": [[0.0, \"rgb(103,0,31)\"], [0.1, \"rgb(178,24,43)\"], [0.2, \"rgb(214,96,77)\"], [0.3, \"rgb(244,165,130)\"], [0.4, \"rgb(253,219,199)\"], [0.5, \"rgb(247,247,247)\"], [0.6, \"rgb(209,229,240)\"], [0.7, \"rgb(146,197,222)\"], [0.8, \"rgb(67,147,195)\"], [0.9, \"rgb(33,102,172)\"], [1.0, \"rgb(5,48,97)\"]], \"sequential\": [[0.0, \"#440154\"], [0.1111111111111111, \"#482878\"], [0.2222222222222222, \"#3e4989\"], [0.3333333333333333, \"#31688e\"], [0.4444444444444444, \"#26828e\"], [0.5555555555555556, \"#1f9e89\"], [0.6666666666666666, \"#35b779\"], [0.7777777777777778, \"#6ece58\"], [0.8888888888888888, \"#b5de2b\"], [1.0, \"#fde725\"]], \"sequentialminus\": [[0.0, \"#440154\"], [0.1111111111111111, \"#482878\"], [0.2222222222222222, \"#3e4989\"], [0.3333333333333333, \"#31688e\"], [0.4444444444444444, \"#26828e\"], [0.5555555555555556, \"#1f9e89\"], [0.6666666666666666, \"#35b779\"], [0.7777777777777778, \"#6ece58\"], [0.8888888888888888, \"#b5de2b\"], [1.0, \"#fde725\"]]}, \"colorway\": [\"#1F77B4\", \"#FF7F0E\", \"#2CA02C\", \"#D62728\", \"#9467BD\", \"#8C564B\", \"#E377C2\", \"#7F7F7F\", \"#BCBD22\", \"#17BECF\"], \"font\": {\"color\": \"rgb(36,36,36)\"}, \"geo\": {\"bgcolor\": \"white\", \"lakecolor\": \"white\", \"landcolor\": \"white\", \"showlakes\": true, \"showland\": true, \"subunitcolor\": \"white\"}, \"hoverlabel\": {\"align\": \"left\"}, \"hovermode\": \"closest\", \"mapbox\": {\"style\": \"light\"}, \"paper_bgcolor\": \"white\", \"plot_bgcolor\": \"white\", \"polar\": {\"angularaxis\": {\"gridcolor\": \"rgb(232,232,232)\", \"linecolor\": \"rgb(36,36,36)\", \"showgrid\": false, \"showline\": true, \"ticks\": \"outside\"}, \"bgcolor\": \"white\", \"radialaxis\": {\"gridcolor\": \"rgb(232,232,232)\", \"linecolor\": \"rgb(36,36,36)\", \"showgrid\": false, \"showline\": true, \"ticks\": \"outside\"}}, \"scene\": {\"xaxis\": {\"backgroundcolor\": \"white\", \"gridcolor\": \"rgb(232,232,232)\", \"gridwidth\": 2, \"linecolor\": \"rgb(36,36,36)\", \"showbackground\": true, \"showgrid\": false, \"showline\": true, \"ticks\": \"outside\", \"zeroline\": false, \"zerolinecolor\": \"rgb(36,36,36)\"}, \"yaxis\": {\"backgroundcolor\": \"white\", \"gridcolor\": \"rgb(232,232,232)\", \"gridwidth\": 2, \"linecolor\": \"rgb(36,36,36)\", \"showbackground\": true, \"showgrid\": false, \"showline\": true, \"ticks\": \"outside\", \"zeroline\": false, \"zerolinecolor\": \"rgb(36,36,36)\"}, \"zaxis\": {\"backgroundcolor\": \"white\", \"gridcolor\": \"rgb(232,232,232)\", \"gridwidth\": 2, \"linecolor\": \"rgb(36,36,36)\", \"showbackground\": true, \"showgrid\": false, \"showline\": true, \"ticks\": \"outside\", \"zeroline\": false, \"zerolinecolor\": \"rgb(36,36,36)\"}}, \"shapedefaults\": {\"fillcolor\": \"black\", \"line\": {\"width\": 0}, \"opacity\": 0.3}, \"ternary\": {\"aaxis\": {\"gridcolor\": \"rgb(232,232,232)\", \"linecolor\": \"rgb(36,36,36)\", \"showgrid\": false, \"showline\": true, \"ticks\": \"outside\"}, \"baxis\": {\"gridcolor\": \"rgb(232,232,232)\", \"linecolor\": \"rgb(36,36,36)\", \"showgrid\": false, \"showline\": true, \"ticks\": \"outside\"}, \"bgcolor\": \"white\", \"caxis\": {\"gridcolor\": \"rgb(232,232,232)\", \"linecolor\": \"rgb(36,36,36)\", \"showgrid\": false, \"showline\": true, \"ticks\": \"outside\"}}, \"title\": {\"x\": 0.05}, \"xaxis\": {\"automargin\": true, \"gridcolor\": \"rgb(232,232,232)\", \"linecolor\": \"rgb(36,36,36)\", \"showgrid\": false, \"showline\": true, \"ticks\": \"outside\", \"title\": {\"standoff\": 15}, \"zeroline\": false, \"zerolinecolor\": \"rgb(36,36,36)\"}, \"yaxis\": {\"automargin\": true, \"gridcolor\": \"rgb(232,232,232)\", \"linecolor\": \"rgb(36,36,36)\", \"showgrid\": false, \"showline\": true, \"ticks\": \"outside\", \"title\": {\"standoff\": 15}, \"zeroline\": false, \"zerolinecolor\": \"rgb(36,36,36)\"}}}, \"title\": {\"text\": \"Interaction between Ticket Class and Sex\", \"x\": 0.5}, \"width\": 700, \"xaxis\": {\"anchor\": \"y\", \"categoryarray\": [\"First Class\", \"Second Class\", \"Third Class\"], \"domain\": [0.0, 1.0], \"title\": {\"text\": \"Ticket Class\"}}, \"yaxis\": {\"anchor\": \"x\", \"domain\": [0.0, 1.0], \"title\": {\"text\": \"Proportion of Survived\"}}},\n",
       "                        {\"responsive\": true}\n",
       "                    ).then(function(){\n",
       "                            \n",
       "var gd = document.getElementById('ff3fe006-7656-433c-813c-00c2db438edd');\n",
       "var x = new MutationObserver(function (mutations, observer) {{\n",
       "        var display = window.getComputedStyle(gd).display;\n",
       "        if (!display || display === 'none') {{\n",
       "            console.log([gd, 'removed!']);\n",
       "            Plotly.purge(gd);\n",
       "            observer.disconnect();\n",
       "        }}\n",
       "}});\n",
       "\n",
       "// Listen for the removal of the full notebook cells\n",
       "var notebookContainer = gd.closest('#notebook-container');\n",
       "if (notebookContainer) {{\n",
       "    x.observe(notebookContainer, {childList: true});\n",
       "}}\n",
       "\n",
       "// Listen for the clearing of the current output cell\n",
       "var outputEl = gd.closest('.output');\n",
       "if (outputEl) {{\n",
       "    x.observe(outputEl, {childList: true});\n",
       "}}\n",
       "\n",
       "                        })\n",
       "                };\n",
       "                });\n",
       "            </script>\n",
       "        </div>"
      ]
     },
     "metadata": {},
     "output_type": "display_data"
    }
   ],
   "source": [
    "class_sex = px.histogram(\n",
    "    titanic, \n",
    "    x = 'Pclass', \n",
    "    y = 'Survived', \n",
    "    color = 'Sex', \n",
    "    histfunc = 'avg', \n",
    "    title = 'Interaction between Ticket Class and Sex',\n",
    "    color_discrete_map = {'Male' : px.colors.sequential.Teal[5], 'Female' : px.colors.sequential.Peach[5]},\n",
    "    barmode = 'group'\n",
    ")\n",
    "\n",
    "class_sex.update_layout(\n",
    "    title_x = 0.5, \n",
    "    width = 700,\n",
    "    height = 500,\n",
    "    xaxis_categoryarray = ['First Class', 'Second Class', 'Third Class'],\n",
    "    yaxis_title = 'Proportion of Survived',\n",
    "    xaxis_title = 'Ticket Class'\n",
    ")\n",
    "\n",
    "class_sex.show(renderer = 'notebook_connected')"
   ]
  },
  {
   "cell_type": "markdown",
   "metadata": {},
   "source": [
    "Observing previous plot and pivot table suggest that there might be an interaction between *Ticket Class* and *Sex*. More specifically, the survival rate of men from first class is higher than of those from second and third class, while survival rate of women does not reflect the same pattern - women from the first and second class had similar survival rate, while women from the third class had lower survival rate. Therefore, this interaction can be used for final predictions."
   ]
  },
  {
   "cell_type": "markdown",
   "metadata": {},
   "source": [
    "The next itneraction term that should be investigated is the potential interaction between *Sex* and *Age*. It is reasonable to assume that younger male passengers had higher probability of surviving than older male passengers, while that discrepancy should not be that emphasized within female passengers since they were favored to man regardless of their age."
   ]
  },
  {
   "cell_type": "code",
   "execution_count": 49,
   "metadata": {},
   "outputs": [
    {
     "data": {
      "text/html": [
       "        <script type=\"text/javascript\">\n",
       "        window.PlotlyConfig = {MathJaxConfig: 'local'};\n",
       "        if (window.MathJax) {MathJax.Hub.Config({SVG: {font: \"STIX-Web\"}});}\n",
       "        if (typeof require !== 'undefined') {\n",
       "        require.undef(\"plotly\");\n",
       "        requirejs.config({\n",
       "            paths: {\n",
       "                'plotly': ['https://cdn.plot.ly/plotly-latest.min']\n",
       "            }\n",
       "        });\n",
       "        require(['plotly'], function(Plotly) {\n",
       "            window._Plotly = Plotly;\n",
       "        });\n",
       "        }\n",
       "        </script>\n",
       "        "
      ]
     },
     "metadata": {},
     "output_type": "display_data"
    },
    {
     "data": {
      "text/html": [
       "<div>\n",
       "        \n",
       "        \n",
       "            <div id=\"f1cf344b-d26b-44da-89c2-b073811bc25b\" class=\"plotly-graph-div\" style=\"height:500px; width:850px;\"></div>\n",
       "            <script type=\"text/javascript\">\n",
       "                require([\"plotly\"], function(Plotly) {\n",
       "                    window.PLOTLYENV=window.PLOTLYENV || {};\n",
       "                    \n",
       "                if (document.getElementById(\"f1cf344b-d26b-44da-89c2-b073811bc25b\")) {\n",
       "                    Plotly.newPlot(\n",
       "                        'f1cf344b-d26b-44da-89c2-b073811bc25b',\n",
       "                        [{\"alignmentgroup\": \"True\", \"box\": {\"visible\": true}, \"hovertemplate\": \"Survived=0<br>Sex=%{x}<br>Age=%{y}<extra></extra>\", \"legendgroup\": \"0\", \"marker\": {\"color\": \"rgb(239, 106, 76)\"}, \"name\": \"0\", \"offsetgroup\": \"0\", \"orientation\": \"v\", \"points\": \"all\", \"scalegroup\": \"True\", \"showlegend\": true, \"type\": \"violin\", \"x\": [\"Male\", \"Male\", \"Male\", \"Male\", \"Male\", \"Male\", \"Male\", \"Female\", \"Male\", \"Female\", \"Male\", \"Female\", \"Male\", \"Male\", \"Male\", \"Male\", \"Male\", \"Male\", \"Male\", \"Female\", \"Female\", \"Female\", \"Male\", \"Male\", \"Male\", \"Male\", \"Female\", \"Male\", \"Male\", \"Male\", \"Male\", \"Male\", \"Male\", \"Male\", \"Male\", \"Male\", \"Male\", \"Male\", \"Male\", \"Female\", \"Male\", \"Male\", \"Male\", \"Male\", \"Male\", \"Male\", \"Male\", \"Male\", \"Male\", \"Male\", \"Male\", \"Male\", \"Male\", \"Male\", \"Male\", \"Male\", \"Male\", \"Male\", \"Female\", \"Male\", \"Male\", \"Male\", \"Male\", \"Male\", \"Male\", \"Male\", \"Female\", \"Male\", \"Female\", \"Female\", \"Male\", \"Male\", \"Male\", \"Female\", \"Male\", \"Male\", \"Male\", \"Male\", \"Male\", \"Male\", \"Male\", \"Male\", \"Female\", \"Male\", \"Male\", \"Male\", \"Male\", \"Male\", \"Female\", \"Male\", \"Male\", \"Male\", \"Female\", \"Male\", \"Male\", \"Male\", \"Male\", \"Male\", \"Male\", \"Male\", \"Male\", \"Male\", \"Male\", \"Male\", \"Male\", \"Male\", \"Female\", \"Male\", \"Male\", \"Male\", \"Male\", \"Male\", \"Male\", \"Male\", \"Male\", \"Female\", \"Male\", \"Male\", \"Female\", \"Male\", \"Male\", \"Male\", \"Male\", \"Male\", \"Male\", \"Male\", \"Male\", \"Female\", \"Male\", \"Male\", \"Male\", \"Female\", \"Male\", \"Male\", \"Male\", \"Male\", \"Male\", \"Male\", \"Male\", \"Male\", \"Male\", \"Male\", \"Male\", \"Male\", \"Male\", \"Female\", \"Male\", \"Male\", \"Male\", \"Female\", \"Male\", \"Male\", \"Male\", \"Female\", \"Male\", \"Male\", \"Male\", \"Male\", \"Female\", \"Male\", \"Male\", \"Female\", \"Male\", \"Male\", \"Female\", \"Male\", \"Male\", \"Male\", \"Female\", \"Male\", \"Male\", \"Male\", \"Male\", \"Female\", \"Male\", \"Male\", \"Male\", \"Male\", \"Male\", \"Male\", \"Male\", \"Male\", \"Male\", \"Female\", \"Male\", \"Male\", \"Male\", \"Male\", \"Male\", \"Male\", \"Female\", \"Male\", \"Male\", \"Male\", \"Male\", \"Male\", \"Male\", \"Male\", \"Male\", \"Male\", \"Male\", \"Male\", \"Male\", \"Male\", \"Male\", \"Male\", \"Male\", \"Male\", \"Male\", \"Male\", \"Male\", \"Male\", \"Female\", \"Male\", \"Male\", \"Female\", \"Male\", \"Male\", \"Male\", \"Male\", \"Male\", \"Female\", \"Male\", \"Male\", \"Male\", \"Male\", \"Male\", \"Male\", \"Male\", \"Male\", \"Male\", \"Female\", \"Male\", \"Male\", \"Male\", \"Female\", \"Male\", \"Female\", \"Male\", \"Male\", \"Male\", \"Female\", \"Male\", \"Male\", \"Male\", \"Female\", \"Male\", \"Female\", \"Male\", \"Male\", \"Male\", \"Female\", \"Male\", \"Male\", \"Male\", \"Male\", \"Male\", \"Female\", \"Male\", \"Male\", \"Male\", \"Male\", \"Male\", \"Male\", \"Male\", \"Male\", \"Male\", \"Male\", \"Male\", \"Male\", \"Male\", \"Male\", \"Male\", \"Male\", \"Male\", \"Male\", \"Male\", \"Female\", \"Male\", \"Male\", \"Male\", \"Male\", \"Male\", \"Male\", \"Male\", \"Female\", \"Male\", \"Male\", \"Male\", \"Male\", \"Male\", \"Male\", \"Male\", \"Male\", \"Male\", \"Male\", \"Male\", \"Female\", \"Female\", \"Female\", \"Male\", \"Male\", \"Male\", \"Male\", \"Male\", \"Male\", \"Male\", \"Male\", \"Male\", \"Male\", \"Male\", \"Male\", \"Male\", \"Male\", \"Female\", \"Male\", \"Male\", \"Female\", \"Female\", \"Male\", \"Male\", \"Male\", \"Male\", \"Male\", \"Male\", \"Male\", \"Male\", \"Male\", \"Female\", \"Male\", \"Male\", \"Female\", \"Male\", \"Male\", \"Male\", \"Female\", \"Male\", \"Male\", \"Male\", \"Male\", \"Male\", \"Male\", \"Male\", \"Male\", \"Female\", \"Male\", \"Male\", \"Male\", \"Male\", \"Male\", \"Male\", \"Male\", \"Male\", \"Male\", \"Female\", \"Male\", \"Male\", \"Male\", \"Male\", \"Female\", \"Male\", \"Male\", \"Male\", \"Male\", \"Male\", \"Male\", \"Male\", \"Male\", \"Male\", \"Male\", \"Female\", \"Male\", \"Male\", \"Female\", \"Male\", \"Male\", \"Female\", \"Male\", \"Male\", \"Male\", \"Male\", \"Female\", \"Male\", \"Male\", \"Female\", \"Male\", \"Male\", \"Male\", \"Male\", \"Male\", \"Male\", \"Male\", \"Male\", \"Male\", \"Male\", \"Male\", \"Male\", \"Male\", \"Female\", \"Female\", \"Male\", \"Male\", \"Male\", \"Male\", \"Male\", \"Male\", \"Male\", \"Male\", \"Male\", \"Male\", \"Male\", \"Male\", \"Female\", \"Male\", \"Male\", \"Male\", \"Male\", \"Male\", \"Male\", \"Male\", \"Male\", \"Male\", \"Male\", \"Male\", \"Male\", \"Male\", \"Male\", \"Female\", \"Male\", \"Male\", \"Male\", \"Male\", \"Male\", \"Female\", \"Male\", \"Male\", \"Male\", \"Male\", \"Male\", \"Male\", \"Male\", \"Male\", \"Male\", \"Male\", \"Male\", \"Male\", \"Male\", \"Male\", \"Male\", \"Male\", \"Male\", \"Female\", \"Male\", \"Male\", \"Male\", \"Male\", \"Female\", \"Male\", \"Male\", \"Male\", \"Male\", \"Male\", \"Male\", \"Male\", \"Male\", \"Male\", \"Male\", \"Male\", \"Male\", \"Female\", \"Male\", \"Male\", \"Male\", \"Male\", \"Female\", \"Male\", \"Male\", \"Male\", \"Female\", \"Male\", \"Male\", \"Male\", \"Male\", \"Female\", \"Male\", \"Male\", \"Female\", \"Male\", \"Male\", \"Male\", \"Male\", \"Male\", \"Male\", \"Male\", \"Male\", \"Male\", \"Male\", \"Male\", \"Male\", \"Male\", \"Male\", \"Male\", \"Male\", \"Male\", \"Male\", \"Male\", \"Male\", \"Male\", \"Female\", \"Female\", \"Male\", \"Male\", \"Male\", \"Female\", \"Male\", \"Male\", \"Male\", \"Male\", \"Male\", \"Male\", \"Male\", \"Male\", \"Male\", \"Male\", \"Female\", \"Male\", \"Male\", \"Female\", \"Male\", \"Female\", \"Male\"], \"x0\": \" \", \"xaxis\": \"x\", \"y\": [22.0, 35.0, 28.73594301714884, 54.0, 2.0, 20.0, 39.0, 14.0, 2.0, 31.0, 35.0, 8.0, 16.525482535087434, 28.807347811858456, 40.0, 66.0, 28.0, 42.0, 21.0, 18.0, 40.0, 27.0, 16.79182598735184, 28.868573453389722, 25.22019614376142, 9.641216206469489, 18.0, 7.0, 21.0, 65.0, 28.5, 11.0, 22.0, 45.0, 4.0, 20.20292719020024, 19.0, 26.0, 32.0, 16.0, 21.0, 26.0, 25.0, 28.807347811858456, 28.868573453389722, 22.0, 28.0, 16.0, 28.868573453389722, 24.0, 29.0, 20.0, 46.0, 26.0, 59.0, 28.868573453389722, 71.0, 34.0, 28.0, 28.807347811858456, 21.0, 33.0, 37.0, 28.0, 38.0, 47.0, 14.5, 22.0, 20.0, 17.0, 21.0, 70.5, 29.0, 2.0, 21.0, 28.868573453389722, 32.5, 54.0, 28.454710060620997, 45.0, 33.0, 20.0, 47.0, 25.0, 23.0, 37.0, 16.0, 24.0, 22.313321663383476, 19.0, 18.0, 19.0, 9.0, 36.5, 42.0, 51.0, 55.5, 40.5, 28.575746536208747, 51.0, 30.0, 29.11176868969256, 44.0, 26.0, 17.0, 1.0, 45.0, 31.505420434539275, 28.0, 61.0, 4.0, 21.0, 56.0, 18.0, 13.552332252524412, 50.0, 30.0, 36.0, 5.397088235398121, 20.097782089825902, 9.0, 41.064482171667336, 40.0, 36.0, 19.0, 28.454710060620997, 42.0, 24.0, 28.0, 34.0, 45.5, 2.0, 32.0, 24.0, 22.0, 30.0, 22.14303192931729, 42.0, 30.0, 27.0, 51.0, 28.807347811858456, 22.0, 20.5, 18.0, 22.74862024843266, 29.0, 59.0, 24.0, 37.86633472578544, 44.0, 19.0, 33.0, 22.280471178925463, 29.0, 22.0, 30.0, 44.0, 25.0, 54.0, 28.55093069576968, 29.0, 62.0, 30.0, 41.0, 28.454710060620997, 52.0, 40.0, 37.65099805652925, 36.0, 16.0, 33.5204666781914, 37.0, 45.0, 26.13764953660553, 7.0, 65.0, 28.0, 16.0, 31.535199443066155, 33.0, 22.0, 36.0, 24.0, 24.0, 20.20292719020024, 23.5, 19.0, 28.868573453389722, 30.0, 26.0, 28.0, 43.0, 54.0, 22.0, 27.0, 61.0, 45.5, 16.0, 28.807347811858456, 29.0, 45.0, 28.0, 25.0, 36.0, 42.0, 23.0, 35.108680466291595, 15.0, 25.0, 16.525482535087434, 28.0, 38.0, 40.0, 29.0, 45.0, 35.0, 25.22019614376142, 30.0, 18.0, 19.0, 3.0, 20.0, 19.0, 32.0, 28.807347811858456, 18.0, 1.0, 28.446451348922878, 28.0, 22.0, 31.0, 46.0, 23.0, 26.0, 21.0, 28.0, 20.0, 34.0, 51.0, 21.0, 22.74862024843266, 28.807347811858456, 28.100657501908763, 26.13764953660553, 38.06486144929797, 30.0, 10.0, 16.79182598735184, 21.0, 29.0, 28.0, 18.0, 28.55093069576968, 28.454710060620997, 17.0, 50.0, 21.0, 31.0, 20.0, 25.0, 36.0, 27.288462134249418, 30.0, 28.868573453389722, 65.0, 28.454710060620997, 34.0, 47.0, 48.0, 28.868573453389722, 38.0, 26.13764953660553, 56.0, 28.444783724445372, 28.55093069576968, 38.0, 22.0, 41.85858906571744, 34.0, 29.0, 22.0, 9.0, 26.13764953660553, 50.0, 22.74862024843266, 58.0, 30.0, 27.288462134249418, 21.0, 55.0, 71.0, 21.0, 19.397489233453726, 31.667800254916322, 24.0, 17.0, 21.0, 37.603034000128616, 37.0, 28.0, 28.868573453389722, 24.0, 47.0, 34.96638659183181, 32.0, 22.0, 16.525482535087434, 16.52715015956494, 40.5, 39.0, 23.0, 16.52715015956494, 17.0, 30.0, 45.0, 31.42956818670129, 9.0, 11.0, 64.0, 33.0, 27.0, 28.486156693625382, 62.0, 28.454710060620997, 40.0, 28.0, 28.868573453389722, 38.06486144929797, 24.0, 19.0, 29.0, 16.52715015956494, 16.0, 19.0, 22.282099098058264, 54.0, 36.0, 17.116099537537195, 47.0, 22.0, 28.868573453389722, 35.0, 47.0, 31.05786290101852, 37.0, 36.0, 49.0, 16.525482535087434, 28.807347811858456, 38.046875974276965, 44.0, 36.0, 30.0, 39.0, 28.47152000636467, 28.454710060620997, 35.0, 34.0, 26.0, 26.0, 27.0, 21.0, 21.0, 61.0, 57.0, 26.0, 28.44807926805568, 51.0, 21.211809820414867, 9.0, 32.0, 31.0, 41.0, 25.75317557063766, 20.0, 2.0, 19.0, 28.670046729877193, 28.807347811858456, 21.0, 18.0, 24.0, 28.807347811858456, 32.0, 23.0, 40.0, 47.0, 36.0, 32.0, 25.0, 28.759383755457833, 43.0, 31.0, 70.0, 26.13764953660553, 18.0, 24.5, 43.0, 37.80485626725145, 20.0, 14.0, 60.0, 25.0, 14.0, 19.0, 18.0, 25.0, 60.0, 52.0, 44.0, 42.0, 18.0, 25.0, 26.0, 39.0, 31.753578838929933, 29.0, 52.0, 19.0, 31.531874275065128, 33.0, 17.0, 34.0, 50.0, 20.0, 25.0, 25.0, 11.0, 26.13764953660553, 23.0, 23.0, 28.5, 48.0, 28.807347811858456, 28.807347811858456, 36.0, 24.0, 70.0, 16.0, 19.0, 31.0, 33.0, 23.0, 28.0, 18.0, 34.0, 31.42956818670129, 41.0, 16.0, 24.919604498100206, 30.5, 28.6547084605281, 32.0, 24.0, 48.0, 57.0, 16.525482535087434, 18.0, 28.454710060620997, 28.449746892533184, 29.0, 22.07838325076105, 25.0, 25.0, 8.0, 46.0, 28.454710060620997, 16.0, 5.397088235398121, 21.384161195099757, 25.0, 39.0, 30.0, 30.0, 34.0, 31.0, 39.0, 18.0, 39.0, 26.0, 39.0, 35.0, 6.0, 30.5, 21.211809820414867, 23.0, 31.0, 43.0, 10.0, 38.0, 2.0, 28.137067303000954, 48.10414533727586, 16.52715015956494, 23.0, 18.0, 21.0, 28.868573453389722, 20.0, 16.0, 34.5, 17.0, 42.0, 35.0, 28.0, 4.0, 74.0, 9.0, 44.0, 16.52715015956494, 41.0, 21.0, 5.397088235398121, 24.0, 31.0, 29.44430095157604, 26.0, 33.0, 47.0, 20.0, 19.0, 28.807347811858456, 33.0, 22.0, 28.0, 25.0, 39.0, 27.0, 31.2746712466693, 32.0], \"y0\": \" \", \"yaxis\": \"y\"}, {\"alignmentgroup\": \"True\", \"box\": {\"visible\": true}, \"hovertemplate\": \"Survived=1<br>Sex=%{x}<br>Age=%{y}<extra></extra>\", \"legendgroup\": \"1\", \"marker\": {\"color\": \"rgb(59, 115, 143)\"}, \"name\": \"1\", \"offsetgroup\": \"1\", \"orientation\": \"v\", \"points\": \"all\", \"scalegroup\": \"True\", \"showlegend\": true, \"type\": \"violin\", \"x\": [\"Female\", \"Female\", \"Female\", \"Female\", \"Female\", \"Female\", \"Female\", \"Female\", \"Male\", \"Female\", \"Male\", \"Female\", \"Male\", \"Female\", \"Female\", \"Female\", \"Male\", \"Female\", \"Female\", \"Female\", \"Female\", \"Female\", \"Female\", \"Male\", \"Female\", \"Female\", \"Female\", \"Male\", \"Female\", \"Female\", \"Male\", \"Male\", \"Female\", \"Male\", \"Female\", \"Female\", \"Female\", \"Male\", \"Female\", \"Female\", \"Male\", \"Female\", \"Female\", \"Male\", \"Male\", \"Female\", \"Female\", \"Female\", \"Female\", \"Female\", \"Male\", \"Female\", \"Female\", \"Female\", \"Male\", \"Female\", \"Female\", \"Male\", \"Female\", \"Female\", \"Male\", \"Female\", \"Female\", \"Male\", \"Female\", \"Female\", \"Male\", \"Male\", \"Female\", \"Male\", \"Female\", \"Female\", \"Female\", \"Male\", \"Male\", \"Male\", \"Female\", \"Female\", \"Female\", \"Female\", \"Female\", \"Male\", \"Female\", \"Female\", \"Female\", \"Female\", \"Male\", \"Male\", \"Male\", \"Female\", \"Female\", \"Female\", \"Female\", \"Male\", \"Male\", \"Male\", \"Female\", \"Female\", \"Female\", \"Male\", \"Female\", \"Male\", \"Female\", \"Female\", \"Female\", \"Female\", \"Female\", \"Female\", \"Female\", \"Female\", \"Female\", \"Female\", \"Female\", \"Male\", \"Male\", \"Female\", \"Female\", \"Female\", \"Male\", \"Female\", \"Female\", \"Female\", \"Female\", \"Female\", \"Female\", \"Female\", \"Male\", \"Female\", \"Female\", \"Female\", \"Female\", \"Female\", \"Female\", \"Male\", \"Female\", \"Female\", \"Male\", \"Male\", \"Female\", \"Male\", \"Female\", \"Female\", \"Female\", \"Female\", \"Male\", \"Male\", \"Female\", \"Female\", \"Female\", \"Female\", \"Female\", \"Male\", \"Male\", \"Female\", \"Male\", \"Female\", \"Male\", \"Male\", \"Male\", \"Female\", \"Female\", \"Male\", \"Female\", \"Female\", \"Female\", \"Female\", \"Female\", \"Male\", \"Female\", \"Male\", \"Female\", \"Female\", \"Female\", \"Male\", \"Male\", \"Male\", \"Male\", \"Female\", \"Female\", \"Female\", \"Female\", \"Female\", \"Female\", \"Female\", \"Female\", \"Female\", \"Female\", \"Female\", \"Male\", \"Female\", \"Male\", \"Male\", \"Male\", \"Female\", \"Female\", \"Female\", \"Female\", \"Male\", \"Male\", \"Female\", \"Male\", \"Female\", \"Female\", \"Female\", \"Male\", \"Female\", \"Female\", \"Male\", \"Female\", \"Female\", \"Male\", \"Female\", \"Male\", \"Male\", \"Female\", \"Female\", \"Female\", \"Female\", \"Male\", \"Male\", \"Female\", \"Male\", \"Male\", \"Female\", \"Female\", \"Male\", \"Female\", \"Male\", \"Male\", \"Female\", \"Female\", \"Female\", \"Male\", \"Female\", \"Female\", \"Male\", \"Female\", \"Male\", \"Male\", \"Female\", \"Male\", \"Female\", \"Male\", \"Female\", \"Male\", \"Male\", \"Female\", \"Male\", \"Female\", \"Female\", \"Male\", \"Female\", \"Female\", \"Male\", \"Male\", \"Female\", \"Female\", \"Male\", \"Female\", \"Male\", \"Female\", \"Male\", \"Female\", \"Female\", \"Female\", \"Female\", \"Female\", \"Female\", \"Male\", \"Female\", \"Female\", \"Female\", \"Male\", \"Male\", \"Female\", \"Female\", \"Male\", \"Female\", \"Male\", \"Male\", \"Female\", \"Female\", \"Male\", \"Female\", \"Male\", \"Male\", \"Female\", \"Female\", \"Female\", \"Female\", \"Male\", \"Female\", \"Female\", \"Female\", \"Female\", \"Male\", \"Female\", \"Female\", \"Female\", \"Female\", \"Female\", \"Female\", \"Male\"], \"x0\": \" \", \"xaxis\": \"x\", \"y\": [38.0, 26.0, 35.0, 27.0, 14.0, 4.0, 58.0, 55.0, 23.712007927530486, 18.134434110595002, 34.0, 15.0, 28.0, 38.0, 30.1149609414842, 30.063661636128565, 8.93981373916426, 14.0, 3.0, 19.0, 30.063661636128565, 49.0, 29.0, 27.719870769403443, 21.0, 5.0, 38.0, 2.5145866935262013, 29.0, 17.0, 32.0, 0.83, 30.0, 29.0, 30.078551140392, 17.0, 33.0, 23.0, 34.0, 21.0, 21.17204733505715, 30.263660036035667, 32.5, 12.0, 24.0, 14.534917331400113, 29.0, 19.0, 22.0, 24.0, 27.0, 22.0, 16.0, 40.0, 9.0, 41.36213340454479, 1.0, 1.0, 4.0, 26.82914771926899, 45.0, 32.0, 19.0, 3.0, 44.0, 30.063661636128565, 18.0, 26.0, 16.0, 40.0, 35.0, 27.0, 32.0, 16.0, 38.0, 19.0, 35.0, 5.0, 8.0, 26.82914771926899, 24.0, 37.0, 29.0, 42.25187257579973, 30.0, 50.0, 3.0, 25.0, 25.0, 41.0, 30.063661636128565, 63.0, 35.0, 19.0, 30.0, 42.0, 22.0, 26.0, 19.0, 25.734603534278193, 30.063661636128565, 14.398345806501164, 32.35546382421125, 30.0, 24.0, 26.0, 24.0, 30.0, 22.0, 36.0, 31.0, 16.0, 23.59463380240941, 45.0, 2.0, 24.0, 40.0, 27.362127146145227, 3.0, 22.0, 30.1149609414842, 30.1149609414842, 60.0, 18.136101735072508, 30.063661636128565, 24.0, 25.0, 37.11976082491804, 22.0, 1.0, 35.0, 36.0, 17.0, 21.0, 24.0, 28.0, 39.0, 3.0, 33.0, 44.0, 34.0, 18.0, 28.0, 19.0, 32.0, 28.0, 27.362127146145227, 42.0, 24.0, 45.0, 28.0, 21.306052873428108, 4.0, 13.0, 34.0, 5.0, 52.0, 49.0, 29.0, 37.10126766095535, 50.0, 48.0, 0.75, 33.0, 23.0, 2.0, 63.0, 25.0, 35.0, 9.0, 54.0, 16.0, 33.0, 24.16624241852925, 26.0, 29.0, 36.0, 54.0, 34.0, 36.0, 30.0, 44.0, 50.0, 2.0, 17.55002788494846, 7.0, 22.0, 36.0, 32.0, 19.0, 12.038944701082976, 8.0, 22.0, 22.0, 48.0, 39.0, 36.0, 32.0, 62.0, 53.0, 36.0, 30.063661636128565, 34.0, 39.0, 32.0, 25.0, 18.0, 60.0, 52.0, 40.849364863939726, 49.0, 24.0, 35.0, 27.0, 22.0, 26.82914771926899, 24.0, 4.0, 42.0, 20.0, 21.0, 80.0, 32.0, 28.0, 24.0, 40.51680891687518, 0.75, 48.0, 56.0, 23.0, 18.0, 30.09510826913295, 20.0, 37.1558625099213, 40.0, 31.0, 18.0, 27.0, 31.0, 4.0, 40.51680891687518, 30.057030843563247, 35.0, 45.0, 42.0, 2.5145866935262013, 24.0, 48.0, 27.0, 6.0, 27.0, 30.0, 30.058698468040753, 25.53607681076567, 31.0, 30.0, 4.0, 6.0, 48.0, 0.67, 33.0, 20.0, 51.0, 54.0, 5.0, 13.0, 17.0, 18.0, 1.0, 49.0, 31.0, 31.0, 0.42, 27.0, 33.0, 52.0, 27.0, 27.0, 1.0, 20.867373640220315, 62.0, 15.0, 0.83, 39.0, 32.0, 13.401438952151535, 30.0, 39.87269119452152, 16.0, 18.0, 51.0, 24.0, 48.0, 42.0, 27.0, 4.0, 47.0, 28.0, 15.0, 56.0, 25.0, 19.0, 26.0], \"y0\": \" \", \"yaxis\": \"y\"}],\n",
       "                        {\"height\": 500, \"legend\": {\"title\": {\"text\": \"Survived\"}, \"tracegroupgap\": 0}, \"margin\": {\"t\": 60}, \"template\": {\"data\": {\"bar\": [{\"error_x\": {\"color\": \"rgb(36,36,36)\"}, \"error_y\": {\"color\": \"rgb(36,36,36)\"}, \"marker\": {\"line\": {\"color\": \"white\", \"width\": 0.5}}, \"type\": \"bar\"}], \"barpolar\": [{\"marker\": {\"line\": {\"color\": \"white\", \"width\": 0.5}}, \"type\": \"barpolar\"}], \"carpet\": [{\"aaxis\": {\"endlinecolor\": \"rgb(36,36,36)\", \"gridcolor\": \"white\", \"linecolor\": \"white\", \"minorgridcolor\": \"white\", \"startlinecolor\": \"rgb(36,36,36)\"}, \"baxis\": {\"endlinecolor\": \"rgb(36,36,36)\", \"gridcolor\": \"white\", \"linecolor\": \"white\", \"minorgridcolor\": \"white\", \"startlinecolor\": \"rgb(36,36,36)\"}, \"type\": \"carpet\"}], \"choropleth\": [{\"colorbar\": {\"outlinewidth\": 1, \"tickcolor\": \"rgb(36,36,36)\", \"ticks\": \"outside\"}, \"type\": \"choropleth\"}], \"contour\": [{\"colorbar\": {\"outlinewidth\": 1, \"tickcolor\": \"rgb(36,36,36)\", \"ticks\": \"outside\"}, \"colorscale\": [[0.0, \"#440154\"], [0.1111111111111111, \"#482878\"], [0.2222222222222222, \"#3e4989\"], [0.3333333333333333, \"#31688e\"], [0.4444444444444444, \"#26828e\"], [0.5555555555555556, \"#1f9e89\"], [0.6666666666666666, \"#35b779\"], [0.7777777777777778, \"#6ece58\"], [0.8888888888888888, \"#b5de2b\"], [1.0, \"#fde725\"]], \"type\": \"contour\"}], \"contourcarpet\": [{\"colorbar\": {\"outlinewidth\": 1, \"tickcolor\": \"rgb(36,36,36)\", \"ticks\": \"outside\"}, \"type\": \"contourcarpet\"}], \"heatmap\": [{\"colorbar\": {\"outlinewidth\": 1, \"tickcolor\": \"rgb(36,36,36)\", \"ticks\": \"outside\"}, \"colorscale\": [[0.0, \"#440154\"], [0.1111111111111111, \"#482878\"], [0.2222222222222222, \"#3e4989\"], [0.3333333333333333, \"#31688e\"], [0.4444444444444444, \"#26828e\"], [0.5555555555555556, \"#1f9e89\"], [0.6666666666666666, \"#35b779\"], [0.7777777777777778, \"#6ece58\"], [0.8888888888888888, \"#b5de2b\"], [1.0, \"#fde725\"]], \"type\": \"heatmap\"}], \"heatmapgl\": [{\"colorbar\": {\"outlinewidth\": 1, \"tickcolor\": \"rgb(36,36,36)\", \"ticks\": \"outside\"}, \"colorscale\": [[0.0, \"#440154\"], [0.1111111111111111, \"#482878\"], [0.2222222222222222, \"#3e4989\"], [0.3333333333333333, \"#31688e\"], [0.4444444444444444, \"#26828e\"], [0.5555555555555556, \"#1f9e89\"], [0.6666666666666666, \"#35b779\"], [0.7777777777777778, \"#6ece58\"], [0.8888888888888888, \"#b5de2b\"], [1.0, \"#fde725\"]], \"type\": \"heatmapgl\"}], \"histogram\": [{\"marker\": {\"line\": {\"color\": \"white\", \"width\": 0.6}}, \"type\": \"histogram\"}], \"histogram2d\": [{\"colorbar\": {\"outlinewidth\": 1, \"tickcolor\": \"rgb(36,36,36)\", \"ticks\": \"outside\"}, \"colorscale\": [[0.0, \"#440154\"], [0.1111111111111111, \"#482878\"], [0.2222222222222222, \"#3e4989\"], [0.3333333333333333, \"#31688e\"], [0.4444444444444444, \"#26828e\"], [0.5555555555555556, \"#1f9e89\"], [0.6666666666666666, \"#35b779\"], [0.7777777777777778, \"#6ece58\"], [0.8888888888888888, \"#b5de2b\"], [1.0, \"#fde725\"]], \"type\": \"histogram2d\"}], \"histogram2dcontour\": [{\"colorbar\": {\"outlinewidth\": 1, \"tickcolor\": \"rgb(36,36,36)\", \"ticks\": \"outside\"}, \"colorscale\": [[0.0, \"#440154\"], [0.1111111111111111, \"#482878\"], [0.2222222222222222, \"#3e4989\"], [0.3333333333333333, \"#31688e\"], [0.4444444444444444, \"#26828e\"], [0.5555555555555556, \"#1f9e89\"], [0.6666666666666666, \"#35b779\"], [0.7777777777777778, \"#6ece58\"], [0.8888888888888888, \"#b5de2b\"], [1.0, \"#fde725\"]], \"type\": \"histogram2dcontour\"}], \"mesh3d\": [{\"colorbar\": {\"outlinewidth\": 1, \"tickcolor\": \"rgb(36,36,36)\", \"ticks\": \"outside\"}, \"type\": \"mesh3d\"}], \"parcoords\": [{\"line\": {\"colorbar\": {\"outlinewidth\": 1, \"tickcolor\": \"rgb(36,36,36)\", \"ticks\": \"outside\"}}, \"type\": \"parcoords\"}], \"pie\": [{\"automargin\": true, \"type\": \"pie\"}], \"scatter\": [{\"marker\": {\"colorbar\": {\"outlinewidth\": 1, \"tickcolor\": \"rgb(36,36,36)\", \"ticks\": \"outside\"}}, \"type\": \"scatter\"}], \"scatter3d\": [{\"line\": {\"colorbar\": {\"outlinewidth\": 1, \"tickcolor\": \"rgb(36,36,36)\", \"ticks\": \"outside\"}}, \"marker\": {\"colorbar\": {\"outlinewidth\": 1, \"tickcolor\": \"rgb(36,36,36)\", \"ticks\": \"outside\"}}, \"type\": \"scatter3d\"}], \"scattercarpet\": [{\"marker\": {\"colorbar\": {\"outlinewidth\": 1, \"tickcolor\": \"rgb(36,36,36)\", \"ticks\": \"outside\"}}, \"type\": \"scattercarpet\"}], \"scattergeo\": [{\"marker\": {\"colorbar\": {\"outlinewidth\": 1, \"tickcolor\": \"rgb(36,36,36)\", \"ticks\": \"outside\"}}, \"type\": \"scattergeo\"}], \"scattergl\": [{\"marker\": {\"colorbar\": {\"outlinewidth\": 1, \"tickcolor\": \"rgb(36,36,36)\", \"ticks\": \"outside\"}}, \"type\": \"scattergl\"}], \"scattermapbox\": [{\"marker\": {\"colorbar\": {\"outlinewidth\": 1, \"tickcolor\": \"rgb(36,36,36)\", \"ticks\": \"outside\"}}, \"type\": \"scattermapbox\"}], \"scatterpolar\": [{\"marker\": {\"colorbar\": {\"outlinewidth\": 1, \"tickcolor\": \"rgb(36,36,36)\", \"ticks\": \"outside\"}}, \"type\": \"scatterpolar\"}], \"scatterpolargl\": [{\"marker\": {\"colorbar\": {\"outlinewidth\": 1, \"tickcolor\": \"rgb(36,36,36)\", \"ticks\": \"outside\"}}, \"type\": \"scatterpolargl\"}], \"scatterternary\": [{\"marker\": {\"colorbar\": {\"outlinewidth\": 1, \"tickcolor\": \"rgb(36,36,36)\", \"ticks\": \"outside\"}}, \"type\": \"scatterternary\"}], \"surface\": [{\"colorbar\": {\"outlinewidth\": 1, \"tickcolor\": \"rgb(36,36,36)\", \"ticks\": \"outside\"}, \"colorscale\": [[0.0, \"#440154\"], [0.1111111111111111, \"#482878\"], [0.2222222222222222, \"#3e4989\"], [0.3333333333333333, \"#31688e\"], [0.4444444444444444, \"#26828e\"], [0.5555555555555556, \"#1f9e89\"], [0.6666666666666666, \"#35b779\"], [0.7777777777777778, \"#6ece58\"], [0.8888888888888888, \"#b5de2b\"], [1.0, \"#fde725\"]], \"type\": \"surface\"}], \"table\": [{\"cells\": {\"fill\": {\"color\": \"rgb(237,237,237)\"}, \"line\": {\"color\": \"white\"}}, \"header\": {\"fill\": {\"color\": \"rgb(217,217,217)\"}, \"line\": {\"color\": \"white\"}}, \"type\": \"table\"}]}, \"layout\": {\"annotationdefaults\": {\"arrowhead\": 0, \"arrowwidth\": 1}, \"coloraxis\": {\"colorbar\": {\"outlinewidth\": 1, \"tickcolor\": \"rgb(36,36,36)\", \"ticks\": \"outside\"}}, \"colorscale\": {\"diverging\": [[0.0, \"rgb(103,0,31)\"], [0.1, \"rgb(178,24,43)\"], [0.2, \"rgb(214,96,77)\"], [0.3, \"rgb(244,165,130)\"], [0.4, \"rgb(253,219,199)\"], [0.5, \"rgb(247,247,247)\"], [0.6, \"rgb(209,229,240)\"], [0.7, \"rgb(146,197,222)\"], [0.8, \"rgb(67,147,195)\"], [0.9, \"rgb(33,102,172)\"], [1.0, \"rgb(5,48,97)\"]], \"sequential\": [[0.0, \"#440154\"], [0.1111111111111111, \"#482878\"], [0.2222222222222222, \"#3e4989\"], [0.3333333333333333, \"#31688e\"], [0.4444444444444444, \"#26828e\"], [0.5555555555555556, \"#1f9e89\"], [0.6666666666666666, \"#35b779\"], [0.7777777777777778, \"#6ece58\"], [0.8888888888888888, \"#b5de2b\"], [1.0, \"#fde725\"]], \"sequentialminus\": [[0.0, \"#440154\"], [0.1111111111111111, \"#482878\"], [0.2222222222222222, \"#3e4989\"], [0.3333333333333333, \"#31688e\"], [0.4444444444444444, \"#26828e\"], [0.5555555555555556, \"#1f9e89\"], [0.6666666666666666, \"#35b779\"], [0.7777777777777778, \"#6ece58\"], [0.8888888888888888, \"#b5de2b\"], [1.0, \"#fde725\"]]}, \"colorway\": [\"#1F77B4\", \"#FF7F0E\", \"#2CA02C\", \"#D62728\", \"#9467BD\", \"#8C564B\", \"#E377C2\", \"#7F7F7F\", \"#BCBD22\", \"#17BECF\"], \"font\": {\"color\": \"rgb(36,36,36)\"}, \"geo\": {\"bgcolor\": \"white\", \"lakecolor\": \"white\", \"landcolor\": \"white\", \"showlakes\": true, \"showland\": true, \"subunitcolor\": \"white\"}, \"hoverlabel\": {\"align\": \"left\"}, \"hovermode\": \"closest\", \"mapbox\": {\"style\": \"light\"}, \"paper_bgcolor\": \"white\", \"plot_bgcolor\": \"white\", \"polar\": {\"angularaxis\": {\"gridcolor\": \"rgb(232,232,232)\", \"linecolor\": \"rgb(36,36,36)\", \"showgrid\": false, \"showline\": true, \"ticks\": \"outside\"}, \"bgcolor\": \"white\", \"radialaxis\": {\"gridcolor\": \"rgb(232,232,232)\", \"linecolor\": \"rgb(36,36,36)\", \"showgrid\": false, \"showline\": true, \"ticks\": \"outside\"}}, \"scene\": {\"xaxis\": {\"backgroundcolor\": \"white\", \"gridcolor\": \"rgb(232,232,232)\", \"gridwidth\": 2, \"linecolor\": \"rgb(36,36,36)\", \"showbackground\": true, \"showgrid\": false, \"showline\": true, \"ticks\": \"outside\", \"zeroline\": false, \"zerolinecolor\": \"rgb(36,36,36)\"}, \"yaxis\": {\"backgroundcolor\": \"white\", \"gridcolor\": \"rgb(232,232,232)\", \"gridwidth\": 2, \"linecolor\": \"rgb(36,36,36)\", \"showbackground\": true, \"showgrid\": false, \"showline\": true, \"ticks\": \"outside\", \"zeroline\": false, \"zerolinecolor\": \"rgb(36,36,36)\"}, \"zaxis\": {\"backgroundcolor\": \"white\", \"gridcolor\": \"rgb(232,232,232)\", \"gridwidth\": 2, \"linecolor\": \"rgb(36,36,36)\", \"showbackground\": true, \"showgrid\": false, \"showline\": true, \"ticks\": \"outside\", \"zeroline\": false, \"zerolinecolor\": \"rgb(36,36,36)\"}}, \"shapedefaults\": {\"fillcolor\": \"black\", \"line\": {\"width\": 0}, \"opacity\": 0.3}, \"ternary\": {\"aaxis\": {\"gridcolor\": \"rgb(232,232,232)\", \"linecolor\": \"rgb(36,36,36)\", \"showgrid\": false, \"showline\": true, \"ticks\": \"outside\"}, \"baxis\": {\"gridcolor\": \"rgb(232,232,232)\", \"linecolor\": \"rgb(36,36,36)\", \"showgrid\": false, \"showline\": true, \"ticks\": \"outside\"}, \"bgcolor\": \"white\", \"caxis\": {\"gridcolor\": \"rgb(232,232,232)\", \"linecolor\": \"rgb(36,36,36)\", \"showgrid\": false, \"showline\": true, \"ticks\": \"outside\"}}, \"title\": {\"x\": 0.05}, \"xaxis\": {\"automargin\": true, \"gridcolor\": \"rgb(232,232,232)\", \"linecolor\": \"rgb(36,36,36)\", \"showgrid\": false, \"showline\": true, \"ticks\": \"outside\", \"title\": {\"standoff\": 15}, \"zeroline\": false, \"zerolinecolor\": \"rgb(36,36,36)\"}, \"yaxis\": {\"automargin\": true, \"gridcolor\": \"rgb(232,232,232)\", \"linecolor\": \"rgb(36,36,36)\", \"showgrid\": false, \"showline\": true, \"ticks\": \"outside\", \"title\": {\"standoff\": 15}, \"zeroline\": false, \"zerolinecolor\": \"rgb(36,36,36)\"}}}, \"title\": {\"text\": \"Interaction between Age and Sex\", \"x\": 0.5}, \"violinmode\": \"group\", \"width\": 850, \"xaxis\": {\"anchor\": \"y\", \"domain\": [0.0, 1.0], \"title\": {\"text\": \"Sex\"}}, \"yaxis\": {\"anchor\": \"x\", \"domain\": [0.0, 1.0], \"title\": {\"text\": \"Age\"}}},\n",
       "                        {\"responsive\": true}\n",
       "                    ).then(function(){\n",
       "                            \n",
       "var gd = document.getElementById('f1cf344b-d26b-44da-89c2-b073811bc25b');\n",
       "var x = new MutationObserver(function (mutations, observer) {{\n",
       "        var display = window.getComputedStyle(gd).display;\n",
       "        if (!display || display === 'none') {{\n",
       "            console.log([gd, 'removed!']);\n",
       "            Plotly.purge(gd);\n",
       "            observer.disconnect();\n",
       "        }}\n",
       "}});\n",
       "\n",
       "// Listen for the removal of the full notebook cells\n",
       "var notebookContainer = gd.closest('#notebook-container');\n",
       "if (notebookContainer) {{\n",
       "    x.observe(notebookContainer, {childList: true});\n",
       "}}\n",
       "\n",
       "// Listen for the clearing of the current output cell\n",
       "var outputEl = gd.closest('.output');\n",
       "if (outputEl) {{\n",
       "    x.observe(outputEl, {childList: true});\n",
       "}}\n",
       "\n",
       "                        })\n",
       "                };\n",
       "                });\n",
       "            </script>\n",
       "        </div>"
      ]
     },
     "metadata": {},
     "output_type": "display_data"
    }
   ],
   "source": [
    "age_sex = px.violin(\n",
    "    titanic, \n",
    "    x = 'Sex', \n",
    "    y = 'Age', \n",
    "    color = 'Survived', \n",
    "    box = True, \n",
    "    points = 'all',\n",
    "    color_discrete_map = {1 : px.colors.sequential.Teal[5], 0 : px.colors.sequential.Peach[5]}\n",
    ")\n",
    "\n",
    "age_sex.update_layout(\n",
    "    title = 'Interaction between Age and Sex',\n",
    "    title_x = 0.5,\n",
    "    width = 850,\n",
    "    height = 500\n",
    ")\n",
    "\n",
    "age_sex.show(renderer = 'notebook_connected')"
   ]
  },
  {
   "cell_type": "code",
   "execution_count": 50,
   "metadata": {},
   "outputs": [
    {
     "data": {
      "text/html": [
       "<div>\n",
       "<style scoped>\n",
       "    .dataframe tbody tr th:only-of-type {\n",
       "        vertical-align: middle;\n",
       "    }\n",
       "\n",
       "    .dataframe tbody tr th {\n",
       "        vertical-align: top;\n",
       "    }\n",
       "\n",
       "    .dataframe thead th {\n",
       "        text-align: right;\n",
       "    }\n",
       "</style>\n",
       "<table border=\"1\" class=\"dataframe\">\n",
       "  <thead>\n",
       "    <tr style=\"text-align: right;\">\n",
       "      <th>Survived</th>\n",
       "      <th>0</th>\n",
       "      <th>1</th>\n",
       "    </tr>\n",
       "    <tr>\n",
       "      <th>Sex</th>\n",
       "      <th></th>\n",
       "      <th></th>\n",
       "    </tr>\n",
       "  </thead>\n",
       "  <tbody>\n",
       "    <tr>\n",
       "      <th>Female</th>\n",
       "      <td>25.527854</td>\n",
       "      <td>28.445641</td>\n",
       "    </tr>\n",
       "    <tr>\n",
       "      <th>Male</th>\n",
       "      <td>30.394304</td>\n",
       "      <td>26.233388</td>\n",
       "    </tr>\n",
       "  </tbody>\n",
       "</table>\n",
       "</div>"
      ],
      "text/plain": [
       "Survived          0          1\n",
       "Sex                           \n",
       "Female    25.527854  28.445641\n",
       "Male      30.394304  26.233388"
      ]
     },
     "execution_count": 50,
     "metadata": {},
     "output_type": "execute_result"
    }
   ],
   "source": [
    "# Exploring interaction with pivot table\n",
    "pd.pivot_table(titanic, values = 'Age', index = 'Sex', columns = 'Survived', aggfunc = 'mean')"
   ]
  },
  {
   "cell_type": "markdown",
   "metadata": {},
   "source": [
    "We can see the interaction between *Sex* and *Age* potentially exists when it comes to predicting the outcome. More specifically, it seems the average age for female survivors was higher in comparison to female passengers who didn't survive, while the pattern is reversed for male passengers - younger males were more likely to survive than older males. UBACI OBJASNJENJE ZA OVO"
   ]
  },
  {
   "cell_type": "markdown",
   "metadata": {},
   "source": [
    "-----------------------------------------------"
   ]
  },
  {
   "cell_type": "code",
   "execution_count": null,
   "metadata": {},
   "outputs": [],
   "source": []
  },
  {
   "cell_type": "markdown",
   "metadata": {},
   "source": [
    "# 3. Data Preprocessing"
   ]
  },
  {
   "cell_type": "code",
   "execution_count": null,
   "metadata": {},
   "outputs": [],
   "source": []
  },
  {
   "cell_type": "markdown",
   "metadata": {},
   "source": [
    "# 4. Model Development"
   ]
  },
  {
   "cell_type": "markdown",
   "metadata": {},
   "source": [
    "# 5. Hyperparameter Tuning"
   ]
  },
  {
   "cell_type": "markdown",
   "metadata": {},
   "source": [
    "# 6. Ensemble Models"
   ]
  },
  {
   "cell_type": "markdown",
   "metadata": {},
   "source": [
    "# 7. Model Evaluation and Visualization"
   ]
  },
  {
   "cell_type": "markdown",
   "metadata": {},
   "source": [
    "# 8. Concluding Remarks"
   ]
  }
 ],
 "metadata": {
  "kernelspec": {
   "display_name": "Python 3",
   "language": "python",
   "name": "python3"
  },
  "language_info": {
   "codemirror_mode": {
    "name": "ipython",
    "version": 3
   },
   "file_extension": ".py",
   "mimetype": "text/x-python",
   "name": "python",
   "nbconvert_exporter": "python",
   "pygments_lexer": "ipython3",
   "version": "3.8.3"
  }
 },
 "nbformat": 4,
 "nbformat_minor": 4
}
